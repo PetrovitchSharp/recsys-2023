{
 "cells": [
  {
   "cell_type": "code",
   "execution_count": 1,
   "id": "1be8d0e7",
   "metadata": {},
   "outputs": [],
   "source": [
    "import warnings\n",
    "from math import isclose\n",
    "from timeit import timeit\n",
    "\n",
    "import pandas as pd\n",
    "import numpy as np\n",
    "import plotly.graph_objects as go"
   ]
  },
  {
   "cell_type": "code",
   "execution_count": 2,
   "id": "c8932391",
   "metadata": {},
   "outputs": [],
   "source": [
    "# Disable warnings\n",
    "warnings.filterwarnings('ignore')"
   ]
  },
  {
   "cell_type": "markdown",
   "id": "9328e753",
   "metadata": {},
   "source": [
    "## Data loading"
   ]
  },
  {
   "cell_type": "code",
   "execution_count": 3,
   "id": "be5ee48f",
   "metadata": {},
   "outputs": [],
   "source": [
    "query_df = pd.read_csv('qid_query.tsv', sep='\\t', names = ['query_id','request'])\n",
    "\n",
    "url_rating_df = pd.read_csv('qid_url_rating.tsv', sep='\\t', names = ['query_id','url','rel'])\n",
    "\n",
    "host_df = pd.read_csv('hostid_url.tsv', sep='\\t', names = ['host_id','url'])"
   ]
  },
  {
   "cell_type": "code",
   "execution_count": 4,
   "id": "a3813f3a",
   "metadata": {},
   "outputs": [],
   "source": [
    "merged_df = pd.merge(url_rating_df, host_df, on=\"url\")"
   ]
  },
  {
   "cell_type": "markdown",
   "id": "ccd1db08",
   "metadata": {},
   "source": [
    "## PFound realizations"
   ]
  },
  {
   "cell_type": "code",
   "execution_count": 5,
   "id": "7b0dc3d4",
   "metadata": {},
   "outputs": [],
   "source": [
    "def pFound(merged_df: pd.DataFrame, k: int) -> float:\n",
    "    '''Calculate mean pFound of queries'''   \n",
    "    # Select most relevant document for each host\n",
    "    unique_hosts_df = merged_df\\\n",
    "        .groupby(['query_id','host_id'])\\\n",
    "        .rel.max().reset_index()\n",
    "\n",
    "    # Sort by relevancy for each host  and get top k most relevant documents for each query                              \n",
    "    top_k_df = unique_hosts_df\\\n",
    "        .sort_values(['query_id', 'rel'], ascending=False)\\\n",
    "        .groupby(['query_id']).head(k)\n",
    "        \n",
    "    # Set inner order for items grouped by queries\n",
    "    top_k_df['order'] = top_k_df.groupby('query_id').cumcount()\n",
    "\n",
    "    # Set break coefficient to 0.85 for each document\n",
    "    top_k_df['break_coef'] = np.full(len(top_k_df), 0.85)\n",
    "    # And set break coefficient to 1 for each first relevant document\n",
    "    top_k_df.loc[top_k_df['order'] == 0, 'break_coef'] = 1\n",
    "    \n",
    "    # We need previous pRel to caltulate current pLook\n",
    "    # So we can shift values of relevancy and set first values for each query to 0\n",
    "    # Because there are no previous values for them\n",
    "    top_k_df['rel_prev'] = top_k_df.groupby('query_id').rel.shift(1)\n",
    "    top_k_df.fillna(0, inplace=True)\n",
    "    \n",
    "    \n",
    "    # Set pLook to 1 (temporarily)\n",
    "    top_k_df['p_look'] = np.ones(len(top_k_df))\n",
    "    \n",
    "    # At each step we multiply pLook by (1-pRel_prev)(1-pBreak)\n",
    "    # So we can do it before consistently calculation of pLook\n",
    "    top_k_df['p_look'] = top_k_df.p_look * top_k_df.break_coef * (1 - top_k_df.rel_prev)\n",
    "    \n",
    "    # And now we can consistently calculate pLook values as cummulative product \n",
    "    # of previous values ()\n",
    "    top_k_df['p_look'] = top_k_df.groupby('query_id').p_look.cumprod()\n",
    "    \n",
    "    # Now we have to calculate components of final sums as product of pLook and pRel\n",
    "    top_k_df['sum_component'] = top_k_df.p_look * top_k_df.rel\n",
    "    \n",
    "    # And finally we return mean value of sums for each query\n",
    "    return top_k_df.groupby('query_id').sum_component.sum().mean()"
   ]
  },
  {
   "cell_type": "code",
   "execution_count": 6,
   "id": "3aa655d8",
   "metadata": {},
   "outputs": [],
   "source": [
    "def yandex_cup_pFound(k):\n",
    "    qid_url_rating_hostid = pd.merge(url_rating_df, host_df, on=\"url\")\n",
    "    \n",
    "    def plook(ind, rels):\n",
    "        if ind == 0:\n",
    "                    return 1\n",
    "        return plook(ind-1, rels)*(1-rels[ind-1])*(1-0.15)\n",
    "\n",
    "    def pfound(group):\n",
    "        max_by_host = group.groupby(\"host_id\")[\"rel\"].max() # максимальный рейтинг хоста\n",
    "        top10 = max_by_host.sort_values(ascending=False)[:k] # берем топ10 урлов с наивысшим рейтингом\n",
    "        pfound = 0\n",
    "        for ind, val in enumerate(top10):\n",
    "                    pfound += val*plook(ind, top10.values)\n",
    "        return pfound\n",
    "\n",
    "    qid_pfound = qid_url_rating_hostid.groupby('query_id').apply(pfound) # группируем по qid и вычисляем pfound\n",
    "    \n",
    "    return qid_pfound.mean()"
   ]
  },
  {
   "cell_type": "markdown",
   "id": "ef8d117e",
   "metadata": {},
   "source": [
    "## Verification of correctness"
   ]
  },
  {
   "cell_type": "code",
   "execution_count": 7,
   "id": "b02664a6",
   "metadata": {},
   "outputs": [
    {
     "name": "stdout",
     "output_type": "stream",
     "text": [
      "Mean pFound@5 (Pandas): 0.4094605981825536\n",
      "Mean pFound@5 (Naive): 0.40946059818255354\n",
      "Is equal: True\n"
     ]
    }
   ],
   "source": [
    "k = 5\n",
    "\n",
    "print(f'Mean pFound@{k} (Pandas): {pFound(merged_df, k)}')\n",
    "print(f'Mean pFound@{k} (Naive): {yandex_cup_pFound(k)}')\n",
    "\n",
    "print('Is equal:', isclose(pFound(merged_df,k), yandex_cup_pFound(k)))"
   ]
  },
  {
   "cell_type": "markdown",
   "id": "fa72bfe9",
   "metadata": {},
   "source": [
    "## Performance check"
   ]
  },
  {
   "cell_type": "code",
   "execution_count": 8,
   "id": "2f60dcbe",
   "metadata": {},
   "outputs": [],
   "source": [
    "df_rows = []\n",
    "k_values = list(range(5, 70 + 1))\n",
    "\n",
    "for k in k_values:\n",
    "    df_rows.append({\n",
    "        'k': k,\n",
    "        'pandas': timeit(f'pFound(merged_df, {k})', globals=globals(), number = 1),\n",
    "        'naive': timeit(f'yandex_cup_pFound({k})', globals=globals(), number = 1),\n",
    "    })\n",
    "\n",
    "execution_time_df = pd.DataFrame(df_rows)\n",
    "    "
   ]
  },
  {
   "cell_type": "code",
   "execution_count": 9,
   "id": "7114d788",
   "metadata": {},
   "outputs": [
    {
     "data": {
      "text/html": [
       "<div>\n",
       "<style scoped>\n",
       "    .dataframe tbody tr th:only-of-type {\n",
       "        vertical-align: middle;\n",
       "    }\n",
       "\n",
       "    .dataframe tbody tr th {\n",
       "        vertical-align: top;\n",
       "    }\n",
       "\n",
       "    .dataframe thead th {\n",
       "        text-align: right;\n",
       "    }\n",
       "</style>\n",
       "<table border=\"1\" class=\"dataframe\">\n",
       "  <thead>\n",
       "    <tr style=\"text-align: right;\">\n",
       "      <th></th>\n",
       "      <th>k</th>\n",
       "      <th>pandas</th>\n",
       "      <th>naive</th>\n",
       "    </tr>\n",
       "  </thead>\n",
       "  <tbody>\n",
       "    <tr>\n",
       "      <th>0</th>\n",
       "      <td>5</td>\n",
       "      <td>0.011972</td>\n",
       "      <td>0.021611</td>\n",
       "    </tr>\n",
       "    <tr>\n",
       "      <th>1</th>\n",
       "      <td>6</td>\n",
       "      <td>0.009955</td>\n",
       "      <td>0.018612</td>\n",
       "    </tr>\n",
       "    <tr>\n",
       "      <th>2</th>\n",
       "      <td>7</td>\n",
       "      <td>0.008361</td>\n",
       "      <td>0.017483</td>\n",
       "    </tr>\n",
       "    <tr>\n",
       "      <th>3</th>\n",
       "      <td>8</td>\n",
       "      <td>0.008061</td>\n",
       "      <td>0.017583</td>\n",
       "    </tr>\n",
       "    <tr>\n",
       "      <th>4</th>\n",
       "      <td>9</td>\n",
       "      <td>0.008430</td>\n",
       "      <td>0.017541</td>\n",
       "    </tr>\n",
       "    <tr>\n",
       "      <th>...</th>\n",
       "      <td>...</td>\n",
       "      <td>...</td>\n",
       "      <td>...</td>\n",
       "    </tr>\n",
       "    <tr>\n",
       "      <th>61</th>\n",
       "      <td>66</td>\n",
       "      <td>0.008133</td>\n",
       "      <td>0.023935</td>\n",
       "    </tr>\n",
       "    <tr>\n",
       "      <th>62</th>\n",
       "      <td>67</td>\n",
       "      <td>0.008021</td>\n",
       "      <td>0.024077</td>\n",
       "    </tr>\n",
       "    <tr>\n",
       "      <th>63</th>\n",
       "      <td>68</td>\n",
       "      <td>0.007993</td>\n",
       "      <td>0.023667</td>\n",
       "    </tr>\n",
       "    <tr>\n",
       "      <th>64</th>\n",
       "      <td>69</td>\n",
       "      <td>0.008044</td>\n",
       "      <td>0.023563</td>\n",
       "    </tr>\n",
       "    <tr>\n",
       "      <th>65</th>\n",
       "      <td>70</td>\n",
       "      <td>0.008451</td>\n",
       "      <td>0.023499</td>\n",
       "    </tr>\n",
       "  </tbody>\n",
       "</table>\n",
       "<p>66 rows × 3 columns</p>\n",
       "</div>"
      ],
      "text/plain": [
       "     k    pandas     naive\n",
       "0    5  0.011972  0.021611\n",
       "1    6  0.009955  0.018612\n",
       "2    7  0.008361  0.017483\n",
       "3    8  0.008061  0.017583\n",
       "4    9  0.008430  0.017541\n",
       "..  ..       ...       ...\n",
       "61  66  0.008133  0.023935\n",
       "62  67  0.008021  0.024077\n",
       "63  68  0.007993  0.023667\n",
       "64  69  0.008044  0.023563\n",
       "65  70  0.008451  0.023499\n",
       "\n",
       "[66 rows x 3 columns]"
      ]
     },
     "execution_count": 9,
     "metadata": {},
     "output_type": "execute_result"
    }
   ],
   "source": [
    "execution_time_df"
   ]
  },
  {
   "cell_type": "code",
   "execution_count": 10,
   "id": "41451f82",
   "metadata": {},
   "outputs": [],
   "source": [
    "# Data fot line plotting\n",
    "pandas = execution_time_df.pandas\n",
    "naive = execution_time_df.naive"
   ]
  },
  {
   "cell_type": "code",
   "execution_count": 11,
   "id": "4f878a42",
   "metadata": {},
   "outputs": [
    {
     "data": {
      "image/svg+xml": [
       "<svg class=\"main-svg\" xmlns=\"http://www.w3.org/2000/svg\" xmlns:xlink=\"http://www.w3.org/1999/xlink\" width=\"700\" height=\"500\" style=\"\" viewBox=\"0 0 700 500\"><rect x=\"0\" y=\"0\" width=\"700\" height=\"500\" style=\"fill: rgb(255, 255, 255); fill-opacity: 1;\"/><defs id=\"defs-dc7686\"><g class=\"clips\"><clipPath id=\"clipdc7686xyplot\" class=\"plotclip\"><rect width=\"509\" height=\"320\"/></clipPath><clipPath class=\"axesclip\" id=\"clipdc7686x\"><rect x=\"80\" y=\"0\" width=\"509\" height=\"500\"/></clipPath><clipPath class=\"axesclip\" id=\"clipdc7686y\"><rect x=\"0\" y=\"100\" width=\"700\" height=\"320\"/></clipPath><clipPath class=\"axesclip\" id=\"clipdc7686xy\"><rect x=\"80\" y=\"100\" width=\"509\" height=\"320\"/></clipPath></g><g class=\"gradients\"/><g class=\"patterns\"/></defs><g class=\"bglayer\"><rect class=\"bg\" x=\"80\" y=\"100\" width=\"509\" height=\"320\" style=\"fill: rgb(229, 236, 246); fill-opacity: 1; stroke-width: 0;\"/></g><g class=\"layer-below\"><g class=\"imagelayer\"/><g class=\"shapelayer\"/></g><g class=\"cartesianlayer\"><g class=\"subplot xy\"><g class=\"layer-subplot\"><g class=\"shapelayer\"/><g class=\"imagelayer\"/></g><g class=\"minor-gridlayer\"><g class=\"x\"/><g class=\"y\"/></g><g class=\"gridlayer\"><g class=\"x\"><path class=\"xgrid crisp\" transform=\"translate(119.15,0)\" d=\"M0,100v320\" style=\"stroke: rgb(255, 255, 255); stroke-opacity: 1; stroke-width: 1px;\"/><path class=\"xgrid crisp\" transform=\"translate(197.45999999999998,0)\" d=\"M0,100v320\" style=\"stroke: rgb(255, 255, 255); stroke-opacity: 1; stroke-width: 1px;\"/><path class=\"xgrid crisp\" transform=\"translate(275.77,0)\" d=\"M0,100v320\" style=\"stroke: rgb(255, 255, 255); stroke-opacity: 1; stroke-width: 1px;\"/><path class=\"xgrid crisp\" transform=\"translate(354.08,0)\" d=\"M0,100v320\" style=\"stroke: rgb(255, 255, 255); stroke-opacity: 1; stroke-width: 1px;\"/><path class=\"xgrid crisp\" transform=\"translate(432.38,0)\" d=\"M0,100v320\" style=\"stroke: rgb(255, 255, 255); stroke-opacity: 1; stroke-width: 1px;\"/><path class=\"xgrid crisp\" transform=\"translate(510.69,0)\" d=\"M0,100v320\" style=\"stroke: rgb(255, 255, 255); stroke-opacity: 1; stroke-width: 1px;\"/></g><g class=\"y\"><path class=\"ygrid crisp\" transform=\"translate(0,377.43)\" d=\"M80,0h509\" style=\"stroke: rgb(255, 255, 255); stroke-opacity: 1; stroke-width: 1px;\"/><path class=\"ygrid crisp\" transform=\"translate(0,313.53999999999996)\" d=\"M80,0h509\" style=\"stroke: rgb(255, 255, 255); stroke-opacity: 1; stroke-width: 1px;\"/><path class=\"ygrid crisp\" transform=\"translate(0,249.64)\" d=\"M80,0h509\" style=\"stroke: rgb(255, 255, 255); stroke-opacity: 1; stroke-width: 1px;\"/><path class=\"ygrid crisp\" transform=\"translate(0,185.75)\" d=\"M80,0h509\" style=\"stroke: rgb(255, 255, 255); stroke-opacity: 1; stroke-width: 1px;\"/><path class=\"ygrid crisp\" transform=\"translate(0,121.85)\" d=\"M80,0h509\" style=\"stroke: rgb(255, 255, 255); stroke-opacity: 1; stroke-width: 1px;\"/></g></g><g class=\"zerolinelayer\"/><path class=\"xlines-below\"/><path class=\"ylines-below\"/><g class=\"overlines-below\"/><g class=\"xaxislayer-below\"/><g class=\"yaxislayer-below\"/><g class=\"overaxes-below\"/><g class=\"plot\" transform=\"translate(80,100)\" clip-path=\"url(#clipdc7686xyplot)\"><g class=\"scatterlayer mlayer\"><g class=\"trace scatter traceee73e4\" style=\"stroke-miterlimit: 2; opacity: 1;\"><g class=\"fills\"/><g class=\"errorbars\"/><g class=\"lines\"><path class=\"js-line\" d=\"M0,252.23L7.83,278L15.66,298.37L23.49,302.2L31.32,297.49L39.15,302.78L46.98,300.86L62.65,302.23L70.48,296.73L78.31,301.35L86.14,302.59L93.97,300.55L101.8,302.39L109.63,301.68L117.46,302.19L133.12,302.66L140.95,287.13L148.78,301.42L156.62,300.94L164.45,303.23L172.28,303.42L180.11,301.73L187.94,302.29L195.77,302.44L203.6,303.87L211.43,302.49L219.26,302.3L227.09,302.12L234.92,300.7L242.75,282.86L250.58,302.54L258.42,302.89L266.25,299.31L274.08,296.49L281.91,297.8L289.74,302.27L297.57,303.35L305.4,303.73L313.23,242.86L321.06,300.6L328.89,302.8L336.72,302.31L344.55,303.26L352.38,304L360.22,303.69L368.05,302.64L375.88,260.36L383.71,275.45L391.54,302.36L399.37,268.11L407.2,265.9L415.03,298.07L422.86,299.39L430.69,295.05L438.52,301.7L446.35,300.68L454.18,302.46L462.02,303.53L469.85,303.36L477.68,301.29L485.51,302.71L493.34,303.07L501.17,302.43L509,297.23\" style=\"vector-effect: non-scaling-stroke; fill: none; stroke: rgb(99, 110, 250); stroke-opacity: 1; stroke-width: 1px; opacity: 1;\"/></g><g class=\"points\"/><g class=\"text\"/></g><g class=\"trace scatter trace0efbf7\" style=\"stroke-miterlimit: 2; opacity: 1;\"><g class=\"fills\"/><g class=\"errorbars\"/><g class=\"lines\"><path class=\"js-line\" d=\"M0,129.06L7.83,167.38L15.66,181.81L23.49,180.52L31.32,181.06L39.15,179.47L46.98,180.82L62.65,169.51L70.48,175.12L86.14,169.63L93.97,168.16L109.63,165.62L117.46,162.99L125.29,160.74L133.12,155.95L140.95,152.7L148.78,153.86L164.45,148.35L172.28,147.66L180.11,145.08L187.94,141.59L203.6,136.88L211.43,132.33L219.26,131.94L227.09,130.42L234.92,121.69L242.75,82.91L250.58,123.29L258.42,124.6L266.25,119.83L274.08,118.29L281.91,110.27L289.74,114.03L297.57,114.81L305.4,86.38L313.23,16L321.06,112.08L328.89,106.07L336.72,108.86L344.55,108.62L352.38,89.73L360.22,78.4L368.05,18.67L375.88,45.51L383.71,46L391.54,29.98L399.37,77.12L407.2,79.99L415.03,105.23L422.86,106.28L430.69,108.13L438.52,108.62L446.35,108.32L454.18,108.87L462.02,98.95L469.85,96.07L477.68,99.35L485.51,97.54L493.34,102.78L509,104.93\" style=\"vector-effect: non-scaling-stroke; fill: none; stroke: rgb(239, 85, 59); stroke-opacity: 1; stroke-width: 1px; opacity: 1;\"/></g><g class=\"points\"/><g class=\"text\"/></g></g></g><g class=\"overplot\"/><path class=\"xlines-above crisp\" d=\"M0,0\" style=\"fill: none;\"/><path class=\"ylines-above crisp\" d=\"M0,0\" style=\"fill: none;\"/><g class=\"overlines-above\"/><g class=\"xaxislayer-above\"><g class=\"xtick\"><text text-anchor=\"middle\" x=\"0\" y=\"433\" transform=\"translate(119.15,0)\" style=\"font-family: 'Open Sans', verdana, arial, sans-serif; font-size: 12px; fill: rgb(42, 63, 95); fill-opacity: 1; white-space: pre; opacity: 1;\">10</text></g><g class=\"xtick\"><text text-anchor=\"middle\" x=\"0\" y=\"433\" style=\"font-family: 'Open Sans', verdana, arial, sans-serif; font-size: 12px; fill: rgb(42, 63, 95); fill-opacity: 1; white-space: pre; opacity: 1;\" transform=\"translate(197.45999999999998,0)\">20</text></g><g class=\"xtick\"><text text-anchor=\"middle\" x=\"0\" y=\"433\" style=\"font-family: 'Open Sans', verdana, arial, sans-serif; font-size: 12px; fill: rgb(42, 63, 95); fill-opacity: 1; white-space: pre; opacity: 1;\" transform=\"translate(275.77,0)\">30</text></g><g class=\"xtick\"><text text-anchor=\"middle\" x=\"0\" y=\"433\" style=\"font-family: 'Open Sans', verdana, arial, sans-serif; font-size: 12px; fill: rgb(42, 63, 95); fill-opacity: 1; white-space: pre; opacity: 1;\" transform=\"translate(354.08,0)\">40</text></g><g class=\"xtick\"><text text-anchor=\"middle\" x=\"0\" y=\"433\" style=\"font-family: 'Open Sans', verdana, arial, sans-serif; font-size: 12px; fill: rgb(42, 63, 95); fill-opacity: 1; white-space: pre; opacity: 1;\" transform=\"translate(432.38,0)\">50</text></g><g class=\"xtick\"><text text-anchor=\"middle\" x=\"0\" y=\"433\" style=\"font-family: 'Open Sans', verdana, arial, sans-serif; font-size: 12px; fill: rgb(42, 63, 95); fill-opacity: 1; white-space: pre; opacity: 1;\" transform=\"translate(510.69,0)\">60</text></g><g class=\"xtick\"><text text-anchor=\"middle\" x=\"0\" y=\"433\" style=\"font-family: 'Open Sans', verdana, arial, sans-serif; font-size: 12px; fill: rgb(42, 63, 95); fill-opacity: 1; white-space: pre; opacity: 1;\" transform=\"translate(589,0)\">70</text></g></g><g class=\"yaxislayer-above\"><g class=\"ytick\"><text text-anchor=\"end\" x=\"79\" y=\"4.199999999999999\" transform=\"translate(0,377.43)\" style=\"font-family: 'Open Sans', verdana, arial, sans-serif; font-size: 12px; fill: rgb(42, 63, 95); fill-opacity: 1; white-space: pre; opacity: 1;\">0.01</text></g><g class=\"ytick\"><text text-anchor=\"end\" x=\"79\" y=\"4.199999999999999\" style=\"font-family: 'Open Sans', verdana, arial, sans-serif; font-size: 12px; fill: rgb(42, 63, 95); fill-opacity: 1; white-space: pre; opacity: 1;\" transform=\"translate(0,313.53999999999996)\">0.015</text></g><g class=\"ytick\"><text text-anchor=\"end\" x=\"79\" y=\"4.199999999999999\" style=\"font-family: 'Open Sans', verdana, arial, sans-serif; font-size: 12px; fill: rgb(42, 63, 95); fill-opacity: 1; white-space: pre; opacity: 1;\" transform=\"translate(0,249.64)\">0.02</text></g><g class=\"ytick\"><text text-anchor=\"end\" x=\"79\" y=\"4.199999999999999\" style=\"font-family: 'Open Sans', verdana, arial, sans-serif; font-size: 12px; fill: rgb(42, 63, 95); fill-opacity: 1; white-space: pre; opacity: 1;\" transform=\"translate(0,185.75)\">0.025</text></g><g class=\"ytick\"><text text-anchor=\"end\" x=\"79\" y=\"4.199999999999999\" style=\"font-family: 'Open Sans', verdana, arial, sans-serif; font-size: 12px; fill: rgb(42, 63, 95); fill-opacity: 1; white-space: pre; opacity: 1;\" transform=\"translate(0,121.85)\">0.03</text></g></g><g class=\"overaxes-above\"/></g></g><g class=\"polarlayer\"/><g class=\"smithlayer\"/><g class=\"ternarylayer\"/><g class=\"geolayer\"/><g class=\"funnelarealayer\"/><g class=\"pielayer\"/><g class=\"iciclelayer\"/><g class=\"treemaplayer\"/><g class=\"sunburstlayer\"/><g class=\"glimages\"/><defs id=\"topdefs-dc7686\"><g class=\"clips\"/><clipPath id=\"legenddc7686\"><rect width=\"89\" height=\"48\" x=\"0\" y=\"0\"/></clipPath></defs><g class=\"layer-above\"><g class=\"imagelayer\"/><g class=\"shapelayer\"/></g><g class=\"infolayer\"><g class=\"legend\" pointer-events=\"all\" transform=\"translate(599.1800000000001,100)\"><rect class=\"bg\" shape-rendering=\"crispEdges\" style=\"stroke: rgb(68, 68, 68); stroke-opacity: 1; fill: rgb(255, 255, 255); fill-opacity: 1; stroke-width: 0px;\" width=\"89\" height=\"48\" x=\"0\" y=\"0\"/><g class=\"scrollbox\" transform=\"\" clip-path=\"url(#legenddc7686)\"><g class=\"groups\"><g class=\"traces\" transform=\"translate(0,14.5)\" style=\"opacity: 1;\"><text class=\"legendtext\" text-anchor=\"start\" x=\"40\" y=\"4.680000000000001\" style=\"font-family: 'Open Sans', verdana, arial, sans-serif; font-size: 12px; fill: rgb(42, 63, 95); fill-opacity: 1; white-space: pre;\">Pandas</text><g class=\"layers\" style=\"opacity: 1;\"><g class=\"legendfill\"/><g class=\"legendlines\"><path class=\"js-line\" d=\"M5,0h30\" style=\"fill: none; stroke: rgb(99, 110, 250); stroke-opacity: 1; stroke-width: 1px;\"/></g><g class=\"legendsymbols\"><g class=\"legendpoints\"/></g></g><rect class=\"legendtoggle\" x=\"0\" y=\"-9.5\" width=\"83.4375\" height=\"19\" style=\"fill: rgb(0, 0, 0); fill-opacity: 0;\"/></g><g class=\"traces\" transform=\"translate(0,33.5)\" style=\"opacity: 1;\"><text class=\"legendtext\" text-anchor=\"start\" x=\"40\" y=\"4.680000000000001\" style=\"font-family: 'Open Sans', verdana, arial, sans-serif; font-size: 12px; fill: rgb(42, 63, 95); fill-opacity: 1; white-space: pre;\">Naive</text><g class=\"layers\" style=\"opacity: 1;\"><g class=\"legendfill\"/><g class=\"legendlines\"><path class=\"js-line\" d=\"M5,0h30\" style=\"fill: none; stroke: rgb(239, 85, 59); stroke-opacity: 1; stroke-width: 1px;\"/></g><g class=\"legendsymbols\"><g class=\"legendpoints\"/></g></g><rect class=\"legendtoggle\" x=\"0\" y=\"-9.5\" width=\"83.4375\" height=\"19\" style=\"fill: rgb(0, 0, 0); fill-opacity: 0;\"/></g></g></g><rect class=\"scrollbar\" rx=\"20\" ry=\"3\" width=\"0\" height=\"0\" style=\"fill: rgb(128, 139, 164); fill-opacity: 1;\" x=\"0\" y=\"0\"/></g><g class=\"g-gtitle\"><text class=\"gtitle\" x=\"35\" y=\"50\" text-anchor=\"start\" dy=\"0em\" style=\"font-family: 'Open Sans', verdana, arial, sans-serif; font-size: 17px; fill: rgb(42, 63, 95); opacity: 1; font-weight: normal; white-space: pre;\">Execution time of different versions of pFound</text></g><g class=\"g-xtitle\"><text class=\"xtitle\" x=\"334.5\" y=\"460.8\" text-anchor=\"middle\" style=\"font-family: 'Open Sans', verdana, arial, sans-serif; font-size: 14px; fill: rgb(42, 63, 95); opacity: 1; font-weight: normal; white-space: pre;\">Top K</text></g><g class=\"g-ytitle\"><text class=\"ytitle\" transform=\"rotate(-90,19.309375000000003,260)\" x=\"19.309375000000003\" y=\"260\" text-anchor=\"middle\" style=\"font-family: 'Open Sans', verdana, arial, sans-serif; font-size: 14px; fill: rgb(42, 63, 95); opacity: 1; font-weight: normal; white-space: pre;\">Execution time (s)</text></g></g></svg>"
      ]
     },
     "metadata": {},
     "output_type": "display_data"
    }
   ],
   "source": [
    "fig = go.Figure()\n",
    "# Lines for naive and pandas implementation\n",
    "fig.add_trace(go.Scatter(x=k_values, y=pandas, name='Pandas',\n",
    "                         line=dict(width=1)))\n",
    "fig.add_trace(go.Scatter(x=k_values, y=naive, name = 'Naive',\n",
    "                         line=dict(width=1)))\n",
    "\n",
    "# Editing the layout\n",
    "fig.update_layout(title='Execution time of different versions of pFound')\n",
    "fig.update_xaxes(title_text=\"Top K\")\n",
    "fig.update_yaxes(title_text=\"Execution time (s)\")\n",
    "\n",
    "fig.show(\"svg\")"
   ]
  },
  {
   "cell_type": "code",
   "execution_count": null,
   "id": "e304e633",
   "metadata": {},
   "outputs": [],
   "source": []
  }
 ],
 "metadata": {
  "kernelspec": {
   "display_name": "Python 3 (ipykernel)",
   "language": "python",
   "name": "python3"
  },
  "language_info": {
   "codemirror_mode": {
    "name": "ipython",
    "version": 3
   },
   "file_extension": ".py",
   "mimetype": "text/x-python",
   "name": "python",
   "nbconvert_exporter": "python",
   "pygments_lexer": "ipython3",
   "version": "3.8.0"
  }
 },
 "nbformat": 4,
 "nbformat_minor": 5
}
