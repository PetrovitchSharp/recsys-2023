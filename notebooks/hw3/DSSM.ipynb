{
  "nbformat": 4,
  "nbformat_minor": 0,
  "metadata": {
    "colab": {
      "provenance": [],
      "gpuType": "T4"
    },
    "kernelspec": {
      "name": "python3",
      "display_name": "Python 3"
    },
    "language_info": {
      "name": "python"
    },
    "widgets": {
      "application/vnd.jupyter.widget-state+json": {
        "0258214f84e246b18a4417a9602b4eb9": {
          "model_module": "@jupyter-widgets/controls",
          "model_name": "HBoxModel",
          "model_module_version": "1.5.0",
          "state": {
            "_dom_classes": [],
            "_model_module": "@jupyter-widgets/controls",
            "_model_module_version": "1.5.0",
            "_model_name": "HBoxModel",
            "_view_count": null,
            "_view_module": "@jupyter-widgets/controls",
            "_view_module_version": "1.5.0",
            "_view_name": "HBoxView",
            "box_style": "",
            "children": [
              "IPY_MODEL_116f52aa1fd4456da4c7056a5d630a54",
              "IPY_MODEL_99df71d21ea54e8399b113bc8ba40580",
              "IPY_MODEL_44f056ba721d400598dc8439ce0b9e7a"
            ],
            "layout": "IPY_MODEL_fd1dbe16fe044d4289df743c7872d94e"
          }
        },
        "116f52aa1fd4456da4c7056a5d630a54": {
          "model_module": "@jupyter-widgets/controls",
          "model_name": "HTMLModel",
          "model_module_version": "1.5.0",
          "state": {
            "_dom_classes": [],
            "_model_module": "@jupyter-widgets/controls",
            "_model_module_version": "1.5.0",
            "_model_name": "HTMLModel",
            "_view_count": null,
            "_view_module": "@jupyter-widgets/controls",
            "_view_module_version": "1.5.0",
            "_view_name": "HTMLView",
            "description": "",
            "description_tooltip": null,
            "layout": "IPY_MODEL_36d68bf477524c1783908e4812ecf593",
            "placeholder": "​",
            "style": "IPY_MODEL_4ff1267212a04075bb07fab973377cf6",
            "value": "kion dataset download: 100%"
          }
        },
        "99df71d21ea54e8399b113bc8ba40580": {
          "model_module": "@jupyter-widgets/controls",
          "model_name": "FloatProgressModel",
          "model_module_version": "1.5.0",
          "state": {
            "_dom_classes": [],
            "_model_module": "@jupyter-widgets/controls",
            "_model_module_version": "1.5.0",
            "_model_name": "FloatProgressModel",
            "_view_count": null,
            "_view_module": "@jupyter-widgets/controls",
            "_view_module_version": "1.5.0",
            "_view_name": "ProgressView",
            "bar_style": "",
            "description": "",
            "description_tooltip": null,
            "layout": "IPY_MODEL_14bb169fdf244022b4a3377edd8e7d3d",
            "max": 78795295,
            "min": 0,
            "orientation": "horizontal",
            "style": "IPY_MODEL_f51ff4e641c946bf86256ed274e84778",
            "value": 78795295
          }
        },
        "44f056ba721d400598dc8439ce0b9e7a": {
          "model_module": "@jupyter-widgets/controls",
          "model_name": "HTMLModel",
          "model_module_version": "1.5.0",
          "state": {
            "_dom_classes": [],
            "_model_module": "@jupyter-widgets/controls",
            "_model_module_version": "1.5.0",
            "_model_name": "HTMLModel",
            "_view_count": null,
            "_view_module": "@jupyter-widgets/controls",
            "_view_module_version": "1.5.0",
            "_view_name": "HTMLView",
            "description": "",
            "description_tooltip": null,
            "layout": "IPY_MODEL_4e05a6994bca416fbada0af353a10436",
            "placeholder": "​",
            "style": "IPY_MODEL_737e2bc787c34e7c91a6b48bdccaafa2",
            "value": " 78.8M/78.8M [00:20&lt;00:00, 201MiB/s]"
          }
        },
        "fd1dbe16fe044d4289df743c7872d94e": {
          "model_module": "@jupyter-widgets/base",
          "model_name": "LayoutModel",
          "model_module_version": "1.2.0",
          "state": {
            "_model_module": "@jupyter-widgets/base",
            "_model_module_version": "1.2.0",
            "_model_name": "LayoutModel",
            "_view_count": null,
            "_view_module": "@jupyter-widgets/base",
            "_view_module_version": "1.2.0",
            "_view_name": "LayoutView",
            "align_content": null,
            "align_items": null,
            "align_self": null,
            "border": null,
            "bottom": null,
            "display": null,
            "flex": null,
            "flex_flow": null,
            "grid_area": null,
            "grid_auto_columns": null,
            "grid_auto_flow": null,
            "grid_auto_rows": null,
            "grid_column": null,
            "grid_gap": null,
            "grid_row": null,
            "grid_template_areas": null,
            "grid_template_columns": null,
            "grid_template_rows": null,
            "height": null,
            "justify_content": null,
            "justify_items": null,
            "left": null,
            "margin": null,
            "max_height": null,
            "max_width": null,
            "min_height": null,
            "min_width": null,
            "object_fit": null,
            "object_position": null,
            "order": null,
            "overflow": null,
            "overflow_x": null,
            "overflow_y": null,
            "padding": null,
            "right": null,
            "top": null,
            "visibility": null,
            "width": null
          }
        },
        "36d68bf477524c1783908e4812ecf593": {
          "model_module": "@jupyter-widgets/base",
          "model_name": "LayoutModel",
          "model_module_version": "1.2.0",
          "state": {
            "_model_module": "@jupyter-widgets/base",
            "_model_module_version": "1.2.0",
            "_model_name": "LayoutModel",
            "_view_count": null,
            "_view_module": "@jupyter-widgets/base",
            "_view_module_version": "1.2.0",
            "_view_name": "LayoutView",
            "align_content": null,
            "align_items": null,
            "align_self": null,
            "border": null,
            "bottom": null,
            "display": null,
            "flex": null,
            "flex_flow": null,
            "grid_area": null,
            "grid_auto_columns": null,
            "grid_auto_flow": null,
            "grid_auto_rows": null,
            "grid_column": null,
            "grid_gap": null,
            "grid_row": null,
            "grid_template_areas": null,
            "grid_template_columns": null,
            "grid_template_rows": null,
            "height": null,
            "justify_content": null,
            "justify_items": null,
            "left": null,
            "margin": null,
            "max_height": null,
            "max_width": null,
            "min_height": null,
            "min_width": null,
            "object_fit": null,
            "object_position": null,
            "order": null,
            "overflow": null,
            "overflow_x": null,
            "overflow_y": null,
            "padding": null,
            "right": null,
            "top": null,
            "visibility": null,
            "width": null
          }
        },
        "4ff1267212a04075bb07fab973377cf6": {
          "model_module": "@jupyter-widgets/controls",
          "model_name": "DescriptionStyleModel",
          "model_module_version": "1.5.0",
          "state": {
            "_model_module": "@jupyter-widgets/controls",
            "_model_module_version": "1.5.0",
            "_model_name": "DescriptionStyleModel",
            "_view_count": null,
            "_view_module": "@jupyter-widgets/base",
            "_view_module_version": "1.2.0",
            "_view_name": "StyleView",
            "description_width": ""
          }
        },
        "14bb169fdf244022b4a3377edd8e7d3d": {
          "model_module": "@jupyter-widgets/base",
          "model_name": "LayoutModel",
          "model_module_version": "1.2.0",
          "state": {
            "_model_module": "@jupyter-widgets/base",
            "_model_module_version": "1.2.0",
            "_model_name": "LayoutModel",
            "_view_count": null,
            "_view_module": "@jupyter-widgets/base",
            "_view_module_version": "1.2.0",
            "_view_name": "LayoutView",
            "align_content": null,
            "align_items": null,
            "align_self": null,
            "border": null,
            "bottom": null,
            "display": null,
            "flex": null,
            "flex_flow": null,
            "grid_area": null,
            "grid_auto_columns": null,
            "grid_auto_flow": null,
            "grid_auto_rows": null,
            "grid_column": null,
            "grid_gap": null,
            "grid_row": null,
            "grid_template_areas": null,
            "grid_template_columns": null,
            "grid_template_rows": null,
            "height": null,
            "justify_content": null,
            "justify_items": null,
            "left": null,
            "margin": null,
            "max_height": null,
            "max_width": null,
            "min_height": null,
            "min_width": null,
            "object_fit": null,
            "object_position": null,
            "order": null,
            "overflow": null,
            "overflow_x": null,
            "overflow_y": null,
            "padding": null,
            "right": null,
            "top": null,
            "visibility": null,
            "width": null
          }
        },
        "f51ff4e641c946bf86256ed274e84778": {
          "model_module": "@jupyter-widgets/controls",
          "model_name": "ProgressStyleModel",
          "model_module_version": "1.5.0",
          "state": {
            "_model_module": "@jupyter-widgets/controls",
            "_model_module_version": "1.5.0",
            "_model_name": "ProgressStyleModel",
            "_view_count": null,
            "_view_module": "@jupyter-widgets/base",
            "_view_module_version": "1.2.0",
            "_view_name": "StyleView",
            "bar_color": null,
            "description_width": ""
          }
        },
        "4e05a6994bca416fbada0af353a10436": {
          "model_module": "@jupyter-widgets/base",
          "model_name": "LayoutModel",
          "model_module_version": "1.2.0",
          "state": {
            "_model_module": "@jupyter-widgets/base",
            "_model_module_version": "1.2.0",
            "_model_name": "LayoutModel",
            "_view_count": null,
            "_view_module": "@jupyter-widgets/base",
            "_view_module_version": "1.2.0",
            "_view_name": "LayoutView",
            "align_content": null,
            "align_items": null,
            "align_self": null,
            "border": null,
            "bottom": null,
            "display": null,
            "flex": null,
            "flex_flow": null,
            "grid_area": null,
            "grid_auto_columns": null,
            "grid_auto_flow": null,
            "grid_auto_rows": null,
            "grid_column": null,
            "grid_gap": null,
            "grid_row": null,
            "grid_template_areas": null,
            "grid_template_columns": null,
            "grid_template_rows": null,
            "height": null,
            "justify_content": null,
            "justify_items": null,
            "left": null,
            "margin": null,
            "max_height": null,
            "max_width": null,
            "min_height": null,
            "min_width": null,
            "object_fit": null,
            "object_position": null,
            "order": null,
            "overflow": null,
            "overflow_x": null,
            "overflow_y": null,
            "padding": null,
            "right": null,
            "top": null,
            "visibility": null,
            "width": null
          }
        },
        "737e2bc787c34e7c91a6b48bdccaafa2": {
          "model_module": "@jupyter-widgets/controls",
          "model_name": "DescriptionStyleModel",
          "model_module_version": "1.5.0",
          "state": {
            "_model_module": "@jupyter-widgets/controls",
            "_model_module_version": "1.5.0",
            "_model_name": "DescriptionStyleModel",
            "_view_count": null,
            "_view_module": "@jupyter-widgets/base",
            "_view_module_version": "1.2.0",
            "_view_name": "StyleView",
            "description_width": ""
          }
        }
      }
    },
    "accelerator": "GPU",
    "gpuClass": "standard"
  },
  "cells": [
    {
      "cell_type": "code",
      "execution_count": 1,
      "metadata": {
        "colab": {
          "base_uri": "https://localhost:8080/"
        },
        "id": "krX-4I26UAuA",
        "outputId": "6a2b0989-155c-49ac-82fa-d44c952db9cc"
      },
      "outputs": [
        {
          "output_type": "stream",
          "name": "stdout",
          "text": [
            "Looking in indexes: https://pypi.org/simple, https://us-python.pkg.dev/colab-wheels/public/simple/\n",
            "Collecting pymorphy2\n",
            "  Downloading pymorphy2-0.9.1-py3-none-any.whl (55 kB)\n",
            "\u001b[2K     \u001b[90m━━━━━━━━━━━━━━━━━━━━━━━━━━━━━━━━━━━━━━━━\u001b[0m \u001b[32m55.5/55.5 kB\u001b[0m \u001b[31m2.1 MB/s\u001b[0m eta \u001b[36m0:00:00\u001b[0m\n",
            "\u001b[?25hCollecting dawg-python>=0.7.1 (from pymorphy2)\n",
            "  Downloading DAWG_Python-0.7.2-py2.py3-none-any.whl (11 kB)\n",
            "Collecting pymorphy2-dicts-ru<3.0,>=2.4 (from pymorphy2)\n",
            "  Downloading pymorphy2_dicts_ru-2.4.417127.4579844-py2.py3-none-any.whl (8.2 MB)\n",
            "\u001b[2K     \u001b[90m━━━━━━━━━━━━━━━━━━━━━━━━━━━━━━━━━━━━━━━━\u001b[0m \u001b[32m8.2/8.2 MB\u001b[0m \u001b[31m56.5 MB/s\u001b[0m eta \u001b[36m0:00:00\u001b[0m\n",
            "\u001b[?25hCollecting docopt>=0.6 (from pymorphy2)\n",
            "  Downloading docopt-0.6.2.tar.gz (25 kB)\n",
            "  Preparing metadata (setup.py) ... \u001b[?25l\u001b[?25hdone\n",
            "Building wheels for collected packages: docopt\n",
            "  Building wheel for docopt (setup.py) ... \u001b[?25l\u001b[?25hdone\n",
            "  Created wheel for docopt: filename=docopt-0.6.2-py2.py3-none-any.whl size=13707 sha256=eedfa0b01589493ac523adbc8fc8410aa4454b144a8fa5e20bce46c2a2802a42\n",
            "  Stored in directory: /root/.cache/pip/wheels/fc/ab/d4/5da2067ac95b36618c629a5f93f809425700506f72c9732fac\n",
            "Successfully built docopt\n",
            "Installing collected packages: pymorphy2-dicts-ru, docopt, dawg-python, pymorphy2\n",
            "Successfully installed dawg-python-0.7.2 docopt-0.6.2 pymorphy2-0.9.1 pymorphy2-dicts-ru-2.4.417127.4579844\n"
          ]
        }
      ],
      "source": [
        "!pip install pymorphy2"
      ]
    },
    {
      "cell_type": "code",
      "source": [
        "import numpy as np\n",
        "import pandas as pd\n",
        "import tensorflow.keras.backend as K\n",
        "from tqdm.auto import tqdm\n",
        "import requests\n",
        "import zipfile as zf\n",
        "\n",
        "import warnings\n",
        "warnings.filterwarnings('ignore')\n",
        "\n",
        "from collections import Counter\n",
        "from random import randint\n",
        "from sklearn.metrics.pairwise import euclidean_distances as ED\n",
        "from tensorflow import keras\n",
        "\n",
        "from sklearn.feature_extraction.text import CountVectorizer\n",
        "from nltk.tokenize import word_tokenize\n",
        "from nltk.corpus import stopwords\n",
        "from pymorphy2 import MorphAnalyzer"
      ],
      "metadata": {
        "id": "iz0zJca6Ub9W"
      },
      "execution_count": 2,
      "outputs": []
    },
    {
      "cell_type": "code",
      "source": [
        "import nltk\n",
        "nltk.download('punkt')\n",
        "nltk.download('stopwords')"
      ],
      "metadata": {
        "colab": {
          "base_uri": "https://localhost:8080/"
        },
        "id": "IJ-Zc7qHUdfK",
        "outputId": "30e293cd-d346-43f2-b8f0-ec6d237d0541"
      },
      "execution_count": 3,
      "outputs": [
        {
          "output_type": "stream",
          "name": "stderr",
          "text": [
            "[nltk_data] Downloading package punkt to /root/nltk_data...\n",
            "[nltk_data]   Unzipping tokenizers/punkt.zip.\n",
            "[nltk_data] Downloading package stopwords to /root/nltk_data...\n",
            "[nltk_data]   Unzipping corpora/stopwords.zip.\n"
          ]
        },
        {
          "output_type": "execute_result",
          "data": {
            "text/plain": [
              "True"
            ]
          },
          "metadata": {},
          "execution_count": 3
        }
      ]
    },
    {
      "cell_type": "markdown",
      "source": [
        "## Выгрузка данных KION"
      ],
      "metadata": {
        "id": "77fQuzYIU5Um"
      }
    },
    {
      "cell_type": "code",
      "source": [
        "url = 'https://github.com/irsafilo/KION_DATASET/raw/f69775be31fa5779907cf0a92ddedb70037fb5ae/data_original.zip'\n",
        "\n",
        "req = requests.get(url, stream=True)\n",
        "\n",
        "with open('kion.zip', 'wb') as fd:\n",
        "    total_size_in_bytes = int(req.headers.get('Content-Length', 0))\n",
        "    progress_bar = tqdm(desc='kion dataset download', total=total_size_in_bytes, unit='iB', unit_scale=True)\n",
        "    for chunk in req.iter_content(chunk_size=2 ** 20):\n",
        "        progress_bar.update(len(chunk))\n",
        "        fd.write(chunk)"
      ],
      "metadata": {
        "colab": {
          "base_uri": "https://localhost:8080/",
          "height": 49,
          "referenced_widgets": [
            "0258214f84e246b18a4417a9602b4eb9",
            "116f52aa1fd4456da4c7056a5d630a54",
            "99df71d21ea54e8399b113bc8ba40580",
            "44f056ba721d400598dc8439ce0b9e7a",
            "fd1dbe16fe044d4289df743c7872d94e",
            "36d68bf477524c1783908e4812ecf593",
            "4ff1267212a04075bb07fab973377cf6",
            "14bb169fdf244022b4a3377edd8e7d3d",
            "f51ff4e641c946bf86256ed274e84778",
            "4e05a6994bca416fbada0af353a10436",
            "737e2bc787c34e7c91a6b48bdccaafa2"
          ]
        },
        "id": "QE46Nyb0UhvY",
        "outputId": "90fe67a9-4db6-454b-b800-d3e1979ff887"
      },
      "execution_count": 4,
      "outputs": [
        {
          "output_type": "display_data",
          "data": {
            "text/plain": [
              "kion dataset download:   0%|          | 0.00/78.8M [00:00<?, ?iB/s]"
            ],
            "application/vnd.jupyter.widget-view+json": {
              "version_major": 2,
              "version_minor": 0,
              "model_id": "0258214f84e246b18a4417a9602b4eb9"
            }
          },
          "metadata": {}
        }
      ]
    },
    {
      "cell_type": "code",
      "source": [
        "files = zf.ZipFile('kion.zip','r')\n",
        "files.extractall()\n",
        "files.close()"
      ],
      "metadata": {
        "id": "jCoh74cVU246"
      },
      "execution_count": 5,
      "outputs": []
    },
    {
      "cell_type": "code",
      "source": [
        "users = pd.read_csv('data_original/users.csv')\n",
        "items = pd.read_csv('data_original/items.csv')\n",
        "interactions = pd.read_csv('data_original/interactions.csv')"
      ],
      "metadata": {
        "id": "c-44B38eU4D0"
      },
      "execution_count": 6,
      "outputs": []
    },
    {
      "cell_type": "markdown",
      "source": [
        "## Предобработка данных"
      ],
      "metadata": {
        "id": "mLgcNLVPU9PV"
      }
    },
    {
      "cell_type": "code",
      "source": [
        "# Rename columns\n",
        "interactions.rename(columns={\n",
        "    'last_watch_dt': 'datetime',\n",
        "    'watched_pct': 'weight'\n",
        "}, inplace=True)"
      ],
      "metadata": {
        "id": "T_iC52H0U5Q7"
      },
      "execution_count": 7,
      "outputs": []
    },
    {
      "cell_type": "code",
      "source": [
        "# Drop all rows with non 10 symbols date \n",
        "# And transform remaining dates to pandas datetime \n",
        "interactions.drop(interactions[interactions['datetime'].str.len() != 10].index, inplace=True)\n",
        "interactions['datetime'] = pd.to_datetime(interactions['datetime'], format='%Y-%m-%d')"
      ],
      "metadata": {
        "id": "sa7SPIukU9c5"
      },
      "execution_count": 8,
      "outputs": []
    },
    {
      "cell_type": "code",
      "source": [
        "users = users[users['user_id'].isin(interactions['user_id'])]\n",
        "items = items[items['item_id'].isin(interactions['item_id'])]"
      ],
      "metadata": {
        "id": "mgw0AbtUU-fs"
      },
      "execution_count": 9,
      "outputs": []
    },
    {
      "cell_type": "code",
      "source": [
        "user_cat_feats = [\"age\", \"income\", \"sex\", \"kids_flg\"]\n",
        "users_ohe_df = users.user_id\n",
        "for feature in user_cat_feats:\n",
        "    ohe_feat_df = pd.get_dummies(users[feature], prefix=feature)\n",
        "    users_ohe_df = pd.concat([users_ohe_df, ohe_feat_df], axis=1)"
      ],
      "metadata": {
        "id": "5Vl3IwTlVNrU"
      },
      "execution_count": 10,
      "outputs": []
    },
    {
      "cell_type": "code",
      "source": [
        "item_cat_feats = ['content_type', 'release_year',\n",
        "                  'for_kids', 'age_rating', \n",
        "                  'studios', 'countries', 'directors']\n",
        "\n",
        "items_ohe_df = items.item_id\n",
        "\n",
        "for feature in item_cat_feats:\n",
        "    ohe_feat_df = pd.get_dummies(items[feature], prefix=feature)\n",
        "    items_ohe_df = pd.concat([items_ohe_df, ohe_feat_df], axis=1) "
      ],
      "metadata": {
        "id": "mB74uoKIVjuj"
      },
      "execution_count": 11,
      "outputs": []
    },
    {
      "cell_type": "code",
      "source": [
        "print(f\"N users before: {interactions.user_id.nunique()}\")\n",
        "print(f\"N items before: {interactions.item_id.nunique()}\\n\")\n",
        "\n",
        "interactions = interactions[interactions.weight > 10]\n",
        "\n",
        "\n",
        "users_with_enough_interactions = []\n",
        "\n",
        "c = Counter(interactions.user_id)\n",
        "for user_id, entries in c.most_common():\n",
        "    if entries > 5:\n",
        "        users_with_enough_interactions.append(user_id)\n",
        "\n",
        "items_with_enough_interactions = []\n",
        "\n",
        "c = Counter(interactions.item_id)\n",
        "for item_id, entries in c.most_common():\n",
        "    if entries > 10:\n",
        "        items_with_enough_interactions.append(item_id)\n",
        "\n",
        "interactions = interactions[interactions.user_id.isin(users_with_enough_interactions)]\n",
        "interactions = interactions[interactions.item_id.isin(items_with_enough_interactions)]\n",
        "\n",
        "print(f\"N users after: {interactions.user_id.nunique()}\")\n",
        "print(f\"N items after: {interactions.item_id.nunique()}\")\n"
      ],
      "metadata": {
        "colab": {
          "base_uri": "https://localhost:8080/"
        },
        "id": "cM_KP9HtVv_X",
        "outputId": "7e4e67b0-9d16-4aa4-bd9c-775c958b6b0b"
      },
      "execution_count": 12,
      "outputs": [
        {
          "output_type": "stream",
          "name": "stdout",
          "text": [
            "N users before: 962179\n",
            "N items before: 15706\n",
            "\n",
            "N users after: 170681\n",
            "N items after: 6901\n"
          ]
        }
      ]
    },
    {
      "cell_type": "code",
      "source": [
        "active_users = set(interactions.user_id.unique()).intersection(set(users_ohe_df.user_id.unique()))\n",
        "active_items = set(interactions.item_id.unique()).intersection(set(items_ohe_df.item_id.unique()))\n",
        "\n",
        "print(len(active_users))\n",
        "print(len(active_items))\n",
        "\n",
        "interactions = interactions[interactions.item_id.isin(active_items)]\n",
        "interactions = interactions[interactions.user_id.isin(active_users)]\n",
        "\n",
        "items_ohe_df = items_ohe_df[items_ohe_df.item_id.isin(active_items)]\n",
        "users_ohe_df = users_ohe_df[users_ohe_df.user_id.isin(active_users)]"
      ],
      "metadata": {
        "colab": {
          "base_uri": "https://localhost:8080/"
        },
        "id": "wdyWwQj6WeAV",
        "outputId": "89ad3640-43a8-49e1-d78b-7d475219ea45"
      },
      "execution_count": 13,
      "outputs": [
        {
          "output_type": "stream",
          "name": "stdout",
          "text": [
            "139209\n",
            "6901\n"
          ]
        }
      ]
    },
    {
      "cell_type": "code",
      "source": [
        "interactions[\"uid\"] = interactions[\"user_id\"].astype(\"category\")\n",
        "interactions[\"uid\"] = interactions[\"uid\"].cat.codes\n",
        "\n",
        "interactions[\"iid\"] = interactions[\"item_id\"].astype(\"category\")\n",
        "interactions[\"iid\"] = interactions[\"iid\"].cat.codes\n",
        "\n",
        "print(sorted(interactions.iid.unique())[:5])\n",
        "print(sorted(interactions.uid.unique())[:5])\n",
        "interactions.head()"
      ],
      "metadata": {
        "colab": {
          "base_uri": "https://localhost:8080/",
          "height": 241
        },
        "id": "Mh2S5BYjXI9A",
        "outputId": "77ed6bf9-a714-436b-a95b-dd5ea535bf32"
      },
      "execution_count": 14,
      "outputs": [
        {
          "output_type": "stream",
          "name": "stdout",
          "text": [
            "[0, 1, 2, 3, 4]\n",
            "[0, 1, 2, 3, 4]\n"
          ]
        },
        {
          "output_type": "execute_result",
          "data": {
            "text/plain": [
              "   user_id  item_id   datetime  total_dur  weight     uid   iid\n",
              "0   176549     9506 2021-05-11       4250    72.0   22413  3945\n",
              "1   699317     1659 2021-05-29       8317   100.0   88768   675\n",
              "3   864613     7638 2021-07-05      14483   100.0  109925  3163\n",
              "6  1016458      354 2021-08-14       1672    25.0  128826   139\n",
              "7   884009      693 2021-08-04        703    14.0  112355   279"
            ],
            "text/html": [
              "\n",
              "  <div id=\"df-0c15eff0-5169-4100-bcb9-9e3b6279772b\">\n",
              "    <div class=\"colab-df-container\">\n",
              "      <div>\n",
              "<style scoped>\n",
              "    .dataframe tbody tr th:only-of-type {\n",
              "        vertical-align: middle;\n",
              "    }\n",
              "\n",
              "    .dataframe tbody tr th {\n",
              "        vertical-align: top;\n",
              "    }\n",
              "\n",
              "    .dataframe thead th {\n",
              "        text-align: right;\n",
              "    }\n",
              "</style>\n",
              "<table border=\"1\" class=\"dataframe\">\n",
              "  <thead>\n",
              "    <tr style=\"text-align: right;\">\n",
              "      <th></th>\n",
              "      <th>user_id</th>\n",
              "      <th>item_id</th>\n",
              "      <th>datetime</th>\n",
              "      <th>total_dur</th>\n",
              "      <th>weight</th>\n",
              "      <th>uid</th>\n",
              "      <th>iid</th>\n",
              "    </tr>\n",
              "  </thead>\n",
              "  <tbody>\n",
              "    <tr>\n",
              "      <th>0</th>\n",
              "      <td>176549</td>\n",
              "      <td>9506</td>\n",
              "      <td>2021-05-11</td>\n",
              "      <td>4250</td>\n",
              "      <td>72.0</td>\n",
              "      <td>22413</td>\n",
              "      <td>3945</td>\n",
              "    </tr>\n",
              "    <tr>\n",
              "      <th>1</th>\n",
              "      <td>699317</td>\n",
              "      <td>1659</td>\n",
              "      <td>2021-05-29</td>\n",
              "      <td>8317</td>\n",
              "      <td>100.0</td>\n",
              "      <td>88768</td>\n",
              "      <td>675</td>\n",
              "    </tr>\n",
              "    <tr>\n",
              "      <th>3</th>\n",
              "      <td>864613</td>\n",
              "      <td>7638</td>\n",
              "      <td>2021-07-05</td>\n",
              "      <td>14483</td>\n",
              "      <td>100.0</td>\n",
              "      <td>109925</td>\n",
              "      <td>3163</td>\n",
              "    </tr>\n",
              "    <tr>\n",
              "      <th>6</th>\n",
              "      <td>1016458</td>\n",
              "      <td>354</td>\n",
              "      <td>2021-08-14</td>\n",
              "      <td>1672</td>\n",
              "      <td>25.0</td>\n",
              "      <td>128826</td>\n",
              "      <td>139</td>\n",
              "    </tr>\n",
              "    <tr>\n",
              "      <th>7</th>\n",
              "      <td>884009</td>\n",
              "      <td>693</td>\n",
              "      <td>2021-08-04</td>\n",
              "      <td>703</td>\n",
              "      <td>14.0</td>\n",
              "      <td>112355</td>\n",
              "      <td>279</td>\n",
              "    </tr>\n",
              "  </tbody>\n",
              "</table>\n",
              "</div>\n",
              "      <button class=\"colab-df-convert\" onclick=\"convertToInteractive('df-0c15eff0-5169-4100-bcb9-9e3b6279772b')\"\n",
              "              title=\"Convert this dataframe to an interactive table.\"\n",
              "              style=\"display:none;\">\n",
              "        \n",
              "  <svg xmlns=\"http://www.w3.org/2000/svg\" height=\"24px\"viewBox=\"0 0 24 24\"\n",
              "       width=\"24px\">\n",
              "    <path d=\"M0 0h24v24H0V0z\" fill=\"none\"/>\n",
              "    <path d=\"M18.56 5.44l.94 2.06.94-2.06 2.06-.94-2.06-.94-.94-2.06-.94 2.06-2.06.94zm-11 1L8.5 8.5l.94-2.06 2.06-.94-2.06-.94L8.5 2.5l-.94 2.06-2.06.94zm10 10l.94 2.06.94-2.06 2.06-.94-2.06-.94-.94-2.06-.94 2.06-2.06.94z\"/><path d=\"M17.41 7.96l-1.37-1.37c-.4-.4-.92-.59-1.43-.59-.52 0-1.04.2-1.43.59L10.3 9.45l-7.72 7.72c-.78.78-.78 2.05 0 2.83L4 21.41c.39.39.9.59 1.41.59.51 0 1.02-.2 1.41-.59l7.78-7.78 2.81-2.81c.8-.78.8-2.07 0-2.86zM5.41 20L4 18.59l7.72-7.72 1.47 1.35L5.41 20z\"/>\n",
              "  </svg>\n",
              "      </button>\n",
              "      \n",
              "  <style>\n",
              "    .colab-df-container {\n",
              "      display:flex;\n",
              "      flex-wrap:wrap;\n",
              "      gap: 12px;\n",
              "    }\n",
              "\n",
              "    .colab-df-convert {\n",
              "      background-color: #E8F0FE;\n",
              "      border: none;\n",
              "      border-radius: 50%;\n",
              "      cursor: pointer;\n",
              "      display: none;\n",
              "      fill: #1967D2;\n",
              "      height: 32px;\n",
              "      padding: 0 0 0 0;\n",
              "      width: 32px;\n",
              "    }\n",
              "\n",
              "    .colab-df-convert:hover {\n",
              "      background-color: #E2EBFA;\n",
              "      box-shadow: 0px 1px 2px rgba(60, 64, 67, 0.3), 0px 1px 3px 1px rgba(60, 64, 67, 0.15);\n",
              "      fill: #174EA6;\n",
              "    }\n",
              "\n",
              "    [theme=dark] .colab-df-convert {\n",
              "      background-color: #3B4455;\n",
              "      fill: #D2E3FC;\n",
              "    }\n",
              "\n",
              "    [theme=dark] .colab-df-convert:hover {\n",
              "      background-color: #434B5C;\n",
              "      box-shadow: 0px 1px 3px 1px rgba(0, 0, 0, 0.15);\n",
              "      filter: drop-shadow(0px 1px 2px rgba(0, 0, 0, 0.3));\n",
              "      fill: #FFFFFF;\n",
              "    }\n",
              "  </style>\n",
              "\n",
              "      <script>\n",
              "        const buttonEl =\n",
              "          document.querySelector('#df-0c15eff0-5169-4100-bcb9-9e3b6279772b button.colab-df-convert');\n",
              "        buttonEl.style.display =\n",
              "          google.colab.kernel.accessAllowed ? 'block' : 'none';\n",
              "\n",
              "        async function convertToInteractive(key) {\n",
              "          const element = document.querySelector('#df-0c15eff0-5169-4100-bcb9-9e3b6279772b');\n",
              "          const dataTable =\n",
              "            await google.colab.kernel.invokeFunction('convertToInteractive',\n",
              "                                                     [key], {});\n",
              "          if (!dataTable) return;\n",
              "\n",
              "          const docLinkHtml = 'Like what you see? Visit the ' +\n",
              "            '<a target=\"_blank\" href=https://colab.research.google.com/notebooks/data_table.ipynb>data table notebook</a>'\n",
              "            + ' to learn more about interactive tables.';\n",
              "          element.innerHTML = '';\n",
              "          dataTable['output_type'] = 'display_data';\n",
              "          await google.colab.output.renderOutput(dataTable, element);\n",
              "          const docLink = document.createElement('div');\n",
              "          docLink.innerHTML = docLinkHtml;\n",
              "          element.appendChild(docLink);\n",
              "        }\n",
              "      </script>\n",
              "    </div>\n",
              "  </div>\n",
              "  "
            ]
          },
          "metadata": {},
          "execution_count": 14
        }
      ]
    },
    {
      "cell_type": "code",
      "source": [
        "interactions_vec = np.zeros((interactions.uid.nunique(), \n",
        "                             interactions.iid.nunique())) \n",
        "\n",
        "for user_id, item_id in zip(interactions.uid, interactions.iid):\n",
        "    interactions_vec[user_id, item_id] += 1\n",
        "\n",
        "\n",
        "res = interactions_vec.sum(axis=1)\n",
        "for i in range(len(interactions_vec)):\n",
        "    interactions_vec[i] /= res[i]"
      ],
      "metadata": {
        "id": "BuRpQ7Z0XWnB"
      },
      "execution_count": 15,
      "outputs": []
    },
    {
      "cell_type": "code",
      "source": [
        "items_ohe_df = items_ohe_df[items_ohe_df['item_id'] != 11805]\n",
        "print(interactions.item_id.nunique())\n",
        "print(items_ohe_df.item_id.nunique())\n",
        "print(interactions.user_id.nunique())\n",
        "print(users_ohe_df.user_id.nunique())\n",
        "\n",
        "print(set(items_ohe_df.item_id.unique()) - set(interactions.item_id.unique()))\n",
        "\n"
      ],
      "metadata": {
        "colab": {
          "base_uri": "https://localhost:8080/"
        },
        "id": "JzLyesjNXhAl",
        "outputId": "374c0321-c420-47db-985e-1331c4dc4b7c"
      },
      "execution_count": 16,
      "outputs": [
        {
          "output_type": "stream",
          "name": "stdout",
          "text": [
            "6900\n",
            "6900\n",
            "139209\n",
            "139209\n",
            "set()\n"
          ]
        }
      ]
    },
    {
      "cell_type": "code",
      "source": [
        "iid_to_item_id = interactions[[\"iid\", \"item_id\"]].drop_duplicates().set_index(\"iid\").to_dict()[\"item_id\"]\n",
        "item_id_to_iid = interactions[[\"iid\", \"item_id\"]].drop_duplicates().set_index(\"item_id\").to_dict()[\"iid\"]\n",
        "\n",
        "uid_to_user_id = interactions[[\"uid\", \"user_id\"]].drop_duplicates().set_index(\"uid\").to_dict()[\"user_id\"]\n",
        "user_id_to_uid = interactions[[\"uid\", \"user_id\"]].drop_duplicates().set_index(\"user_id\").to_dict()[\"uid\"]"
      ],
      "metadata": {
        "id": "Jpcx5MgdX1ti"
      },
      "execution_count": 17,
      "outputs": []
    },
    {
      "cell_type": "code",
      "source": [
        "items_ohe_df[\"iid\"] = items_ohe_df[\"item_id\"].apply(lambda x: item_id_to_iid[x])\n",
        "items_ohe_df = items_ohe_df.set_index(\"iid\")\n",
        "\n",
        "users_ohe_df[\"uid\"] = users_ohe_df[\"user_id\"].apply(lambda x: user_id_to_uid[x])\n",
        "users_ohe_df = users_ohe_df.set_index(\"uid\")"
      ],
      "metadata": {
        "id": "gSm-EMIIYoKi"
      },
      "execution_count": 18,
      "outputs": []
    },
    {
      "cell_type": "markdown",
      "source": [
        "### Подготовка данных для temporal слоев"
      ],
      "metadata": {
        "id": "N9Nj6LxCS0ek"
      }
    },
    {
      "cell_type": "code",
      "source": [
        "# Выбираем по 5 последних взаимодействий юзеров для temporal слоев\n",
        "interactions_lists = pd.DataFrame(interactions.sort_values(by=[\"uid\", \"datetime\"]).groupby(\"uid\").iid.apply(lambda x: np.array(x, dtype=np.uint16)[-5:]))"
      ],
      "metadata": {
        "id": "4XsqBnvQgwkD"
      },
      "execution_count": 19,
      "outputs": []
    },
    {
      "cell_type": "code",
      "source": [
        "interactions_lists.iid.apply(len).mean() # Просочились юзеры с количество итераций < 5, надо убрать"
      ],
      "metadata": {
        "colab": {
          "base_uri": "https://localhost:8080/"
        },
        "id": "PWJQtroDl2cc",
        "outputId": "6e89a5f0-74a2-4c8c-bbcc-cebb5cdaec68"
      },
      "execution_count": 20,
      "outputs": [
        {
          "output_type": "execute_result",
          "data": {
            "text/plain": [
              "4.998785998031736"
            ]
          },
          "metadata": {},
          "execution_count": 20
        }
      ]
    },
    {
      "cell_type": "code",
      "source": [
        "interactions_lists['len'] = interactions_lists.iid.apply(len)"
      ],
      "metadata": {
        "id": "mdbn61eSNdKV"
      },
      "execution_count": 21,
      "outputs": []
    },
    {
      "cell_type": "code",
      "source": [
        "interactions_lists = interactions_lists.query('len == 5')"
      ],
      "metadata": {
        "id": "ZWI4GH2IOCp1"
      },
      "execution_count": 22,
      "outputs": []
    },
    {
      "cell_type": "code",
      "source": [
        "uid_list_valid = interactions_lists.index.to_list()"
      ],
      "metadata": {
        "id": "1MacCf4zOJ2W"
      },
      "execution_count": 23,
      "outputs": []
    },
    {
      "cell_type": "code",
      "source": [
        "interactions_lists.drop(['len'], axis = 1, inplace = True)"
      ],
      "metadata": {
        "id": "bAYH2B5VOXzd"
      },
      "execution_count": 24,
      "outputs": []
    },
    {
      "cell_type": "markdown",
      "source": [
        "## Лосс"
      ],
      "metadata": {
        "id": "UosbAUQ7L1Av"
      }
    },
    {
      "cell_type": "code",
      "source": [
        "def triplet_loss(y_true, y_pred, n_dims=128, alpha=0.4):\n",
        "    # будем ожидать, что на вход функции прилетит три сконкатенированных \n",
        "    # вектора - вектор юзера и два вектора айтема\n",
        "    anchor = y_pred[:, 0:n_dims]\n",
        "    positive = y_pred[:, n_dims:n_dims*2]\n",
        "    negative = y_pred[:, n_dims*2:n_dims*3]\n",
        "\n",
        "    # считаем расстояния от вектора юзера до вектора хорошего айтема\n",
        "    pos_dist = K.sum(K.square(anchor - positive), axis=1)\n",
        "    # и до плохого\n",
        "    neg_dist = K.sum(K.square(anchor - negative), axis=1)\n",
        "\n",
        "    # считаем лосс\n",
        "    basic_loss = pos_dist - neg_dist + alpha\n",
        "    loss = K.maximum(basic_loss, 0.0) # возвращаем ноль, если лосс отрицательный\n",
        " \n",
        "    return loss"
      ],
      "metadata": {
        "id": "J2plDIijYtfG"
      },
      "execution_count": 25,
      "outputs": []
    },
    {
      "cell_type": "markdown",
      "source": [
        "## Текстовые признаки"
      ],
      "metadata": {
        "id": "vwvw_DDRXlje"
      }
    },
    {
      "cell_type": "code",
      "source": [
        "items['description'] = items['description'].fillna('')"
      ],
      "metadata": {
        "id": "aFSRq-vrYyUG"
      },
      "execution_count": 26,
      "outputs": []
    },
    {
      "cell_type": "code",
      "source": [
        "def normalize(text):\n",
        "    punct = '!\"#$%&()*\\+,-\\./:;<=>?@\\[\\]^_`{|}~„“«»†*\\—/\\-‘’–'\n",
        "    res = [w.strip(punct) for w in word_tokenize(text)]\n",
        "    res = [w.lower() for w in res if w != '']\n",
        "    return res"
      ],
      "metadata": {
        "id": "lzHLihupZEQR"
      },
      "execution_count": 27,
      "outputs": []
    },
    {
      "cell_type": "code",
      "source": [
        "items['clear_description'] = items['description'].apply(lambda x: normalize(x))"
      ],
      "metadata": {
        "id": "3MTM80r5ZGYe"
      },
      "execution_count": 28,
      "outputs": []
    },
    {
      "cell_type": "code",
      "source": [
        "sw = stopwords.words('russian')"
      ],
      "metadata": {
        "id": "JYkN3n3qZJMm"
      },
      "execution_count": 29,
      "outputs": []
    },
    {
      "cell_type": "code",
      "source": [
        "def filter_stopwords(text):\n",
        "    return [w for w in text if w not in sw]"
      ],
      "metadata": {
        "id": "mw5pa0BxZLVc"
      },
      "execution_count": 30,
      "outputs": []
    },
    {
      "cell_type": "code",
      "source": [
        "items['clear_description'] = items['clear_description'].apply(lambda x: filter_stopwords(x))"
      ],
      "metadata": {
        "id": "kr4VwgxOZMmo"
      },
      "execution_count": 31,
      "outputs": []
    },
    {
      "cell_type": "code",
      "source": [
        "morph = MorphAnalyzer()\n",
        "\n",
        "items['clear_description'] = items['clear_description'].apply(lambda x: [morph.parse(w)[0].normalized.word for w in x])"
      ],
      "metadata": {
        "id": "3L_aFkyyZPik"
      },
      "execution_count": 32,
      "outputs": []
    },
    {
      "cell_type": "code",
      "source": [
        "items['clear_description'] = items['clear_description'].apply(lambda x: ' '.join(x))"
      ],
      "metadata": {
        "id": "usUZ3ZPRZfkJ"
      },
      "execution_count": 33,
      "outputs": []
    },
    {
      "cell_type": "code",
      "source": [
        "vectorizer = CountVectorizer(min_df=3, max_features=300)\n",
        "text_vectorized = pd.DataFrame(vectorizer.fit_transform(items['clear_description']).toarray(), columns=vectorizer.get_feature_names_out())\n",
        "text_vectorized.shape"
      ],
      "metadata": {
        "colab": {
          "base_uri": "https://localhost:8080/"
        },
        "id": "t5MLVYUCZqgf",
        "outputId": "7727926c-e2f3-4dba-dff0-4c8fad86f8c7"
      },
      "execution_count": 34,
      "outputs": [
        {
          "output_type": "execute_result",
          "data": {
            "text/plain": [
              "(15706, 300)"
            ]
          },
          "metadata": {},
          "execution_count": 34
        }
      ]
    },
    {
      "cell_type": "code",
      "source": [
        "text_vectorized['item_id'] = items['item_id']\n",
        "items_ohe_df = items_ohe_df.merge(text_vectorized, on='item_id', how='left')\n",
        "items_ohe_df = items_ohe_df.fillna(0)"
      ],
      "metadata": {
        "id": "tOnwgWKMZtjm"
      },
      "execution_count": 35,
      "outputs": []
    },
    {
      "cell_type": "code",
      "source": [
        "users_ohe_df = users_ohe_df.loc[uid_list_valid]"
      ],
      "metadata": {
        "id": "avvAMLJILTU-"
      },
      "execution_count": 36,
      "outputs": []
    },
    {
      "cell_type": "markdown",
      "source": [
        "## Подготовка загрузчика данных"
      ],
      "metadata": {
        "id": "GxHm-g5VVIGN"
      }
    },
    {
      "cell_type": "code",
      "source": [
        "def generator(items, users, interactions, interactions_lists, batch_size=16):\n",
        "    while True:\n",
        "        uid_meta = []\n",
        "        uid_interaction = []\n",
        "        uid_temporal = []\n",
        "        pos = []\n",
        "        neg = []\n",
        "        for _ in range(batch_size):\n",
        "            # берем рандомный uid\n",
        "            uid_i = randint(0, interactions.shape[0]-1)\n",
        "            # id хорошего айтема\n",
        "            pos_i = np.random.choice(range(interactions.shape[1]), p=interactions[uid_i])\n",
        "            # id плохого айтема\n",
        "            neg_i = np.random.choice(range(interactions.shape[1]))\n",
        "            # фичи юзера\n",
        "            uid_meta.append(users.iloc[uid_i])\n",
        "            # вектор айтемов, с которыми юзер взаимодействовал\n",
        "            uid_interaction.append(interactions_vec[uid_i])\n",
        "            # вектор последовательностей взаимодействий (по 5 штук)\n",
        "            uid_temporal.append(interactions_lists.iloc[uid_i].iid)\n",
        "            # фичи хорошего айтема\n",
        "            pos.append(items.iloc[pos_i])\n",
        "            # фичи плохого айтема\n",
        "            neg.append(items.iloc[neg_i])\n",
        "            \n",
        "        temporal = np.reshape(np.array(uid_temporal), (batch_size, 5, 1)) # Ресайзим, чтобы не было проблем с размерностью\n",
        "        yield [np.array(uid_meta), np.array(uid_interaction), temporal, np.array(pos), np.array(neg)], [np.array(uid_meta), np.array(uid_interaction), temporal]\n",
        "\n"
      ],
      "metadata": {
        "id": "b5w40WpzaBab"
      },
      "execution_count": 37,
      "outputs": []
    },
    {
      "cell_type": "code",
      "source": [
        "gen = generator(\n",
        "    items=items_ohe_df.drop([\"item_id\"], axis=1), \n",
        "    users=users_ohe_df.drop([\"user_id\"], axis=1), \n",
        "    interactions=interactions_vec,\n",
        "    interactions_lists = interactions_lists,\n",
        ")\n",
        "\n",
        "ret = next(gen)\n",
        "\n",
        "\n",
        "print(f\"вектор фичей юзера: {ret[0][0].shape}\")\n",
        "print(f\"вектор взаимодействий юзера с айтемами: {ret[0][1].shape}\")\n",
        "print(f\"последовательность взаимодействий юзера: {ret[0][2].shape}\")\n",
        "print(f\"вектор 'хорошего' айтема: {ret[0][3].shape}\")\n",
        "print(f\"вектор 'плохого' айтема: {ret[0][4].shape}\")\n",
        "\n",
        "print()\n",
        "print(f\"вектор фичей юзера: {ret[1][0].shape}\")\n",
        "print(f\"вектор взаимодействий юзера с айтемами: {ret[1][1].shape}\")\n",
        "print(f\"последовательность взаимодействий юзера: {ret[1][2].shape}\")"
      ],
      "metadata": {
        "colab": {
          "base_uri": "https://localhost:8080/"
        },
        "id": "W1abSLLuaLhY",
        "outputId": "39365129-ca61-4050-9f03-97d164556dac"
      },
      "execution_count": 38,
      "outputs": [
        {
          "output_type": "stream",
          "name": "stdout",
          "text": [
            "вектор фичей юзера: (16, 16)\n",
            "вектор взаимодействий юзера с айтемами: (16, 6900)\n",
            "последовательность взаимодействий юзера: (16, 5, 1)\n",
            "вектор 'хорошего' айтема: (16, 8993)\n",
            "вектор 'плохого' айтема: (16, 8993)\n",
            "\n",
            "вектор фичей юзера: (16, 16)\n",
            "вектор взаимодействий юзера с айтемами: (16, 6900)\n",
            "последовательность взаимодействий юзера: (16, 5, 1)\n"
          ]
        }
      ]
    },
    {
      "cell_type": "code",
      "source": [
        "N_FACTORS = 128\n",
        "\n",
        "ITEM_MODEL_SHAPE = (items_ohe_df.drop([\"item_id\"], axis=1).shape[1], ) \n",
        "USER_META_MODEL_SHAPE = (users_ohe_df.drop([\"user_id\"], axis=1).shape[1], )\n",
        "\n",
        "USER_INTERACTION_MODEL_SHAPE = (interactions_vec.shape[1], )\n",
        "USER_TEMPORAL_MODEL_SHAPE = (5, interactions_lists.shape[1], )\n",
        "\n",
        "print(f\"N_FACTORS: {N_FACTORS}\")\n",
        "print(f\"ITEM_MODEL_SHAPE: {ITEM_MODEL_SHAPE}\") # add text features\n",
        "print(f\"USER_META_MODEL_SHAPE: {USER_META_MODEL_SHAPE}\")\n",
        "print(f\"USER_INTERACTION_MODEL_SHAPE: {USER_INTERACTION_MODEL_SHAPE}\")\n",
        "print(f\"USER_TEMPORAL_MODEL_SHAPE: {USER_TEMPORAL_MODEL_SHAPE}\")"
      ],
      "metadata": {
        "colab": {
          "base_uri": "https://localhost:8080/"
        },
        "id": "WCdX29dMaQp3",
        "outputId": "94cde6a0-9a3b-46a0-9485-ffad99ccc6c8"
      },
      "execution_count": 39,
      "outputs": [
        {
          "output_type": "stream",
          "name": "stdout",
          "text": [
            "N_FACTORS: 128\n",
            "ITEM_MODEL_SHAPE: (8993,)\n",
            "USER_META_MODEL_SHAPE: (16,)\n",
            "USER_INTERACTION_MODEL_SHAPE: (6900,)\n",
            "USER_TEMPORAL_MODEL_SHAPE: (5, 1)\n"
          ]
        }
      ]
    },
    {
      "cell_type": "markdown",
      "source": [
        "## Архитектура нейронки"
      ],
      "metadata": {
        "id": "3XO9NAVwVQlk"
      }
    },
    {
      "cell_type": "code",
      "source": [
        "def item_model(n_factors=N_FACTORS):\n",
        "    inp = keras.layers.Input(shape=ITEM_MODEL_SHAPE)\n",
        "    \n",
        "    layer_1 = keras.layers.Dense(N_FACTORS, activation='elu', use_bias=False,\n",
        "                               kernel_regularizer=keras.regularizers.l2(1e-6),\n",
        "                               activity_regularizer=keras.regularizers.l2(l2=1e-6))(inp)\n",
        "\n",
        "    layer_2 = keras.layers.Dense(N_FACTORS, activation='elu', use_bias=False,\n",
        "                             kernel_regularizer=keras.regularizers.l2(1e-6),\n",
        "                             activity_regularizer=keras.regularizers.l2(l2=1e-6))(layer_1)\n",
        "    \n",
        "    add = keras.layers.Add()([layer_1, layer_2])\n",
        "    \n",
        "    out = keras.layers.Dense(N_FACTORS, activation='linear', use_bias=False,\n",
        "                             kernel_regularizer=keras.regularizers.l2(1e-6),\n",
        "                             activity_regularizer=keras.regularizers.l2(l2=1e-6))(add)\n",
        "    \n",
        "    return keras.models.Model(inp, out)"
      ],
      "metadata": {
        "id": "bS-cRmEScNsg"
      },
      "execution_count": 40,
      "outputs": []
    },
    {
      "cell_type": "code",
      "source": [
        "def user_model(n_factors=N_FACTORS):\n",
        "    inp_meta = keras.layers.Input(shape=USER_META_MODEL_SHAPE)\n",
        "    inp_interaction = keras.layers.Input(shape=USER_INTERACTION_MODEL_SHAPE)\n",
        "    inp_temporal = keras.layers.Input(shape =USER_TEMPORAL_MODEL_SHAPE)\n",
        "\n",
        "    layer_1_meta = keras.layers.Dense(N_FACTORS, activation='elu', use_bias=False,\n",
        "                                 kernel_regularizer=keras.regularizers.l2(1e-6),\n",
        "                                 activity_regularizer=keras.regularizers.l2(l2=1e-6))(inp_meta)\n",
        "\n",
        "    layer_1_interaction = keras.layers.Dense(N_FACTORS, activation='elu', use_bias=False,\n",
        "                                 kernel_regularizer=keras.regularizers.l2(1e-6),\n",
        "                                 activity_regularizer=keras.regularizers.l2(l2=1e-6))(inp_interaction)\n",
        "\n",
        "    # Temporal слой\n",
        "    layer_1_temporal = (keras.layers.LSTM(64)(inp_temporal))\n",
        "\n",
        "    layer_2_meta = keras.layers.Dense(N_FACTORS, activation='elu', use_bias=False,\n",
        "                                 kernel_regularizer=keras.regularizers.l2(1e-6),\n",
        "                                 activity_regularizer=keras.regularizers.l2(l2=1e-6))(layer_1_meta)\n",
        "    \n",
        "\n",
        "    add = keras.layers.Add()([layer_1_meta, layer_2_meta])\n",
        "    \n",
        "    concat_meta_interaction = keras.layers.Concatenate()([add, layer_1_interaction, layer_1_temporal])\n",
        "    \n",
        "    out = keras.layers.Dense(N_FACTORS, activation='linear', use_bias=False,\n",
        "                             kernel_regularizer=keras.regularizers.l2(1e-6),\n",
        "                             activity_regularizer=keras.regularizers.l2(l2=1e-6))(concat_meta_interaction)\n",
        "    \n",
        "    return keras.models.Model([inp_meta, inp_interaction, inp_temporal], out)"
      ],
      "metadata": {
        "id": "t52kjBThcZE6"
      },
      "execution_count": 41,
      "outputs": []
    },
    {
      "cell_type": "code",
      "source": [
        "i2v = item_model()\n",
        "u2v = user_model()"
      ],
      "metadata": {
        "id": "O0oxubh4cagx"
      },
      "execution_count": 42,
      "outputs": []
    },
    {
      "cell_type": "code",
      "source": [
        "ancor_meta_in = keras.layers.Input(shape=USER_META_MODEL_SHAPE)\n",
        "ancor_interaction_in = keras.layers.Input(shape=USER_INTERACTION_MODEL_SHAPE)\n",
        "ancor_temporal_in = keras.layers.Input(shape = USER_TEMPORAL_MODEL_SHAPE)\n",
        "\n",
        "pos_in = keras.layers.Input(shape=ITEM_MODEL_SHAPE)\n",
        "neg_in = keras.layers.Input(shape=ITEM_MODEL_SHAPE)\n",
        "\n",
        "ancor = u2v([ancor_meta_in, ancor_interaction_in, ancor_temporal_in])\n",
        "pos = i2v(pos_in)\n",
        "neg = i2v(neg_in)\n",
        "\n",
        "res = keras.layers.Concatenate(name=\"concat_ancor_pos_neg\")([ancor, pos, neg])\n",
        "\n",
        "model = keras.models.Model([ancor_meta_in, ancor_interaction_in, ancor_temporal_in, pos_in, neg_in], res)"
      ],
      "metadata": {
        "id": "qM4Zhtuyc3ch"
      },
      "execution_count": 43,
      "outputs": []
    },
    {
      "cell_type": "code",
      "source": [
        "model_name = 'recsys_resnet_linear'\n",
        "\n",
        "decay = keras.callbacks.ReduceLROnPlateau(monitor='loss', patience=2, factor=0.8, verbose=1)\n",
        "early_stopping =  keras.callbacks.EarlyStopping(monitor='loss', patience=4)\n",
        "\n",
        "opt = keras.optimizers.Adam(lr=0.001)\n",
        "model.compile(loss=triplet_loss, optimizer=opt, run_eagerly=True)"
      ],
      "metadata": {
        "id": "aNvJ3pmZc6fP",
        "colab": {
          "base_uri": "https://localhost:8080/"
        },
        "outputId": "2d414d81-547b-4f4d-a721-749d96f6819c"
      },
      "execution_count": 46,
      "outputs": [
        {
          "output_type": "stream",
          "name": "stderr",
          "text": [
            "WARNING:absl:`lr` is deprecated in Keras optimizer, please use `learning_rate` or use the legacy optimizer, e.g.,tf.keras.optimizers.legacy.Adam.\n"
          ]
        }
      ]
    },
    {
      "cell_type": "markdown",
      "source": [
        "## Непосредственное обучение модели"
      ],
      "metadata": {
        "id": "ktIvqNrjVVNc"
      }
    },
    {
      "cell_type": "code",
      "source": [
        "model.fit(\n",
        "    generator(\n",
        "        items=items_ohe_df.drop([\"item_id\"], axis=1), \n",
        "        users=users_ohe_df.drop([\"user_id\"], axis=1), \n",
        "        interactions=interactions_vec,\n",
        "        interactions_lists = interactions_lists,\n",
        "        batch_size=16,\n",
        "    ), \n",
        "    steps_per_epoch=25, \n",
        "    epochs=5, \n",
        "    initial_epoch=0,\n",
        "    callbacks=[decay, early_stopping],\n",
        ")"
      ],
      "metadata": {
        "colab": {
          "base_uri": "https://localhost:8080/"
        },
        "id": "gT19GoZac9J_",
        "outputId": "8088ba57-a461-45db-ed93-f1886f916c41"
      },
      "execution_count": 47,
      "outputs": [
        {
          "output_type": "stream",
          "name": "stdout",
          "text": [
            "Epoch 1/5\n",
            "25/25 [==============================] - 8s 258ms/step - loss: 0.8335 - lr: 0.0010\n",
            "Epoch 2/5\n",
            "25/25 [==============================] - 7s 298ms/step - loss: 0.8000 - lr: 0.0010\n",
            "Epoch 3/5\n",
            "25/25 [==============================] - 7s 276ms/step - loss: 0.7229 - lr: 0.0010\n",
            "Epoch 4/5\n",
            "25/25 [==============================] - 7s 282ms/step - loss: 0.7157 - lr: 0.0010\n",
            "Epoch 5/5\n",
            "25/25 [==============================] - 7s 302ms/step - loss: 0.5840 - lr: 0.0010\n"
          ]
        },
        {
          "output_type": "execute_result",
          "data": {
            "text/plain": [
              "<keras.callbacks.History at 0x7fb6615f33a0>"
            ]
          },
          "metadata": {},
          "execution_count": 47
        }
      ]
    },
    {
      "cell_type": "code",
      "source": [
        "# берем рандомного юзера\n",
        "rand_uid = np.random.choice(list(users_ohe_df.index))\n",
        "\n",
        "# получаем фичи юзера и вектор его просмотров айтемов\n",
        "user_meta_feats = users_ohe_df.drop([\"user_id\"], axis=1).iloc[rand_uid]\n",
        "user_interaction_vec = interactions_vec[rand_uid]\n",
        "user_temporal_vec = interactions_lists.iloc[rand_uid].iid\n",
        "\n",
        "# берем рандомный айтем\n",
        "rand_iid = np.random.choice(list(items_ohe_df.index))\n",
        "# получаем фичи айтема\n",
        "item_feats = items_ohe_df.drop([\"item_id\"], axis=1).iloc[rand_iid]\n",
        "\n",
        "# получаем вектор юзера\n",
        "user_vec = u2v.predict([np.array(user_meta_feats).reshape(1, -1), \n",
        "                        np.array(user_interaction_vec).reshape(1, -1),\n",
        "                        np.array(user_temporal_vec).reshape(1, -1)])\n",
        "\n",
        "# и вектор айтема\n",
        "item_vec = i2v.predict(np.array(item_feats).reshape(1, -1))\n",
        "\n",
        "# считаем расстояние между вектором юзера и вектором айтема\n",
        "ED(user_vec, item_vec)"
      ],
      "metadata": {
        "id": "GcU2m6qXdRYQ",
        "colab": {
          "base_uri": "https://localhost:8080/"
        },
        "outputId": "ffb26eb9-8453-4379-9b09-aba03d8615bf"
      },
      "execution_count": 48,
      "outputs": [
        {
          "output_type": "stream",
          "name": "stdout",
          "text": [
            "1/1 [==============================] - 1s 631ms/step\n",
            "1/1 [==============================] - 0s 92ms/step\n"
          ]
        },
        {
          "output_type": "execute_result",
          "data": {
            "text/plain": [
              "array([[2.8275933]], dtype=float32)"
            ]
          },
          "metadata": {},
          "execution_count": 48
        }
      ]
    },
    {
      "cell_type": "code",
      "source": [
        "# получаем фичи всех айтемов\n",
        "items_feats = items_ohe_df.drop([\"item_id\"], axis=1).to_numpy()\n",
        "# получаем векторы всех айтемов\n",
        "items_vecs = i2v.predict(items_feats)\n",
        "\n",
        "# считаем расстояния\n",
        "dists = ED(user_vec, items_vecs)"
      ],
      "metadata": {
        "colab": {
          "base_uri": "https://localhost:8080/"
        },
        "id": "NqKNZFH_au3o",
        "outputId": "0914de76-5fde-4065-82e1-770772e739d2"
      },
      "execution_count": 49,
      "outputs": [
        {
          "output_type": "stream",
          "name": "stdout",
          "text": [
            "216/216 [==============================] - 1s 2ms/step\n"
          ]
        }
      ]
    },
    {
      "cell_type": "markdown",
      "source": [
        "## Вот тут кончаются ресурсы в коллабе ((("
      ],
      "metadata": {
        "id": "091fGEpveA4s"
      }
    },
    {
      "cell_type": "code",
      "source": [
        "users_meta_feats = users_ohe_df.drop([\"user_id\"], axis=1)\n",
        "users_interaction_vec = interactions_vec\n",
        "user_temporal_vec = interactions_lists.iid"
      ],
      "metadata": {
        "id": "LVVoal8GcRgh"
      },
      "execution_count": 50,
      "outputs": []
    },
    {
      "cell_type": "code",
      "source": [
        "users_vec = u2v.predict([np.array(users_meta_feats), \n",
        "                        np.array(users_interaction_vec),\n",
        "                        np.array(user_temporal_vec)])"
      ],
      "metadata": {
        "id": "_mtFXPREcY3c"
      },
      "execution_count": null,
      "outputs": []
    },
    {
      "cell_type": "code",
      "source": [
        "dists = ED(users_vec, items_vecs)"
      ],
      "metadata": {
        "id": "-rmiFSqYceN4"
      },
      "execution_count": null,
      "outputs": []
    },
    {
      "cell_type": "code",
      "source": [
        "top10_iids = np.argsort(dists, axis=1)[:,:10]"
      ],
      "metadata": {
        "id": "YpDvOjG0cs5g"
      },
      "execution_count": null,
      "outputs": []
    },
    {
      "cell_type": "code",
      "source": [
        "top10_iids_item = [iid_to_item_id[iid] for iid in top10_iids.reshape(-1)]"
      ],
      "metadata": {
        "id": "zNKsRlwGcuya"
      },
      "execution_count": null,
      "outputs": []
    },
    {
      "cell_type": "code",
      "source": [
        "top10_iids_item = np.array(top10_iids_item).reshape(top10_iids.shape)"
      ],
      "metadata": {
        "id": "9yYf3MBbcyKe"
      },
      "execution_count": null,
      "outputs": []
    },
    {
      "cell_type": "code",
      "source": [
        "df_dssm = pd.DataFrame({'user_id': [uid_to_user_id[uid] for uid in np.arange(top10_iids_item.shape[0])]})"
      ],
      "metadata": {
        "id": "sz4A_wvlczu5"
      },
      "execution_count": null,
      "outputs": []
    },
    {
      "cell_type": "code",
      "source": [
        "df_dssm['item_id'] = list(top10_iids_item)"
      ],
      "metadata": {
        "id": "sTh6NbaBc06E"
      },
      "execution_count": null,
      "outputs": []
    },
    {
      "cell_type": "code",
      "source": [
        "df_dssm = df_dssm.explode('item_id')\n",
        "df_dssm['rank'] = df_dssm.groupby('user_id').cumcount() + 1\n",
        "df_dssm = df_dssm.groupby('user_id').agg({'item_id': list}).reset_index()"
      ],
      "metadata": {
        "id": "Si8MgwOUc7S7"
      },
      "execution_count": null,
      "outputs": []
    },
    {
      "cell_type": "code",
      "source": [
        "df_dssm.head()"
      ],
      "metadata": {
        "id": "24QV8cZpc9E7"
      },
      "execution_count": null,
      "outputs": []
    },
    {
      "cell_type": "code",
      "source": [],
      "metadata": {
        "id": "P5rcAWoXc-bT"
      },
      "execution_count": null,
      "outputs": []
    }
  ]
}