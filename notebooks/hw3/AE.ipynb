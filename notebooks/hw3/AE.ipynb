{
 "cells": [
  {
   "cell_type": "code",
   "execution_count": 1,
   "metadata": {
    "colab": {
     "base_uri": "https://localhost:8080/"
    },
    "id": "2f5z8xY3A_rK",
    "outputId": "18cef745-678f-4ce2-f5c1-e43b6e933b39"
   },
   "outputs": [
    {
     "name": "stdout",
     "output_type": "stream",
     "text": [
      "Looking in indexes: https://pypi.org/simple, https://us-python.pkg.dev/colab-wheels/public/simple/\n",
      "Requirement already satisfied: rectools in /usr/local/lib/python3.9/dist-packages (0.3.0)\n",
      "Requirement already satisfied: typeguard<3.0.0,>=2.0.1 in /usr/local/lib/python3.9/dist-packages (from rectools) (2.13.3)\n",
      "Requirement already satisfied: lightfm<2.0,>=1.16 in /usr/local/lib/python3.9/dist-packages (from rectools) (1.17)\n",
      "Requirement already satisfied: tqdm<5.0.0,>=4.27.0 in /usr/local/lib/python3.9/dist-packages (from rectools) (4.65.0)\n",
      "Requirement already satisfied: attrs<22.0.0,>=19.1.0 in /usr/local/lib/python3.9/dist-packages (from rectools) (21.4.0)\n",
      "Requirement already satisfied: implicit==0.4.4 in /usr/local/lib/python3.9/dist-packages (from rectools) (0.4.4)\n",
      "Requirement already satisfied: nmslib<3.0.0,>=2.0.4 in /usr/local/lib/python3.9/dist-packages (from rectools) (2.1.1)\n",
      "Requirement already satisfied: Markdown<3.3,>=3.2 in /usr/local/lib/python3.9/dist-packages (from rectools) (3.2.2)\n",
      "Requirement already satisfied: numpy<2.0.0,>=1.19.5 in /usr/local/lib/python3.9/dist-packages (from rectools) (1.22.4)\n",
      "Requirement already satisfied: pandas<2.0.0,>=0.25.3 in /usr/local/lib/python3.9/dist-packages (from rectools) (1.5.3)\n",
      "Requirement already satisfied: scipy<2.0.0,>=1.5.4 in /usr/local/lib/python3.9/dist-packages (from rectools) (1.10.1)\n",
      "Requirement already satisfied: scikit-learn in /usr/local/lib/python3.9/dist-packages (from lightfm<2.0,>=1.16->rectools) (1.2.2)\n",
      "Requirement already satisfied: requests in /usr/local/lib/python3.9/dist-packages (from lightfm<2.0,>=1.16->rectools) (2.27.1)\n",
      "Requirement already satisfied: pybind11<2.6.2 in /usr/local/lib/python3.9/dist-packages (from nmslib<3.0.0,>=2.0.4->rectools) (2.6.1)\n",
      "Requirement already satisfied: psutil in /usr/local/lib/python3.9/dist-packages (from nmslib<3.0.0,>=2.0.4->rectools) (5.9.5)\n",
      "Requirement already satisfied: python-dateutil>=2.8.1 in /usr/local/lib/python3.9/dist-packages (from pandas<2.0.0,>=0.25.3->rectools) (2.8.2)\n",
      "Requirement already satisfied: pytz>=2020.1 in /usr/local/lib/python3.9/dist-packages (from pandas<2.0.0,>=0.25.3->rectools) (2022.7.1)\n",
      "Requirement already satisfied: six>=1.5 in /usr/local/lib/python3.9/dist-packages (from python-dateutil>=2.8.1->pandas<2.0.0,>=0.25.3->rectools) (1.16.0)\n",
      "Requirement already satisfied: certifi>=2017.4.17 in /usr/local/lib/python3.9/dist-packages (from requests->lightfm<2.0,>=1.16->rectools) (2022.12.7)\n",
      "Requirement already satisfied: idna<4,>=2.5 in /usr/local/lib/python3.9/dist-packages (from requests->lightfm<2.0,>=1.16->rectools) (3.4)\n",
      "Requirement already satisfied: charset-normalizer~=2.0.0 in /usr/local/lib/python3.9/dist-packages (from requests->lightfm<2.0,>=1.16->rectools) (2.0.12)\n",
      "Requirement already satisfied: urllib3<1.27,>=1.21.1 in /usr/local/lib/python3.9/dist-packages (from requests->lightfm<2.0,>=1.16->rectools) (1.26.15)\n",
      "Requirement already satisfied: threadpoolctl>=2.0.0 in /usr/local/lib/python3.9/dist-packages (from scikit-learn->lightfm<2.0,>=1.16->rectools) (3.1.0)\n",
      "Requirement already satisfied: joblib>=1.1.1 in /usr/local/lib/python3.9/dist-packages (from scikit-learn->lightfm<2.0,>=1.16->rectools) (1.2.0)\n"
     ]
    }
   ],
   "source": [
    "!pip install rectools"
   ]
  },
  {
   "cell_type": "code",
   "execution_count": 12,
   "metadata": {
    "id": "iBe6UHPMBI3p"
   },
   "outputs": [],
   "source": [
    "from sklearn.model_selection import train_test_split\n",
    "import torch\n",
    "from torch import nn\n",
    "from torch.utils.data import Dataset, DataLoader\n",
    "import numpy as np\n",
    "import pandas as pd\n",
    "from tqdm.auto import tqdm\n",
    "from rectools import Columns\n",
    "import requests\n",
    "import zipfile as zf\n",
    "import math\n",
    "from scipy.sparse import csr_matrix\n",
    "import matplotlib.pyplot as plt\n",
    "\n"
   ]
  },
  {
   "cell_type": "markdown",
   "metadata": {
    "id": "aoxdNpXewWoS"
   },
   "source": [
    "## Data preparation"
   ]
  },
  {
   "cell_type": "markdown",
   "metadata": {
    "id": "vQqA7z7Kw_zg"
   },
   "source": [
    "### Extracting KION dataset"
   ]
  },
  {
   "cell_type": "code",
   "execution_count": 3,
   "metadata": {
    "colab": {
     "base_uri": "https://localhost:8080/",
     "height": 49,
     "referenced_widgets": [
      "555257c361f34a1fb842d617b4c67c45",
      "35040bf0d46a4e2bac1df3f48cd5327f",
      "74f5c4cb84494a9ab11dff01aa9c5dc3",
      "7ed24f26fc684293a4dbbb34570428ed",
      "872e072f36624a81baa210685e320f65",
      "787a33b69c8c4745af3fa154e41c9a15",
      "f1e0bd3234dc4323b937991dd13809cd",
      "d0b75009c9bc4132b7cd279956cf06a1",
      "56c0ca6ef5084d67bfbfca79b523add0",
      "199a9d390f104c2d9ce968a204ff5ef2",
      "e09d7d4ac2e843fe9d1d8782ddc035d4"
     ]
    },
    "id": "iUsfmr6wBUSP",
    "outputId": "ca6d0494-6cc1-4e8c-84ef-a1df3e713f85"
   },
   "outputs": [
    {
     "data": {
      "application/vnd.jupyter.widget-view+json": {
       "model_id": "555257c361f34a1fb842d617b4c67c45",
       "version_major": 2,
       "version_minor": 0
      },
      "text/plain": [
       "kion dataset download:   0%|          | 0.00/78.8M [00:00<?, ?iB/s]"
      ]
     },
     "metadata": {},
     "output_type": "display_data"
    }
   ],
   "source": [
    "url = 'https://github.com/irsafilo/KION_DATASET/raw/f69775be31fa5779907cf0a92ddedb70037fb5ae/data_original.zip'\n",
    "\n",
    "req = requests.get(url, stream=True)\n",
    "\n",
    "with open('kion.zip', 'wb') as fd:\n",
    "    total_size_in_bytes = int(req.headers.get('Content-Length', 0))\n",
    "    progress_bar = tqdm(desc='kion dataset download', total=total_size_in_bytes, unit='iB', unit_scale=True)\n",
    "    for chunk in req.iter_content(chunk_size=2 ** 20):\n",
    "        progress_bar.update(len(chunk))\n",
    "        fd.write(chunk)"
   ]
  },
  {
   "cell_type": "code",
   "execution_count": 4,
   "metadata": {
    "id": "ZKA5v8k5BWMe"
   },
   "outputs": [],
   "source": [
    "files = zf.ZipFile('kion.zip','r')\n",
    "files.extractall()\n",
    "files.close()\n"
   ]
  },
  {
   "cell_type": "code",
   "execution_count": 5,
   "metadata": {
    "id": "4Zb1HhzEBXU5"
   },
   "outputs": [],
   "source": [
    "users = pd.read_csv('data_original/users.csv')\n",
    "items = pd.read_csv('data_original/items.csv')\n",
    "interactions = pd.read_csv('data_original/interactions.csv')"
   ]
  },
  {
   "cell_type": "markdown",
   "metadata": {
    "id": "FnpD-56DxE0i"
   },
   "source": [
    "### Dataset transformations"
   ]
  },
  {
   "cell_type": "code",
   "execution_count": 6,
   "metadata": {
    "id": "Nlbu5jNfBbyl"
   },
   "outputs": [],
   "source": [
    "# Rename columns\n",
    "interactions.rename(columns={\n",
    "    'last_watch_dt': 'datetime',\n",
    "    'watched_pct': 'weight'\n",
    "}, inplace=True)"
   ]
  },
  {
   "cell_type": "code",
   "execution_count": 7,
   "metadata": {
    "id": "A0bgWHTbBhQ2"
   },
   "outputs": [],
   "source": [
    "# Drop all rows with non 10 symbols date \n",
    "# And transform remaining dates to pandas datetime \n",
    "interactions.drop(interactions[interactions[Columns.Datetime].str.len() != 10].index, inplace=True)\n",
    "interactions[Columns.Datetime] = pd.to_datetime(interactions[Columns.Datetime], format='%Y-%m-%d')"
   ]
  },
  {
   "cell_type": "code",
   "execution_count": 8,
   "metadata": {
    "id": "EvPwunrUBifP"
   },
   "outputs": [],
   "source": [
    "# Take only little amount interactions\n",
    "# Because RAM and GPU memory aren't infinite\n",
    "interactions_df = interactions[interactions['datetime'] < '2021-04-01']"
   ]
  },
  {
   "cell_type": "code",
   "execution_count": 9,
   "metadata": {
    "colab": {
     "base_uri": "https://localhost:8080/"
    },
    "id": "D4d2SftWBnEl",
    "outputId": "56ad436b-b6c0-46a7-86e7-67c04d513bab"
   },
   "outputs": [
    {
     "name": "stdout",
     "output_type": "stream",
     "text": [
      "# users: 86614\n",
      "# users with at least 5 interactions: 14563\n"
     ]
    }
   ],
   "source": [
    "# Take users with 5 and more interactions\n",
    "users_interactions_count_df = interactions_df.groupby(['user_id', 'item_id']).size().groupby('user_id').size()\n",
    "print('# users: %d' % len(users_interactions_count_df))\n",
    "users_with_enough_interactions_df = users_interactions_count_df[users_interactions_count_df >= 5].reset_index()[['user_id']]\n",
    "print('# users with at least 5 interactions: %d' % len(users_with_enough_interactions_df))"
   ]
  },
  {
   "cell_type": "code",
   "execution_count": 10,
   "metadata": {
    "colab": {
     "base_uri": "https://localhost:8080/"
    },
    "id": "Gyii84nvBrf7",
    "outputId": "b886255f-5a54-449f-df46-59d94dcee4e0"
   },
   "outputs": [
    {
     "name": "stdout",
     "output_type": "stream",
     "text": [
      "# of interactions: 263874\n",
      "# of interactions from users with at least 5 interactions: 142670\n"
     ]
    }
   ],
   "source": [
    "# And their interactions\n",
    "print('# of interactions: %d' % len(interactions_df))\n",
    "interactions_from_selected_users_df = interactions_df.merge(users_with_enough_interactions_df, \n",
    "               how = 'right',\n",
    "               left_on = 'user_id',\n",
    "               right_on = 'user_id')\n",
    "print('# of interactions from users with at least 5 interactions: %d' % len(interactions_from_selected_users_df))\n"
   ]
  },
  {
   "cell_type": "code",
   "execution_count": 11,
   "metadata": {
    "colab": {
     "base_uri": "https://localhost:8080/",
     "height": 380
    },
    "id": "sEYUwfyoBvAK",
    "outputId": "0a512cc3-cd12-40d4-ae31-0a3834085751"
   },
   "outputs": [
    {
     "name": "stdout",
     "output_type": "stream",
     "text": [
      "# of unique user/item interactions: 142670\n"
     ]
    },
    {
     "data": {
      "text/html": [
       "\n",
       "  <div id=\"df-1673eab4-1df1-4e64-8056-9ba19471df5e\">\n",
       "    <div class=\"colab-df-container\">\n",
       "      <div>\n",
       "<style scoped>\n",
       "    .dataframe tbody tr th:only-of-type {\n",
       "        vertical-align: middle;\n",
       "    }\n",
       "\n",
       "    .dataframe tbody tr th {\n",
       "        vertical-align: top;\n",
       "    }\n",
       "\n",
       "    .dataframe thead th {\n",
       "        text-align: right;\n",
       "    }\n",
       "</style>\n",
       "<table border=\"1\" class=\"dataframe\">\n",
       "  <thead>\n",
       "    <tr style=\"text-align: right;\">\n",
       "      <th></th>\n",
       "      <th>user_id</th>\n",
       "      <th>item_id</th>\n",
       "      <th>weight</th>\n",
       "    </tr>\n",
       "  </thead>\n",
       "  <tbody>\n",
       "    <tr>\n",
       "      <th>0</th>\n",
       "      <td>21</td>\n",
       "      <td>849</td>\n",
       "      <td>6.375039</td>\n",
       "    </tr>\n",
       "    <tr>\n",
       "      <th>1</th>\n",
       "      <td>21</td>\n",
       "      <td>4345</td>\n",
       "      <td>6.658211</td>\n",
       "    </tr>\n",
       "    <tr>\n",
       "      <th>2</th>\n",
       "      <td>21</td>\n",
       "      <td>10283</td>\n",
       "      <td>6.658211</td>\n",
       "    </tr>\n",
       "    <tr>\n",
       "      <th>3</th>\n",
       "      <td>21</td>\n",
       "      <td>12261</td>\n",
       "      <td>6.658211</td>\n",
       "    </tr>\n",
       "    <tr>\n",
       "      <th>4</th>\n",
       "      <td>21</td>\n",
       "      <td>15997</td>\n",
       "      <td>6.658211</td>\n",
       "    </tr>\n",
       "    <tr>\n",
       "      <th>5</th>\n",
       "      <td>32</td>\n",
       "      <td>952</td>\n",
       "      <td>6.044394</td>\n",
       "    </tr>\n",
       "    <tr>\n",
       "      <th>6</th>\n",
       "      <td>32</td>\n",
       "      <td>4382</td>\n",
       "      <td>4.954196</td>\n",
       "    </tr>\n",
       "    <tr>\n",
       "      <th>7</th>\n",
       "      <td>32</td>\n",
       "      <td>4807</td>\n",
       "      <td>6.658211</td>\n",
       "    </tr>\n",
       "    <tr>\n",
       "      <th>8</th>\n",
       "      <td>32</td>\n",
       "      <td>10436</td>\n",
       "      <td>6.658211</td>\n",
       "    </tr>\n",
       "    <tr>\n",
       "      <th>9</th>\n",
       "      <td>32</td>\n",
       "      <td>12132</td>\n",
       "      <td>6.658211</td>\n",
       "    </tr>\n",
       "  </tbody>\n",
       "</table>\n",
       "</div>\n",
       "      <button class=\"colab-df-convert\" onclick=\"convertToInteractive('df-1673eab4-1df1-4e64-8056-9ba19471df5e')\"\n",
       "              title=\"Convert this dataframe to an interactive table.\"\n",
       "              style=\"display:none;\">\n",
       "        \n",
       "  <svg xmlns=\"http://www.w3.org/2000/svg\" height=\"24px\"viewBox=\"0 0 24 24\"\n",
       "       width=\"24px\">\n",
       "    <path d=\"M0 0h24v24H0V0z\" fill=\"none\"/>\n",
       "    <path d=\"M18.56 5.44l.94 2.06.94-2.06 2.06-.94-2.06-.94-.94-2.06-.94 2.06-2.06.94zm-11 1L8.5 8.5l.94-2.06 2.06-.94-2.06-.94L8.5 2.5l-.94 2.06-2.06.94zm10 10l.94 2.06.94-2.06 2.06-.94-2.06-.94-.94-2.06-.94 2.06-2.06.94z\"/><path d=\"M17.41 7.96l-1.37-1.37c-.4-.4-.92-.59-1.43-.59-.52 0-1.04.2-1.43.59L10.3 9.45l-7.72 7.72c-.78.78-.78 2.05 0 2.83L4 21.41c.39.39.9.59 1.41.59.51 0 1.02-.2 1.41-.59l7.78-7.78 2.81-2.81c.8-.78.8-2.07 0-2.86zM5.41 20L4 18.59l7.72-7.72 1.47 1.35L5.41 20z\"/>\n",
       "  </svg>\n",
       "      </button>\n",
       "      \n",
       "  <style>\n",
       "    .colab-df-container {\n",
       "      display:flex;\n",
       "      flex-wrap:wrap;\n",
       "      gap: 12px;\n",
       "    }\n",
       "\n",
       "    .colab-df-convert {\n",
       "      background-color: #E8F0FE;\n",
       "      border: none;\n",
       "      border-radius: 50%;\n",
       "      cursor: pointer;\n",
       "      display: none;\n",
       "      fill: #1967D2;\n",
       "      height: 32px;\n",
       "      padding: 0 0 0 0;\n",
       "      width: 32px;\n",
       "    }\n",
       "\n",
       "    .colab-df-convert:hover {\n",
       "      background-color: #E2EBFA;\n",
       "      box-shadow: 0px 1px 2px rgba(60, 64, 67, 0.3), 0px 1px 3px 1px rgba(60, 64, 67, 0.15);\n",
       "      fill: #174EA6;\n",
       "    }\n",
       "\n",
       "    [theme=dark] .colab-df-convert {\n",
       "      background-color: #3B4455;\n",
       "      fill: #D2E3FC;\n",
       "    }\n",
       "\n",
       "    [theme=dark] .colab-df-convert:hover {\n",
       "      background-color: #434B5C;\n",
       "      box-shadow: 0px 1px 3px 1px rgba(0, 0, 0, 0.15);\n",
       "      filter: drop-shadow(0px 1px 2px rgba(0, 0, 0, 0.3));\n",
       "      fill: #FFFFFF;\n",
       "    }\n",
       "  </style>\n",
       "\n",
       "      <script>\n",
       "        const buttonEl =\n",
       "          document.querySelector('#df-1673eab4-1df1-4e64-8056-9ba19471df5e button.colab-df-convert');\n",
       "        buttonEl.style.display =\n",
       "          google.colab.kernel.accessAllowed ? 'block' : 'none';\n",
       "\n",
       "        async function convertToInteractive(key) {\n",
       "          const element = document.querySelector('#df-1673eab4-1df1-4e64-8056-9ba19471df5e');\n",
       "          const dataTable =\n",
       "            await google.colab.kernel.invokeFunction('convertToInteractive',\n",
       "                                                     [key], {});\n",
       "          if (!dataTable) return;\n",
       "\n",
       "          const docLinkHtml = 'Like what you see? Visit the ' +\n",
       "            '<a target=\"_blank\" href=https://colab.research.google.com/notebooks/data_table.ipynb>data table notebook</a>'\n",
       "            + ' to learn more about interactive tables.';\n",
       "          element.innerHTML = '';\n",
       "          dataTable['output_type'] = 'display_data';\n",
       "          await google.colab.output.renderOutput(dataTable, element);\n",
       "          const docLink = document.createElement('div');\n",
       "          docLink.innerHTML = docLinkHtml;\n",
       "          element.appendChild(docLink);\n",
       "        }\n",
       "      </script>\n",
       "    </div>\n",
       "  </div>\n",
       "  "
      ],
      "text/plain": [
       "   user_id  item_id    weight\n",
       "0       21      849  6.375039\n",
       "1       21     4345  6.658211\n",
       "2       21    10283  6.658211\n",
       "3       21    12261  6.658211\n",
       "4       21    15997  6.658211\n",
       "5       32      952  6.044394\n",
       "6       32     4382  4.954196\n",
       "7       32     4807  6.658211\n",
       "8       32    10436  6.658211\n",
       "9       32    12132  6.658211"
      ]
     },
     "execution_count": 11,
     "metadata": {},
     "output_type": "execute_result"
    }
   ],
   "source": [
    "# Smooth weights using logarithm\n",
    "def smooth_user_preference(x):\n",
    "    return math.log(1+x, 2)\n",
    "    \n",
    "interactions_full_df = interactions_from_selected_users_df \\\n",
    "                    .groupby(['user_id', 'item_id'])['weight'].sum() \\\n",
    "                    .apply(smooth_user_preference).reset_index()\n",
    "print('# of unique user/item interactions: %d' % len(interactions_full_df))\n",
    "interactions_full_df.head(10)\n"
   ]
  },
  {
   "cell_type": "code",
   "execution_count": 13,
   "metadata": {
    "colab": {
     "base_uri": "https://localhost:8080/"
    },
    "id": "T6Lg_SVFByiQ",
    "outputId": "4b942b14-e568-443c-a57f-8a312c30bd20"
   },
   "outputs": [
    {
     "name": "stdout",
     "output_type": "stream",
     "text": [
      "# interactions on Train set: 114136\n",
      "# interactions on Test set: 28534\n"
     ]
    }
   ],
   "source": [
    "# Train/Test split\n",
    "interactions_train_df, interactions_test_df = train_test_split(interactions_full_df,\n",
    "                                   stratify=interactions_full_df['user_id'], \n",
    "                                   test_size=0.20,\n",
    "                                   random_state=42)\n",
    "\n",
    "print('# interactions on Train set: %d' % len(interactions_train_df))\n",
    "print('# interactions on Test set: %d' % len(interactions_test_df))\n"
   ]
  },
  {
   "cell_type": "code",
   "execution_count": 14,
   "metadata": {
    "id": "aFDh9ssvB0ng"
   },
   "outputs": [],
   "source": [
    "#Indexing by personId to speed up the searches during evaluation\n",
    "interactions_full_indexed_df = interactions_full_df.set_index('user_id')\n",
    "interactions_train_indexed_df = interactions_train_df.set_index('user_id')\n",
    "interactions_test_indexed_df = interactions_test_df.set_index('user_id')"
   ]
  },
  {
   "cell_type": "code",
   "execution_count": 15,
   "metadata": {
    "colab": {
     "base_uri": "https://localhost:8080/"
    },
    "id": "SoaSpjurCAiQ",
    "outputId": "055a1965-6690-40bf-ba32-c41e44be9d9f"
   },
   "outputs": [
    {
     "name": "stderr",
     "output_type": "stream",
     "text": [
      "<ipython-input-15-b0e85c64b416>:2: FutureWarning: The frame.append method is deprecated and will be removed from pandas in a future version. Use pandas.concat instead.\n",
      "  total_df = interactions_train_df.append(interactions_test_indexed_df.reset_index())\n"
     ]
    }
   ],
   "source": [
    "# Encode id's\n",
    "total_df = interactions_train_df.append(interactions_test_indexed_df.reset_index())\n",
    "total_df['user_id'], users_keys = total_df.user_id.factorize()\n",
    "total_df['item_id'], items_keys = total_df.item_id.factorize()\n",
    "\n",
    "train_encoded = total_df.iloc[:len(interactions_train_df)].values\n",
    "test_encoded = total_df.iloc[len(interactions_train_df):].values"
   ]
  },
  {
   "cell_type": "code",
   "execution_count": 16,
   "metadata": {
    "id": "eO1ev_e3CBmf"
   },
   "outputs": [],
   "source": [
    "shape = [int(total_df['user_id'].max()+1), int(total_df['item_id'].max()+1)]\n",
    "X_train = csr_matrix((train_encoded[:, 2], (train_encoded[:, 0], train_encoded[:, 1])), shape=shape).toarray()\n",
    "X_test = csr_matrix((test_encoded[:, 2], (test_encoded[:, 0], test_encoded[:, 1])), shape=shape).toarray()"
   ]
  },
  {
   "cell_type": "code",
   "execution_count": 17,
   "metadata": {
    "id": "eQlHXQDeCC5e"
   },
   "outputs": [],
   "source": [
    "# Initialize the DataObject, which must return an element (features vector x and target value y)\n",
    "# for a given idx. This class must also have a length atribute\n",
    "class UserOrientedDataset(Dataset):\n",
    "    def __init__(self, X):\n",
    "        super().__init__() # to initialize the parent class\n",
    "        self.X = X.astype(np.float32)\n",
    "        self.len = len(X)\n",
    "\n",
    "    def __len__(self): # We use __func__ for implementing in-built python functions\n",
    "        return self.len\n",
    "\n",
    "    def __getitem__(self, index):\n",
    "        return self.X[index]"
   ]
  },
  {
   "cell_type": "code",
   "execution_count": 22,
   "metadata": {
    "id": "0GIc7LMYy5gt"
   },
   "outputs": [],
   "source": [
    "BATCH_SIZE = 3000 # training batch size\n",
    "EVAL_BATCH_SIZE = 3000 # evaluation batch size.\n",
    "SEED = 42 # random seed for reproducibility"
   ]
  },
  {
   "cell_type": "code",
   "execution_count": 19,
   "metadata": {
    "id": "ncUkZvwbCD9w"
   },
   "outputs": [],
   "source": [
    "# Initialize DataLoaders - objects, which sample instances from DataObject-s\n",
    "train_dl = DataLoader(\n",
    "    UserOrientedDataset(X_train),\n",
    "    batch_size = BATCH_SIZE,\n",
    "    shuffle = True\n",
    ")\n",
    "\n",
    "test_dl = DataLoader(\n",
    "    UserOrientedDataset(X_test),\n",
    "    batch_size = EVAL_BATCH_SIZE,\n",
    "    shuffle = False\n",
    ")\n",
    "\n",
    "dls = {'train': train_dl, 'test': test_dl}"
   ]
  },
  {
   "cell_type": "markdown",
   "metadata": {
    "id": "aii9sEoM58zO"
   },
   "source": [
    "## Models training"
   ]
  },
  {
   "cell_type": "code",
   "execution_count": 20,
   "metadata": {
    "id": "zpIdX6CxzEFA"
   },
   "outputs": [],
   "source": [
    "user_vector_len = len(X_train[0])"
   ]
  },
  {
   "cell_type": "code",
   "execution_count": 23,
   "metadata": {
    "colab": {
     "base_uri": "https://localhost:8080/"
    },
    "id": "mBcQP3K6zt9X",
    "outputId": "25267503-7990-4e81-b324-1549aa17093b"
   },
   "outputs": [
    {
     "data": {
      "text/plain": [
       "<torch._C.Generator at 0x7fea2bc66650>"
      ]
     },
     "execution_count": 23,
     "metadata": {},
     "output_type": "execute_result"
    }
   ],
   "source": [
    "torch.manual_seed(SEED) # Fix random seed to have reproducible weights of model layers"
   ]
  },
  {
   "cell_type": "code",
   "execution_count": 24,
   "metadata": {
    "id": "8hmnUgb6z-Ng"
   },
   "outputs": [],
   "source": [
    "def rmse_for_sparse(x_pred, x_true):\n",
    "    mask = (x_true > 0)\n",
    "    sq_diff = (x_pred * mask - x_true) ** 2\n",
    "    mse = sq_diff.sum() / mask.sum()\n",
    "    return mse ** (1/2)"
   ]
  },
  {
   "cell_type": "code",
   "execution_count": 25,
   "metadata": {
    "id": "bViMkjqdCZz4"
   },
   "outputs": [],
   "source": [
    "class AERecommender:\n",
    "    \n",
    "    MODEL_NAME = 'Autoencoder'\n",
    "    \n",
    "    def __init__(self, X_preds, X_train_and_val, X_test):\n",
    "\n",
    "        self.X_preds = X_preds.cpu().detach().numpy()\n",
    "        self.X_train_and_val = X_train_and_val\n",
    "        self.X_test = X_test\n",
    "        \n",
    "    def get_model_name(self):\n",
    "        return self.MODEL_NAME\n",
    "        \n",
    "    def recommend_items(self, user_id, items_to_select_idx, topn=10, verbose=False):\n",
    "        user_preds = self.X_preds[user_id][items_to_select_idx]\n",
    "        items_idx = items_to_select_idx[np.argsort(-user_preds)[:topn]]\n",
    "\n",
    "        # Recommend the highest predicted rating movies that the user hasn't seen yet.\n",
    "        return items_idx\n",
    "\n",
    "    def evaluate(self, size=100):\n",
    "\n",
    "        X_total = self.X_train_and_val + self.X_test\n",
    "\n",
    "        true_5 = []\n",
    "        true_10 = []\n",
    "\n",
    "        for user_id in range(len(X_test)):\n",
    "            non_zero = np.argwhere(self.X_test[user_id] > 0).ravel()\n",
    "            all_nonzero = np.argwhere(X_total[user_id] > 0).ravel()\n",
    "            select_from = np.setdiff1d(np.arange(X_total.shape[1]), all_nonzero)\n",
    "\n",
    "            for non_zero_idx in non_zero:\n",
    "                random_non_interacted_items = np.random.choice(select_from, size, replace=False)\n",
    "                preds = self.recommend_items(user_id, np.append(random_non_interacted_items, non_zero_idx), topn=10)\n",
    "                true_5.append(non_zero_idx in preds[:5])\n",
    "                true_10.append(non_zero_idx in preds)\n",
    "\n",
    "        return {\"recall@5\": np.mean(true_5), \"recall@10\": np.mean(true_10)}\n",
    "    \n",
    "\n"
   ]
  },
  {
   "cell_type": "code",
   "execution_count": 39,
   "metadata": {
    "id": "KwW9C-SOzz8w"
   },
   "outputs": [],
   "source": [
    "def train_model(model, model_name):\n",
    "  # Initialize GD method, which will update the weights of the model\n",
    "  optimizer = torch.optim.AdamW(model.parameters(), lr=LR, weight_decay=WEIGHT_DECAY)\n",
    "  # Initialize learning rate scheduler, which will decrease LR according to some rule\n",
    "  scheduler = torch.optim.lr_scheduler.ExponentialLR(optimizer, gamma=GAMMA)\n",
    "  \n",
    "  # Training loop\n",
    "  metrics_dict = {\n",
    "      \"Epoch\": [],\n",
    "      \"Train RMSE\": [],\n",
    "      \"Test RMSE\": [],\n",
    "  }\n",
    "\n",
    "  # Train loop\n",
    "  for epoch in range(NUM_EPOCHS):\n",
    "      metrics_dict[\"Epoch\"].append(epoch)\n",
    "      for stage in ['train', 'test']:\n",
    "          with torch.set_grad_enabled(stage == 'train'): # Whether to start building a graph for a backward pass\n",
    "              if stage == 'train':\n",
    "                  model.train() # Enable some \"special\" layers (will speak about later)\n",
    "              else:\n",
    "                  model.eval() # Disable some \"special\" layers (will speak about later)\n",
    "\n",
    "              loss_at_stage = 0 \n",
    "              for batch in dls[stage]:\n",
    "                  batch = batch.to(DEVICE)\n",
    "                  x_pred = model(batch) # forward pass: model(x_batch) -> calls forward()\n",
    "                  loss = rmse_for_sparse(x_pred, batch) # ¡Important! y_pred is always the first arg\n",
    "                  if stage == \"train\":\n",
    "                      loss.backward() # Calculate the gradients of all the parameters wrt loss\n",
    "                      optimizer.step() # Update the parameters\n",
    "                      scheduler.step()\n",
    "                      optimizer.zero_grad() # Zero the saved gradient\n",
    "                  loss_at_stage += loss.item() * len(batch)\n",
    "              rmse_at_stage = (loss_at_stage / len(dls[stage].dataset)) ** (1/2)\n",
    "              metrics_dict[f\"{stage.title()} RMSE\"].append(rmse_at_stage)\n",
    "\n",
    "  with torch.no_grad():\n",
    "    X_pred = model(torch.Tensor(X_test).cuda())\n",
    "\n",
    "  ae_recommender_model = AERecommender(X_pred, X_train, X_test)\n",
    "  ae_global_metrics = ae_recommender_model.evaluate()\n",
    "  recall_5, recall_10 = ae_global_metrics[\"recall@5\"], ae_global_metrics[\"recall@10\"]\n",
    "\n",
    "  print(f\"Model: {model_name}, Optim: {optimizer}, Sched: {scheduler}\")\n",
    "  print(f\"Recall@5: {recall_5}, Recall@10: {recall_10}\")\n",
    "  print()\n",
    "\n",
    "  return metrics_dict"
   ]
  },
  {
   "cell_type": "code",
   "execution_count": 41,
   "metadata": {
    "id": "I7E77cyDB9tw"
   },
   "outputs": [],
   "source": [
    "# Constants\n",
    "\n",
    "LR = 1e-3 # learning rate, controls the speed of the training\n",
    "WEIGHT_DECAY = 0.01 # lambda for L2 reg. ()\n",
    "NUM_EPOCHS = 100 # num training epochs (how many times each instance will be processed)\n",
    "GAMMA = 0.9995 # learning rate scheduler parameter\n",
    "\n",
    "DEVICE = 'cuda' #'cuda' # device to make the calculations on"
   ]
  },
  {
   "cell_type": "code",
   "execution_count": 32,
   "metadata": {
    "id": "-RjolYmsCMmO"
   },
   "outputs": [],
   "source": [
    "HIDDEN_SIZE_1 = 1024\n",
    "HIDDEN_SIZE_2 = 512\n",
    "HIDDEN_SIZE_3 = 256"
   ]
  },
  {
   "cell_type": "markdown",
   "metadata": {
    "id": "ps7hpID36Coz"
   },
   "source": [
    "### Four different architectures"
   ]
  },
  {
   "cell_type": "code",
   "execution_count": 33,
   "metadata": {
    "id": "Czl0eG814SXO"
   },
   "outputs": [],
   "source": [
    "class TwoLayerAutoEncoderWithLReLU(nn.Module):\n",
    "  def __init__(self, in_and_out_features):\n",
    "    super().__init__()\n",
    "    self.in_and_out_features = in_and_out_features\n",
    "\n",
    "    self.sequential = nn.Sequential( \n",
    "      nn.Linear(in_and_out_features, HIDDEN_SIZE_1), \n",
    "      nn.LeakyReLU(), \n",
    "      nn.Linear(HIDDEN_SIZE_1, HIDDEN_SIZE_2),\n",
    "      nn.LeakyReLU(),\n",
    "      nn.Linear(HIDDEN_SIZE_2, HIDDEN_SIZE_1),\n",
    "      nn.LeakyReLU(),\n",
    "      nn.Linear(HIDDEN_SIZE_1, in_and_out_features) \n",
    "    )\n",
    "\n",
    "  def forward(self, x): \n",
    "    x = self.sequential(x)\n",
    "    return x"
   ]
  },
  {
   "cell_type": "code",
   "execution_count": 34,
   "metadata": {
    "id": "pfpdMtldCFZY"
   },
   "outputs": [],
   "source": [
    "class ThreeLayerAutoEncoderWithLReLU(nn.Module):\n",
    "  def __init__(self, in_and_out_features):\n",
    "    super().__init__()\n",
    "    self.in_and_out_features = in_and_out_features\n",
    "\n",
    "    self.sequential = nn.Sequential( \n",
    "      nn.Linear(in_and_out_features, HIDDEN_SIZE_1), \n",
    "      nn.LeakyReLU(),\n",
    "      nn.Linear(HIDDEN_SIZE_1, HIDDEN_SIZE_2),\n",
    "      nn.LeakyReLU(),\n",
    "      nn.Linear(HIDDEN_SIZE_2, HIDDEN_SIZE_3),\n",
    "      nn.LeakyReLU(),\n",
    "      nn.Linear(HIDDEN_SIZE_3, HIDDEN_SIZE_2),\n",
    "      nn.LeakyReLU(),\n",
    "      nn.Linear(HIDDEN_SIZE_2, HIDDEN_SIZE_1),\n",
    "      nn.LeakyReLU(),\n",
    "      nn.Linear(HIDDEN_SIZE_1, in_and_out_features) \n",
    "    )\n",
    "\n",
    "  def forward(self, x): \n",
    "    x = self.sequential(x)\n",
    "    return x"
   ]
  },
  {
   "cell_type": "code",
   "execution_count": 35,
   "metadata": {
    "id": "_Tvxtm0T44BD"
   },
   "outputs": [],
   "source": [
    "class TwoLayerAutoEncoderWithTanh(nn.Module):\n",
    "  def __init__(self, in_and_out_features):\n",
    "    super().__init__()\n",
    "    self.in_and_out_features = in_and_out_features\n",
    "\n",
    "    self.sequential = nn.Sequential( \n",
    "      nn.Linear(in_and_out_features, HIDDEN_SIZE_1), \n",
    "      nn.Tanh(), \n",
    "      nn.Linear(HIDDEN_SIZE_1, HIDDEN_SIZE_2),\n",
    "      nn.Tanh(),\n",
    "      nn.Linear(HIDDEN_SIZE_2, HIDDEN_SIZE_1),\n",
    "      nn.Tanh(),\n",
    "      nn.Linear(HIDDEN_SIZE_1, in_and_out_features) \n",
    "    )\n",
    "\n",
    "  def forward(self, x): \n",
    "    x = self.sequential(x)\n",
    "    return x"
   ]
  },
  {
   "cell_type": "code",
   "execution_count": 36,
   "metadata": {
    "id": "tyzKOpdX436D"
   },
   "outputs": [],
   "source": [
    "class ThreeLayerAutoEncoderWithTanh(nn.Module):\n",
    "  def __init__(self, in_and_out_features):\n",
    "    super().__init__()\n",
    "    self.in_and_out_features = in_and_out_features\n",
    "\n",
    "    self.sequential = nn.Sequential( \n",
    "      nn.Linear(in_and_out_features, HIDDEN_SIZE_1), \n",
    "      nn.Tanh(),\n",
    "      nn.Linear(HIDDEN_SIZE_1, HIDDEN_SIZE_2),\n",
    "      nn.Tanh(),\n",
    "      nn.Linear(HIDDEN_SIZE_2, HIDDEN_SIZE_3),\n",
    "      nn.Tanh(),\n",
    "      nn.Linear(HIDDEN_SIZE_3, HIDDEN_SIZE_2),\n",
    "      nn.Tanh(),\n",
    "      nn.Linear(HIDDEN_SIZE_2, HIDDEN_SIZE_1),\n",
    "      nn.Tanh(),\n",
    "      nn.Linear(HIDDEN_SIZE_1, in_and_out_features) \n",
    "    )\n",
    "\n",
    "  def forward(self, x): \n",
    "    x = self.sequential(x)\n",
    "    return x"
   ]
  },
  {
   "cell_type": "code",
   "execution_count": 37,
   "metadata": {
    "colab": {
     "base_uri": "https://localhost:8080/"
    },
    "id": "HTxjWe-SCRYE",
    "outputId": "06376179-7ae2-400c-cf11-0748f583b728"
   },
   "outputs": [
    {
     "data": {
      "text/plain": [
       "ThreeLayerAutoEncoderWithTanh(\n",
       "  (sequential): Sequential(\n",
       "    (0): Linear(in_features=8287, out_features=1024, bias=True)\n",
       "    (1): Tanh()\n",
       "    (2): Linear(in_features=1024, out_features=512, bias=True)\n",
       "    (3): Tanh()\n",
       "    (4): Linear(in_features=512, out_features=256, bias=True)\n",
       "    (5): Tanh()\n",
       "    (6): Linear(in_features=256, out_features=512, bias=True)\n",
       "    (7): Tanh()\n",
       "    (8): Linear(in_features=512, out_features=1024, bias=True)\n",
       "    (9): Tanh()\n",
       "    (10): Linear(in_features=1024, out_features=8287, bias=True)\n",
       "  )\n",
       ")"
      ]
     },
     "execution_count": 37,
     "metadata": {},
     "output_type": "execute_result"
    }
   ],
   "source": [
    "# Initialize models\n",
    "two_layer_lrelu = TwoLayerAutoEncoderWithLReLU(user_vector_len)\n",
    "three_layer_lrelu = ThreeLayerAutoEncoderWithLReLU(user_vector_len)\n",
    "two_layer_tanh = TwoLayerAutoEncoderWithTanh(user_vector_len)\n",
    "three_layer_tanh = ThreeLayerAutoEncoderWithTanh(user_vector_len)\n",
    "\n",
    "two_layer_lrelu.to(DEVICE)\n",
    "three_layer_lrelu.to(DEVICE)\n",
    "two_layer_tanh.to(DEVICE)\n",
    "three_layer_tanh.to(DEVICE)"
   ]
  },
  {
   "cell_type": "markdown",
   "metadata": {
    "id": "EsWqELAs6iXw"
   },
   "source": [
    "### Two Layer Autoencoder with LeakyReLU activation"
   ]
  },
  {
   "cell_type": "code",
   "execution_count": 42,
   "metadata": {
    "colab": {
     "base_uri": "https://localhost:8080/"
    },
    "id": "IZYxjS1WCSgN",
    "outputId": "b5a595d4-0469-40c8-f514-821e32c5dd65"
   },
   "outputs": [
    {
     "name": "stdout",
     "output_type": "stream",
     "text": [
      "Model: TwoLayerAutoEncoderWithLReLU, Optim: AdamW (\n",
      "Parameter Group 0\n",
      "    amsgrad: False\n",
      "    betas: (0.9, 0.999)\n",
      "    capturable: False\n",
      "    differentiable: False\n",
      "    eps: 1e-08\n",
      "    foreach: None\n",
      "    fused: None\n",
      "    initial_lr: 0.001\n",
      "    lr: 0.0007787520933134588\n",
      "    maximize: False\n",
      "    weight_decay: 0.01\n",
      "), Sched: <torch.optim.lr_scheduler.ExponentialLR object at 0x7fea1c24e2e0>\n",
      "Recall@5: 0.532970901126408, Recall@10: 0.635677409261577\n",
      "\n"
     ]
    }
   ],
   "source": [
    "metrics_1 = train_model(two_layer_lrelu, \"TwoLayerAutoEncoderWithLReLU\")"
   ]
  },
  {
   "cell_type": "code",
   "execution_count": 50,
   "metadata": {
    "colab": {
     "base_uri": "https://localhost:8080/",
     "height": 430
    },
    "id": "tnimWwq39mtR",
    "outputId": "793f10f0-2bf9-4a6c-8f8f-a8196908e7d3"
   },
   "outputs": [
    {
     "data": {
      "image/png": "[encoded data removed]",
      "text/plain": [
       "<Figure size 640x480 with 1 Axes>"
      ]
     },
     "metadata": {},
     "output_type": "display_data"
    }
   ],
   "source": [
    "plt.plot(metrics_1[\"Epoch\"], metrics_1[\"Train RMSE\"], label = \"Train RMSE\")\n",
    "plt.plot(metrics_1[\"Epoch\"], metrics_1[\"Test RMSE\"], label = \"Test RMSE\")\n",
    "plt.legend()\n",
    "plt.show()"
   ]
  },
  {
   "cell_type": "markdown",
   "metadata": {
    "id": "Gmgtxn0Y-lv1"
   },
   "source": [
    "### Three Layer Autoencoder with LeakyReLU activation"
   ]
  },
  {
   "cell_type": "code",
   "execution_count": 53,
   "metadata": {
    "colab": {
     "base_uri": "https://localhost:8080/"
    },
    "id": "tPNFthNt9vgG",
    "outputId": "415a49de-60b3-43ab-d9af-c935ef848357"
   },
   "outputs": [
    {
     "name": "stdout",
     "output_type": "stream",
     "text": [
      "Model: ThreeLayerAutoEncoderWithLReLU, Optim: AdamW (\n",
      "Parameter Group 0\n",
      "    amsgrad: False\n",
      "    betas: (0.9, 0.999)\n",
      "    capturable: False\n",
      "    differentiable: False\n",
      "    eps: 1e-08\n",
      "    foreach: None\n",
      "    fused: None\n",
      "    initial_lr: 0.001\n",
      "    lr: 0.0007787520933134588\n",
      "    maximize: False\n",
      "    weight_decay: 0.01\n",
      "), Sched: <torch.optim.lr_scheduler.ExponentialLR object at 0x7fe9eb773910>\n",
      "Recall@5: 0.14760638297872342, Recall@10: 0.29967146433041303\n",
      "\n"
     ]
    }
   ],
   "source": [
    "metrics_2 = train_model(three_layer_lrelu, \"ThreeLayerAutoEncoderWithLReLU\")"
   ]
  },
  {
   "cell_type": "code",
   "execution_count": 55,
   "metadata": {
    "colab": {
     "base_uri": "https://localhost:8080/",
     "height": 430
    },
    "id": "KZRB-7cn-uPm",
    "outputId": "ef2e3397-871b-4ebf-b0bf-85e24e860533"
   },
   "outputs": [
    {
     "data": {
      "image/png": "[encoded data removed]",
      "text/plain": [
       "<Figure size 640x480 with 1 Axes>"
      ]
     },
     "metadata": {},
     "output_type": "display_data"
    }
   ],
   "source": [
    "plt.plot(metrics_2[\"Epoch\"], metrics_2[\"Train RMSE\"], label = \"Train RMSE\")\n",
    "plt.plot(metrics_2[\"Epoch\"], metrics_2[\"Test RMSE\"], label = \"Test RMSE\")\n",
    "plt.legend()\n",
    "plt.show()"
   ]
  },
  {
   "cell_type": "markdown",
   "metadata": {
    "id": "joy4XmkM-3Rs"
   },
   "source": [
    "### Two Layer Autoencoder with Tanh activation"
   ]
  },
  {
   "cell_type": "code",
   "execution_count": 56,
   "metadata": {
    "colab": {
     "base_uri": "https://localhost:8080/"
    },
    "id": "m37_u3Ej-veB",
    "outputId": "0d5b3680-875c-4cf8-99e9-10dc7a04e600"
   },
   "outputs": [
    {
     "name": "stdout",
     "output_type": "stream",
     "text": [
      "Model: TwoLayerAutoEncoderWithTanh, Optim: AdamW (\n",
      "Parameter Group 0\n",
      "    amsgrad: False\n",
      "    betas: (0.9, 0.999)\n",
      "    capturable: False\n",
      "    differentiable: False\n",
      "    eps: 1e-08\n",
      "    foreach: None\n",
      "    fused: None\n",
      "    initial_lr: 0.001\n",
      "    lr: 0.0007787520933134588\n",
      "    maximize: False\n",
      "    weight_decay: 0.01\n",
      "), Sched: <torch.optim.lr_scheduler.ExponentialLR object at 0x7fe9eb771f10>\n",
      "Recall@5: 0.6607869211514393, Recall@10: 0.7378363579474343\n",
      "\n"
     ]
    }
   ],
   "source": [
    "metrics_3 = train_model(two_layer_tanh, \"TwoLayerAutoEncoderWithTanh\")"
   ]
  },
  {
   "cell_type": "code",
   "execution_count": 57,
   "metadata": {
    "colab": {
     "base_uri": "https://localhost:8080/",
     "height": 430
    },
    "id": "MuGj95vU_Ebq",
    "outputId": "328e64e1-f33e-4fc4-a12e-b15451f0da5f"
   },
   "outputs": [
    {
     "data": {
      "image/png": "[encoded data removed]",
      "text/plain": [
       "<Figure size 640x480 with 1 Axes>"
      ]
     },
     "metadata": {},
     "output_type": "display_data"
    }
   ],
   "source": [
    "plt.plot(metrics_3[\"Epoch\"], metrics_3[\"Train RMSE\"], label = \"Train RMSE\")\n",
    "plt.plot(metrics_3[\"Epoch\"], metrics_3[\"Test RMSE\"], label = \"Test RMSE\")\n",
    "plt.legend()\n",
    "plt.show()"
   ]
  },
  {
   "cell_type": "markdown",
   "metadata": {
    "id": "CivtHb0l_JdK"
   },
   "source": [
    "### Three Layer Autoencoder with Tanh activation"
   ]
  },
  {
   "cell_type": "code",
   "execution_count": 58,
   "metadata": {
    "colab": {
     "base_uri": "https://localhost:8080/"
    },
    "id": "uJQ9B8zi_I_T",
    "outputId": "75351a5e-eb12-4129-e6bc-0c5719bba92a"
   },
   "outputs": [
    {
     "name": "stdout",
     "output_type": "stream",
     "text": [
      "Model: ThreeLayerAutoEncoderWithTanh, Optim: AdamW (\n",
      "Parameter Group 0\n",
      "    amsgrad: False\n",
      "    betas: (0.9, 0.999)\n",
      "    capturable: False\n",
      "    differentiable: False\n",
      "    eps: 1e-08\n",
      "    foreach: None\n",
      "    fused: None\n",
      "    initial_lr: 0.001\n",
      "    lr: 0.0007787520933134588\n",
      "    maximize: False\n",
      "    weight_decay: 0.01\n",
      "), Sched: <torch.optim.lr_scheduler.ExponentialLR object at 0x7fe9eb7900a0>\n",
      "Recall@5: 0.016153003754693366, Recall@10: 0.03699937421777222\n",
      "\n"
     ]
    }
   ],
   "source": [
    "metrics_4 = train_model(three_layer_tanh, \"ThreeLayerAutoEncoderWithTanh\")"
   ]
  },
  {
   "cell_type": "code",
   "execution_count": 59,
   "metadata": {
    "colab": {
     "base_uri": "https://localhost:8080/",
     "height": 430
    },
    "id": "PSkrnugD_PJl",
    "outputId": "5f41976b-3f8e-4cce-cd66-c6b9f1838b9e"
   },
   "outputs": [
    {
     "data": {
      "image/png": "[encoded data removed]",
      "text/plain": [
       "<Figure size 640x480 with 1 Axes>"
      ]
     },
     "metadata": {},
     "output_type": "display_data"
    }
   ],
   "source": [
    "plt.plot(metrics_4[\"Epoch\"], metrics_4[\"Train RMSE\"], label = \"Train RMSE\")\n",
    "plt.plot(metrics_4[\"Epoch\"], metrics_4[\"Test RMSE\"], label = \"Test RMSE\")\n",
    "plt.legend()\n",
    "plt.show()"
   ]
  },
  {
   "cell_type": "markdown",
   "metadata": {
    "id": "wz0wWAqUApET"
   },
   "source": [
    "## Итог"
   ]
  },
  {
   "cell_type": "markdown",
   "metadata": {
    "id": "4CGHyeY6Are8"
   },
   "source": [
    "2 слоя + LeakyReLU: Recall@5: 0.53 Recall@10: 0.64\n",
    "\n",
    "3 слоя + LeakyReLU: Recall@5: 0.15 Recall@10: 0.3\n",
    "\n",
    "2 слоя + Tanh: Recall@5: 0.66 Recall@10: 0.74\n",
    "\n",
    "3 слоя + Tanh: Recall@5: 0.02 Recall@10: 0.04"
   ]
  },
  {
   "cell_type": "markdown",
   "metadata": {
    "id": "XW41S0cNBK9k"
   },
   "source": [
    "Лучшие метрики показал автоэнкодер с 2 слоями и активацией Tanh"
   ]
  }
 ],
 "metadata": {
  "accelerator": "GPU",
  "colab": {
   "provenance": []
  },
  "gpuClass": "standard",
  "kernelspec": {
   "display_name": "Python 3 (ipykernel)",
   "language": "python",
   "name": "python3"
  },
  "language_info": {
   "name": "python"
  },
  "widgets": {
   "application/vnd.jupyter.widget-state+json": {
    "199a9d390f104c2d9ce968a204ff5ef2": {
     "model_module": "@jupyter-widgets/base",
     "model_module_version": "1.2.0",
     "model_name": "LayoutModel",
     "state": {
      "_model_module": "@jupyter-widgets/base",
      "_model_module_version": "1.2.0",
      "_model_name": "LayoutModel",
      "_view_count": null,
      "_view_module": "@jupyter-widgets/base",
      "_view_module_version": "1.2.0",
      "_view_name": "LayoutView",
      "align_content": null,
      "align_items": null,
      "align_self": null,
      "border": null,
      "bottom": null,
      "display": null,
      "flex": null,
      "flex_flow": null,
      "grid_area": null,
      "grid_auto_columns": null,
      "grid_auto_flow": null,
      "grid_auto_rows": null,
      "grid_column": null,
      "grid_gap": null,
      "grid_row": null,
      "grid_template_areas": null,
      "grid_template_columns": null,
      "grid_template_rows": null,
      "height": null,
      "justify_content": null,
      "justify_items": null,
      "left": null,
      "margin": null,
      "max_height": null,
      "max_width": null,
      "min_height": null,
      "min_width": null,
      "object_fit": null,
      "object_position": null,
      "order": null,
      "overflow": null,
      "overflow_x": null,
      "overflow_y": null,
      "padding": null,
      "right": null,
      "top": null,
      "visibility": null,
      "width": null
     }
    },
    "35040bf0d46a4e2bac1df3f48cd5327f": {
     "model_module": "@jupyter-widgets/controls",
     "model_module_version": "1.5.0",
     "model_name": "HTMLModel",
     "state": {
      "_dom_classes": [],
      "_model_module": "@jupyter-widgets/controls",
      "_model_module_version": "1.5.0",
      "_model_name": "HTMLModel",
      "_view_count": null,
      "_view_module": "@jupyter-widgets/controls",
      "_view_module_version": "1.5.0",
      "_view_name": "HTMLView",
      "description": "",
      "description_tooltip": null,
      "layout": "IPY_MODEL_787a33b69c8c4745af3fa154e41c9a15",
      "placeholder": "​",
      "style": "IPY_MODEL_f1e0bd3234dc4323b937991dd13809cd",
      "value": "kion dataset download: 100%"
     }
    },
    "555257c361f34a1fb842d617b4c67c45": {
     "model_module": "@jupyter-widgets/controls",
     "model_module_version": "1.5.0",
     "model_name": "HBoxModel",
     "state": {
      "_dom_classes": [],
      "_model_module": "@jupyter-widgets/controls",
      "_model_module_version": "1.5.0",
      "_model_name": "HBoxModel",
      "_view_count": null,
      "_view_module": "@jupyter-widgets/controls",
      "_view_module_version": "1.5.0",
      "_view_name": "HBoxView",
      "box_style": "",
      "children": [
       "IPY_MODEL_35040bf0d46a4e2bac1df3f48cd5327f",
       "IPY_MODEL_74f5c4cb84494a9ab11dff01aa9c5dc3",
       "IPY_MODEL_7ed24f26fc684293a4dbbb34570428ed"
      ],
      "layout": "IPY_MODEL_872e072f36624a81baa210685e320f65"
     }
    },
    "56c0ca6ef5084d67bfbfca79b523add0": {
     "model_module": "@jupyter-widgets/controls",
     "model_module_version": "1.5.0",
     "model_name": "ProgressStyleModel",
     "state": {
      "_model_module": "@jupyter-widgets/controls",
      "_model_module_version": "1.5.0",
      "_model_name": "ProgressStyleModel",
      "_view_count": null,
      "_view_module": "@jupyter-widgets/base",
      "_view_module_version": "1.2.0",
      "_view_name": "StyleView",
      "bar_color": null,
      "description_width": ""
     }
    },
    "74f5c4cb84494a9ab11dff01aa9c5dc3": {
     "model_module": "@jupyter-widgets/controls",
     "model_module_version": "1.5.0",
     "model_name": "FloatProgressModel",
     "state": {
      "_dom_classes": [],
      "_model_module": "@jupyter-widgets/controls",
      "_model_module_version": "1.5.0",
      "_model_name": "FloatProgressModel",
      "_view_count": null,
      "_view_module": "@jupyter-widgets/controls",
      "_view_module_version": "1.5.0",
      "_view_name": "ProgressView",
      "bar_style": "",
      "description": "",
      "description_tooltip": null,
      "layout": "IPY_MODEL_d0b75009c9bc4132b7cd279956cf06a1",
      "max": 78795295,
      "min": 0,
      "orientation": "horizontal",
      "style": "IPY_MODEL_56c0ca6ef5084d67bfbfca79b523add0",
      "value": 78795295
     }
    },
    "787a33b69c8c4745af3fa154e41c9a15": {
     "model_module": "@jupyter-widgets/base",
     "model_module_version": "1.2.0",
     "model_name": "LayoutModel",
     "state": {
      "_model_module": "@jupyter-widgets/base",
      "_model_module_version": "1.2.0",
      "_model_name": "LayoutModel",
      "_view_count": null,
      "_view_module": "@jupyter-widgets/base",
      "_view_module_version": "1.2.0",
      "_view_name": "LayoutView",
      "align_content": null,
      "align_items": null,
      "align_self": null,
      "border": null,
      "bottom": null,
      "display": null,
      "flex": null,
      "flex_flow": null,
      "grid_area": null,
      "grid_auto_columns": null,
      "grid_auto_flow": null,
      "grid_auto_rows": null,
      "grid_column": null,
      "grid_gap": null,
      "grid_row": null,
      "grid_template_areas": null,
      "grid_template_columns": null,
      "grid_template_rows": null,
      "height": null,
      "justify_content": null,
      "justify_items": null,
      "left": null,
      "margin": null,
      "max_height": null,
      "max_width": null,
      "min_height": null,
      "min_width": null,
      "object_fit": null,
      "object_position": null,
      "order": null,
      "overflow": null,
      "overflow_x": null,
      "overflow_y": null,
      "padding": null,
      "right": null,
      "top": null,
      "visibility": null,
      "width": null
     }
    },
    "7ed24f26fc684293a4dbbb34570428ed": {
     "model_module": "@jupyter-widgets/controls",
     "model_module_version": "1.5.0",
     "model_name": "HTMLModel",
     "state": {
      "_dom_classes": [],
      "_model_module": "@jupyter-widgets/controls",
      "_model_module_version": "1.5.0",
      "_model_name": "HTMLModel",
      "_view_count": null,
      "_view_module": "@jupyter-widgets/controls",
      "_view_module_version": "1.5.0",
      "_view_name": "HTMLView",
      "description": "",
      "description_tooltip": null,
      "layout": "IPY_MODEL_199a9d390f104c2d9ce968a204ff5ef2",
      "placeholder": "​",
      "style": "IPY_MODEL_e09d7d4ac2e843fe9d1d8782ddc035d4",
      "value": " 78.8M/78.8M [00:20&lt;00:00, 292MiB/s]"
     }
    },
    "872e072f36624a81baa210685e320f65": {
     "model_module": "@jupyter-widgets/base",
     "model_module_version": "1.2.0",
     "model_name": "LayoutModel",
     "state": {
      "_model_module": "@jupyter-widgets/base",
      "_model_module_version": "1.2.0",
      "_model_name": "LayoutModel",
      "_view_count": null,
      "_view_module": "@jupyter-widgets/base",
      "_view_module_version": "1.2.0",
      "_view_name": "LayoutView",
      "align_content": null,
      "align_items": null,
      "align_self": null,
      "border": null,
      "bottom": null,
      "display": null,
      "flex": null,
      "flex_flow": null,
      "grid_area": null,
      "grid_auto_columns": null,
      "grid_auto_flow": null,
      "grid_auto_rows": null,
      "grid_column": null,
      "grid_gap": null,
      "grid_row": null,
      "grid_template_areas": null,
      "grid_template_columns": null,
      "grid_template_rows": null,
      "height": null,
      "justify_content": null,
      "justify_items": null,
      "left": null,
      "margin": null,
      "max_height": null,
      "max_width": null,
      "min_height": null,
      "min_width": null,
      "object_fit": null,
      "object_position": null,
      "order": null,
      "overflow": null,
      "overflow_x": null,
      "overflow_y": null,
      "padding": null,
      "right": null,
      "top": null,
      "visibility": null,
      "width": null
     }
    },
    "d0b75009c9bc4132b7cd279956cf06a1": {
     "model_module": "@jupyter-widgets/base",
     "model_module_version": "1.2.0",
     "model_name": "LayoutModel",
     "state": {
      "_model_module": "@jupyter-widgets/base",
      "_model_module_version": "1.2.0",
      "_model_name": "LayoutModel",
      "_view_count": null,
      "_view_module": "@jupyter-widgets/base",
      "_view_module_version": "1.2.0",
      "_view_name": "LayoutView",
      "align_content": null,
      "align_items": null,
      "align_self": null,
      "border": null,
      "bottom": null,
      "display": null,
      "flex": null,
      "flex_flow": null,
      "grid_area": null,
      "grid_auto_columns": null,
      "grid_auto_flow": null,
      "grid_auto_rows": null,
      "grid_column": null,
      "grid_gap": null,
      "grid_row": null,
      "grid_template_areas": null,
      "grid_template_columns": null,
      "grid_template_rows": null,
      "height": null,
      "justify_content": null,
      "justify_items": null,
      "left": null,
      "margin": null,
      "max_height": null,
      "max_width": null,
      "min_height": null,
      "min_width": null,
      "object_fit": null,
      "object_position": null,
      "order": null,
      "overflow": null,
      "overflow_x": null,
      "overflow_y": null,
      "padding": null,
      "right": null,
      "top": null,
      "visibility": null,
      "width": null
     }
    },
    "e09d7d4ac2e843fe9d1d8782ddc035d4": {
     "model_module": "@jupyter-widgets/controls",
     "model_module_version": "1.5.0",
     "model_name": "DescriptionStyleModel",
     "state": {
      "_model_module": "@jupyter-widgets/controls",
      "_model_module_version": "1.5.0",
      "_model_name": "DescriptionStyleModel",
      "_view_count": null,
      "_view_module": "@jupyter-widgets/base",
      "_view_module_version": "1.2.0",
      "_view_name": "StyleView",
      "description_width": ""
     }
    },
    "f1e0bd3234dc4323b937991dd13809cd": {
     "model_module": "@jupyter-widgets/controls",
     "model_module_version": "1.5.0",
     "model_name": "DescriptionStyleModel",
     "state": {
      "_model_module": "@jupyter-widgets/controls",
      "_model_module_version": "1.5.0",
      "_model_name": "DescriptionStyleModel",
      "_view_count": null,
      "_view_module": "@jupyter-widgets/base",
      "_view_module_version": "1.2.0",
      "_view_name": "StyleView",
      "description_width": ""
     }
    }
   }
  }
 },
 "nbformat": 4,
 "nbformat_minor": 1
}
