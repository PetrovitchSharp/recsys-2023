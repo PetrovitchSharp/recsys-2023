{
 "cells": [
  {
   "cell_type": "code",
   "execution_count": 1,
   "metadata": {},
   "outputs": [],
   "source": [
    "import warnings\n",
    "warnings.filterwarnings('ignore')"
   ]
  },
  {
   "cell_type": "code",
   "execution_count": 2,
   "metadata": {},
   "outputs": [],
   "source": [
    "import os\n",
    "os.environ[\"KMP_DUPLICATE_LIB_OK\"]=\"TRUE\""
   ]
  },
  {
   "cell_type": "code",
   "execution_count": 45,
   "metadata": {},
   "outputs": [],
   "source": [
    "from lightfm import LightFM\n",
    "from rectools.metrics import MAP\n",
    "from rectools.models import LightFMWrapperModel\n",
    "from rectools.tools import UserToItemAnnRecommender\n",
    "from rectools import Columns\n",
    "from rectools.dataset import Dataset\n",
    "from pathlib import Path\n",
    "import pandas as pd\n",
    "import optuna\n",
    "from tqdm.auto import tqdm\n",
    "import joblib\n",
    "import nmslib"
   ]
  },
  {
   "cell_type": "markdown",
   "metadata": {},
   "source": [
    "## Loading data"
   ]
  },
  {
   "cell_type": "code",
   "execution_count": 4,
   "metadata": {},
   "outputs": [],
   "source": [
    "DATA_PATH = Path(\"../../data/03_primary\")"
   ]
  },
  {
   "cell_type": "code",
   "execution_count": 5,
   "metadata": {},
   "outputs": [],
   "source": [
    "users_features_train = pd.read_csv(DATA_PATH / 'prepared_featured_users_train.csv')\n",
    "items_features_train = pd.read_csv(DATA_PATH / 'prepared_featured_items_train.csv')\n",
    "\n",
    "users_features_full = pd.read_csv(DATA_PATH / 'prepared_featured_users_full.csv')\n",
    "items_features_full = pd.read_csv(DATA_PATH / 'prepared_featured_items_full.csv')\n",
    "\n",
    "interactions_train = pd.read_csv(DATA_PATH / 'prepared_interactions_train.csv')\n",
    "interactions_test = pd.read_csv(DATA_PATH / 'prepared_interactions_test.csv')\n",
    "\n",
    "interactions_full = pd.read_csv(DATA_PATH / 'prepared_interactions_full.csv')\n"
   ]
  },
  {
   "cell_type": "code",
   "execution_count": 6,
   "metadata": {},
   "outputs": [],
   "source": [
    "train_dataset = Dataset.construct(\n",
    "    interactions_df=interactions_train,\n",
    ")\n",
    "\n",
    "train_featured_dataset = Dataset.construct(\n",
    "    interactions_df=interactions_train,\n",
    "    user_features_df=users_features_train,\n",
    "    cat_user_features=[\"sex\", \"age\", \"income\"],\n",
    "    item_features_df=items_features_train,\n",
    "    cat_item_features=[\"genre\", \"content_type\",\"age_rating\",\"country\",\"release_year_bin\"],\n",
    ")"
   ]
  },
  {
   "cell_type": "code",
   "execution_count": 7,
   "metadata": {},
   "outputs": [],
   "source": [
    "full_dataset = Dataset.construct(\n",
    "    interactions_df=interactions_full,\n",
    ")\n",
    "\n",
    "full_featured_dataset = Dataset.construct(\n",
    "    interactions_df=interactions_full,\n",
    "    user_features_df=users_features_full,\n",
    "    cat_user_features=[\"sex\", \"age\", \"income\"],\n",
    "    item_features_df=items_features_full,\n",
    "    cat_item_features=[\"genre\", \"content_type\",\"age_rating\",\"country\",\"release_year_bin\"],\n",
    ")"
   ]
  },
  {
   "cell_type": "markdown",
   "metadata": {},
   "source": [
    "## Hyperparameters choice via Optuna"
   ]
  },
  {
   "cell_type": "code",
   "execution_count": 8,
   "metadata": {},
   "outputs": [],
   "source": [
    "K_RECOS = 10\n",
    "RANDOM_STATE = 42\n",
    "NUM_THREADS = 4\n",
    "TOTAL_ITERATIONS = 50"
   ]
  },
  {
   "cell_type": "code",
   "execution_count": 9,
   "metadata": {},
   "outputs": [],
   "source": [
    "class TqdmCallback:\n",
    "    '''Callback to check progress of optuna hyperparameters selection'''\n",
    "    def __init__(self, total):\n",
    "        self.pbar = tqdm(total = total)\n",
    "\n",
    "    def __call__(self, study: optuna.study.Study, trial: optuna.trial.FrozenTrial) -> None:\n",
    "        self.pbar.update(1)"
   ]
  },
  {
   "cell_type": "code",
   "execution_count": 15,
   "metadata": {},
   "outputs": [],
   "source": [
    "# Metric\n",
    "metric_map = MAP(k = K_RECOS)"
   ]
  },
  {
   "cell_type": "markdown",
   "metadata": {},
   "source": [
    "### Without features"
   ]
  },
  {
   "cell_type": "code",
   "execution_count": 18,
   "metadata": {},
   "outputs": [],
   "source": [
    "def objective(trial):\n",
    "    '''Objective for optuna'''  \n",
    "    # Set parameters borders\n",
    "    components = trial.suggest_int('no_components', 2, 32, log = True)\n",
    "    rho = trial.suggest_float('rho', 0.9, 0.99, log = True)\n",
    "    epsilon = trial.suggest_float('epsilon', 1e-6, 1e-5, log = True)\n",
    "    lr = trial.suggest_float('learning_rate', 3e-4, 0.3, log = True)\n",
    "    \n",
    "    lightfm = LightFMWrapperModel(\n",
    "        model = LightFM(\n",
    "            no_components = components,\n",
    "            learning_schedule = 'adadelta',\n",
    "            loss = 'warp',\n",
    "            rho = rho,\n",
    "            epsilon = epsilon,\n",
    "            learning_rate = lr,\n",
    "            random_state = RANDOM_STATE\n",
    "        )\n",
    "    )\n",
    "    \n",
    "    lightfm.fit(train_dataset)\n",
    "    \n",
    "    # Make recommendations for users in test\n",
    "    recos = lightfm.recommend(\n",
    "        users=interactions_test[Columns.User].unique(),\n",
    "        dataset=train_dataset,\n",
    "        k=K_RECOS,\n",
    "        filter_viewed=True,\n",
    "    )\n",
    "    \n",
    "    # Calculate metric\n",
    "    map_10 = metric_map.calc(recos, interactions_test)\n",
    "    \n",
    "    return map_10\n"
   ]
  },
  {
   "cell_type": "code",
   "execution_count": 19,
   "metadata": {},
   "outputs": [
    {
     "data": {
      "application/vnd.jupyter.widget-view+json": {
       "model_id": "6bb920fdf53f4e878259c96e2e6b3ef8",
       "version_major": 2,
       "version_minor": 0
      },
      "text/plain": [
       "  0%|          | 0/50 [00:00<?, ?it/s]"
      ]
     },
     "metadata": {},
     "output_type": "display_data"
    },
    {
     "name": "stderr",
     "output_type": "stream",
     "text": [
      "\u001b[32m[I 2022-12-05 15:03:57,390]\u001b[0m A new study created in memory with name: no-name-7329220b-f908-46af-8c1b-89cdbe00bb53\u001b[0m\n",
      "\u001b[32m[I 2022-12-05 15:04:44,647]\u001b[0m Trial 0 finished with value: 0.07839290035485222 and parameters: {'no_components': 7, 'rho': 0.9379805440259346, 'epsilon': 4.422302221887881e-06, 'learning_rate': 0.003975823573135649}. Best is trial 0 with value: 0.07839290035485222.\u001b[0m\n",
      "\u001b[32m[I 2022-12-05 15:05:45,272]\u001b[0m Trial 1 finished with value: 0.08010428629741832 and parameters: {'no_components': 17, 'rho': 0.9765555641055071, 'epsilon': 1.3710247867173495e-06, 'learning_rate': 0.20811124572085096}. Best is trial 1 with value: 0.08010428629741832.\u001b[0m\n",
      "\u001b[32m[I 2022-12-05 15:06:30,643]\u001b[0m Trial 2 finished with value: 0.07234345811073446 and parameters: {'no_components': 3, 'rho': 0.9225624638838649, 'epsilon': 2.3294257775979056e-06, 'learning_rate': 0.02941526052704058}. Best is trial 1 with value: 0.08010428629741832.\u001b[0m\n",
      "\u001b[32m[I 2022-12-05 15:07:30,948]\u001b[0m Trial 3 finished with value: 0.07769860602251479 and parameters: {'no_components': 20, 'rho': 0.96802701260021, 'epsilon': 4.120009023473152e-06, 'learning_rate': 0.04047835768906612}. Best is trial 1 with value: 0.08010428629741832.\u001b[0m\n",
      "\u001b[32m[I 2022-12-05 15:08:17,325]\u001b[0m Trial 4 finished with value: 0.07801148830314375 and parameters: {'no_components': 3, 'rho': 0.9891024682152565, 'epsilon': 4.7536923544566565e-06, 'learning_rate': 0.16713372485496278}. Best is trial 1 with value: 0.08010428629741832.\u001b[0m\n",
      "\u001b[32m[I 2022-12-05 15:09:07,151]\u001b[0m Trial 5 finished with value: 0.07931647650452764 and parameters: {'no_components': 8, 'rho': 0.9577891507720061, 'epsilon': 1.9452806106270627e-06, 'learning_rate': 0.004731251404829962}. Best is trial 1 with value: 0.08010428629741832.\u001b[0m\n",
      "\u001b[32m[I 2022-12-05 15:09:50,767]\u001b[0m Trial 6 finished with value: 0.07817056203731801 and parameters: {'no_components': 2, 'rho': 0.9816400488335035, 'epsilon': 3.8160943523750954e-06, 'learning_rate': 0.018774450819925563}. Best is trial 1 with value: 0.08010428629741832.\u001b[0m\n",
      "\u001b[32m[I 2022-12-05 15:10:44,622]\u001b[0m Trial 7 finished with value: 0.07732014491639931 and parameters: {'no_components': 11, 'rho': 0.9401215648780243, 'epsilon': 4.336471868622769e-06, 'learning_rate': 0.1852121804027514}. Best is trial 1 with value: 0.08010428629741832.\u001b[0m\n",
      "\u001b[32m[I 2022-12-05 15:11:29,603]\u001b[0m Trial 8 finished with value: 0.07575574126022332 and parameters: {'no_components': 2, 'rho': 0.9083006737881817, 'epsilon': 4.880508789837525e-06, 'learning_rate': 0.0007995476034707341}. Best is trial 1 with value: 0.08010428629741832.\u001b[0m\n",
      "\u001b[32m[I 2022-12-05 15:12:35,082]\u001b[0m Trial 9 finished with value: 0.079387590343626 and parameters: {'no_components': 22, 'rho': 0.9116687366505876, 'epsilon': 5.002361573098547e-06, 'learning_rate': 0.0003308734278746261}. Best is trial 1 with value: 0.08010428629741832.\u001b[0m\n",
      "\u001b[32m[I 2022-12-05 15:13:53,263]\u001b[0m Trial 10 finished with value: 0.07921442387627212 and parameters: {'no_components': 30, 'rho': 0.962065108417174, 'epsilon': 1.0160523122640338e-06, 'learning_rate': 0.27983042098327976}. Best is trial 1 with value: 0.08010428629741832.\u001b[0m\n",
      "\u001b[32m[I 2022-12-05 15:14:56,195]\u001b[0m Trial 11 finished with value: 0.07943977845193115 and parameters: {'no_components': 15, 'rho': 0.9034906894569031, 'epsilon': 1.0434652185158664e-06, 'learning_rate': 0.00034566445077187065}. Best is trial 1 with value: 0.08010428629741832.\u001b[0m\n",
      "\u001b[32m[I 2022-12-05 15:15:52,685]\u001b[0m Trial 12 finished with value: 0.08173593202342642 and parameters: {'no_components': 14, 'rho': 0.9293803074906476, 'epsilon': 1.019065155861173e-06, 'learning_rate': 0.0012055115615607931}. Best is trial 12 with value: 0.08173593202342642.\u001b[0m\n",
      "\u001b[32m[I 2022-12-05 15:16:44,585]\u001b[0m Trial 13 finished with value: 0.07563613964267757 and parameters: {'no_components': 12, 'rho': 0.9297800943964291, 'epsilon': 9.337563724448764e-06, 'learning_rate': 0.0017439311421484588}. Best is trial 12 with value: 0.08173593202342642.\u001b[0m\n",
      "\u001b[32m[I 2022-12-05 15:18:01,944]\u001b[0m Trial 14 finished with value: 0.07983907166833093 and parameters: {'no_components': 32, 'rho': 0.9506588389633048, 'epsilon': 1.647615785383761e-06, 'learning_rate': 0.06514184617359602}. Best is trial 12 with value: 0.08173593202342642.\u001b[0m\n",
      "\u001b[32m[I 2022-12-05 15:18:50,222]\u001b[0m Trial 15 finished with value: 0.07722001833660548 and parameters: {'no_components': 5, 'rho': 0.9737120518873339, 'epsilon': 1.4502822960532285e-06, 'learning_rate': 0.009206378788906577}. Best is trial 12 with value: 0.08173593202342642.\u001b[0m\n",
      "\u001b[32m[I 2022-12-05 15:19:51,731]\u001b[0m Trial 16 finished with value: 0.08002781433665752 and parameters: {'no_components': 17, 'rho': 0.9227553881212925, 'epsilon': 1.3120778854706778e-06, 'learning_rate': 0.0019609531854383445}. Best is trial 12 with value: 0.08173593202342642.\u001b[0m\n",
      "\u001b[32m[I 2022-12-05 15:20:42,907]\u001b[0m Trial 17 finished with value: 0.0768730168120839 and parameters: {'no_components': 9, 'rho': 0.9495682262202085, 'epsilon': 2.838358727985031e-06, 'learning_rate': 0.08057234388891131}. Best is trial 12 with value: 0.08173593202342642.\u001b[0m\n",
      "\u001b[32m[I 2022-12-05 15:21:28,153]\u001b[0m Trial 18 finished with value: 0.0785622877763746 and parameters: {'no_components': 5, 'rho': 0.9305508587684962, 'epsilon': 1.2608059861543645e-06, 'learning_rate': 0.01508967339634497}. Best is trial 12 with value: 0.08173593202342642.\u001b[0m\n",
      "\u001b[32m[I 2022-12-05 15:22:22,498]\u001b[0m Trial 19 finished with value: 0.08026879559492094 and parameters: {'no_components': 14, 'rho': 0.9164584694007454, 'epsilon': 1.915106833504328e-06, 'learning_rate': 0.001179793389148211}. Best is trial 12 with value: 0.08173593202342642.\u001b[0m\n",
      "\u001b[32m[I 2022-12-05 15:23:09,652]\u001b[0m Trial 20 finished with value: 0.07842505217289128 and parameters: {'no_components': 5, 'rho': 0.9195784434359695, 'epsilon': 2.0971608058306323e-06, 'learning_rate': 0.0008194458094729242}. Best is trial 12 with value: 0.08173593202342642.\u001b[0m\n",
      "\u001b[32m[I 2022-12-05 15:24:04,656]\u001b[0m Trial 21 finished with value: 0.08027563639088174 and parameters: {'no_components': 13, 'rho': 0.9320561219411235, 'epsilon': 1.6938866935786759e-06, 'learning_rate': 0.0009850647207429578}. Best is trial 12 with value: 0.08173593202342642.\u001b[0m\n",
      "\u001b[32m[I 2022-12-05 15:24:59,712]\u001b[0m Trial 22 finished with value: 0.07698820144091167 and parameters: {'no_components': 12, 'rho': 0.9322324755923856, 'epsilon': 2.7221583838317896e-06, 'learning_rate': 0.0008451315538768092}. Best is trial 12 with value: 0.08173593202342642.\u001b[0m\n",
      "\u001b[32m[I 2022-12-05 15:25:52,565]\u001b[0m Trial 23 finished with value: 0.078102795186438 and parameters: {'no_components': 13, 'rho': 0.9150361813179586, 'epsilon': 1.822285660064898e-06, 'learning_rate': 0.001819184496613835}. Best is trial 12 with value: 0.08173593202342642.\u001b[0m\n",
      "\u001b[32m[I 2022-12-05 15:26:58,267]\u001b[0m Trial 24 finished with value: 0.07804041753023526 and parameters: {'no_components': 23, 'rho': 0.9016617962496187, 'epsilon': 2.4022824245091427e-06, 'learning_rate': 0.0036051424841921148}. Best is trial 12 with value: 0.08173593202342642.\u001b[0m\n",
      "\u001b[32m[I 2022-12-05 15:27:50,844]\u001b[0m Trial 25 finished with value: 0.07869401670708862 and parameters: {'no_components': 10, 'rho': 0.9272003977103308, 'epsilon': 1.6562188492698314e-06, 'learning_rate': 0.0006150825168669499}. Best is trial 12 with value: 0.08173593202342642.\u001b[0m\n",
      "\u001b[32m[I 2022-12-05 15:28:45,998]\u001b[0m Trial 26 finished with value: 0.08173503994077592 and parameters: {'no_components': 15, 'rho': 0.9447011206526841, 'epsilon': 6.207686131113681e-06, 'learning_rate': 0.0013384246172392052}. Best is trial 12 with value: 0.08173593202342642.\u001b[0m\n",
      "\u001b[32m[I 2022-12-05 15:29:54,777]\u001b[0m Trial 27 finished with value: 0.07868897634509094 and parameters: {'no_components': 26, 'rho': 0.9459856344549818, 'epsilon': 7.41745972535496e-06, 'learning_rate': 0.002704341618071792}. Best is trial 12 with value: 0.08173593202342642.\u001b[0m\n",
      "\u001b[32m[I 2022-12-05 15:30:54,000]\u001b[0m Trial 28 finished with value: 0.06828883123474543 and parameters: {'no_components': 17, 'rho': 0.9376029466394962, 'epsilon': 6.503655347449997e-06, 'learning_rate': 0.006509258679416337}. Best is trial 12 with value: 0.08173593202342642.\u001b[0m\n"
     ]
    },
    {
     "name": "stderr",
     "output_type": "stream",
     "text": [
      "\u001b[32m[I 2022-12-05 15:31:43,861]\u001b[0m Trial 29 finished with value: 0.07756124858492278 and parameters: {'no_components': 7, 'rho': 0.9398896165635315, 'epsilon': 3.623296985031526e-06, 'learning_rate': 0.0005471170561303716}. Best is trial 12 with value: 0.08173593202342642.\u001b[0m\n",
      "\u001b[32m[I 2022-12-05 15:32:33,120]\u001b[0m Trial 30 finished with value: 0.07666886668758034 and parameters: {'no_components': 6, 'rho': 0.9558501557237976, 'epsilon': 1.150709423135656e-06, 'learning_rate': 0.001256578119718818}. Best is trial 12 with value: 0.08173593202342642.\u001b[0m\n",
      "\u001b[32m[I 2022-12-05 15:33:29,604]\u001b[0m Trial 31 finished with value: 0.07708566804588296 and parameters: {'no_components': 15, 'rho': 0.9360805658053665, 'epsilon': 3.0279264946911103e-06, 'learning_rate': 0.001172720704203659}. Best is trial 12 with value: 0.08173593202342642.\u001b[0m\n",
      "\u001b[32m[I 2022-12-05 15:34:25,209]\u001b[0m Trial 32 finished with value: 0.07778283091664721 and parameters: {'no_components': 9, 'rho': 0.9157336437325329, 'epsilon': 1.4830397320327162e-06, 'learning_rate': 0.0031620295613368414}. Best is trial 12 with value: 0.08173593202342642.\u001b[0m\n",
      "\u001b[32m[I 2022-12-05 15:35:24,297]\u001b[0m Trial 33 finished with value: 0.0794286079419871 and parameters: {'no_components': 19, 'rho': 0.9256757903590389, 'epsilon': 5.9790120412025355e-06, 'learning_rate': 0.00046632144582234254}. Best is trial 12 with value: 0.08173593202342642.\u001b[0m\n",
      "\u001b[32m[I 2022-12-05 15:36:23,073]\u001b[0m Trial 34 finished with value: 0.07845354551147535 and parameters: {'no_components': 14, 'rho': 0.9338823453391092, 'epsilon': 2.404086313351618e-06, 'learning_rate': 0.0011740147330874889}. Best is trial 12 with value: 0.08173593202342642.\u001b[0m\n",
      "\u001b[32m[I 2022-12-05 15:37:29,286]\u001b[0m Trial 35 finished with value: 0.07803561769656327 and parameters: {'no_components': 25, 'rho': 0.9196811365818023, 'epsilon': 1.686522508132925e-06, 'learning_rate': 0.0023141181685361898}. Best is trial 12 with value: 0.08173593202342642.\u001b[0m\n",
      "\u001b[32m[I 2022-12-05 15:38:29,320]\u001b[0m Trial 36 finished with value: 0.07836312634747969 and parameters: {'no_components': 18, 'rho': 0.9435556331129459, 'epsilon': 3.4604065011265485e-06, 'learning_rate': 0.004887462253226294}. Best is trial 12 with value: 0.08173593202342642.\u001b[0m\n",
      "\u001b[32m[I 2022-12-05 15:39:21,746]\u001b[0m Trial 37 finished with value: 0.0782966763063208 and parameters: {'no_components': 8, 'rho': 0.9248237703904184, 'epsilon': 2.126630480825649e-06, 'learning_rate': 0.0013889175205636748}. Best is trial 12 with value: 0.08173593202342642.\u001b[0m\n",
      "\u001b[32m[I 2022-12-05 15:40:13,959]\u001b[0m Trial 38 finished with value: 0.07996420839560124 and parameters: {'no_components': 10, 'rho': 0.9081374129010448, 'epsilon': 1.1371888234342618e-06, 'learning_rate': 0.0007872264968129986}. Best is trial 12 with value: 0.08173593202342642.\u001b[0m\n",
      "\u001b[32m[I 2022-12-05 15:41:09,821]\u001b[0m Trial 39 finished with value: 0.07992644391540803 and parameters: {'no_components': 13, 'rho': 0.9430625593383735, 'epsilon': 1.5095773015875553e-06, 'learning_rate': 0.006521294622346318}. Best is trial 12 with value: 0.08173593202342642.\u001b[0m\n",
      "\u001b[32m[I 2022-12-05 15:42:13,726]\u001b[0m Trial 40 finished with value: 0.06598437979250094 and parameters: {'no_components': 20, 'rho': 0.9185841903906181, 'epsilon': 9.471889315036408e-06, 'learning_rate': 0.0005860633533331652}. Best is trial 12 with value: 0.08173593202342642.\u001b[0m\n",
      "\u001b[32m[I 2022-12-05 15:43:11,159]\u001b[0m Trial 41 finished with value: 0.07944288267982304 and parameters: {'no_components': 16, 'rho': 0.9872148405874404, 'epsilon': 1.310700924597425e-06, 'learning_rate': 0.05768453574312666}. Best is trial 12 with value: 0.08173593202342642.\u001b[0m\n",
      "\u001b[32m[I 2022-12-05 15:44:03,605]\u001b[0m Trial 42 finished with value: 0.07976681030566346 and parameters: {'no_components': 11, 'rho': 0.961370645662685, 'epsilon': 1.8957797483053348e-06, 'learning_rate': 0.023876602647167445}. Best is trial 12 with value: 0.08173593202342642.\u001b[0m\n",
      "\u001b[32m[I 2022-12-05 15:45:06,288]\u001b[0m Trial 43 finished with value: 0.07754750694996868 and parameters: {'no_components': 20, 'rho': 0.9747046257508861, 'epsilon': 1.172505925662047e-06, 'learning_rate': 0.00042588380593665005}. Best is trial 12 with value: 0.08173593202342642.\u001b[0m\n",
      "\u001b[32m[I 2022-12-05 15:45:52,862]\u001b[0m Trial 44 finished with value: 0.07841733695049087 and parameters: {'no_components': 3, 'rho': 0.968683088421731, 'epsilon': 1.4002287518184553e-06, 'learning_rate': 0.0009520159886573475}. Best is trial 12 with value: 0.08173593202342642.\u001b[0m\n",
      "\u001b[32m[I 2022-12-05 15:47:05,481]\u001b[0m Trial 45 finished with value: 0.07936381032673465 and parameters: {'no_components': 28, 'rho': 0.9092932284205387, 'epsilon': 1.083816010843035e-06, 'learning_rate': 0.014438322174852459}. Best is trial 12 with value: 0.08173593202342642.\u001b[0m\n",
      "\u001b[32m[I 2022-12-05 15:48:13,576]\u001b[0m Trial 46 finished with value: 0.07963188011844956 and parameters: {'no_components': 22, 'rho': 0.9527775667747372, 'epsilon': 1.0106129263708539e-06, 'learning_rate': 0.03510686879990746}. Best is trial 12 with value: 0.08173593202342642.\u001b[0m\n",
      "\u001b[32m[I 2022-12-05 15:49:09,315]\u001b[0m Trial 47 finished with value: 0.07621188573498637 and parameters: {'no_components': 14, 'rho': 0.9280448766031119, 'epsilon': 4.054905864722557e-06, 'learning_rate': 0.16744318789672394}. Best is trial 12 with value: 0.08173593202342642.\u001b[0m\n",
      "\u001b[32m[I 2022-12-05 15:50:00,436]\u001b[0m Trial 48 finished with value: 0.07680564570641879 and parameters: {'no_components': 11, 'rho': 0.9138499932906861, 'epsilon': 8.388891430713107e-06, 'learning_rate': 0.0015784528182734303}. Best is trial 12 with value: 0.08173593202342642.\u001b[0m\n",
      "\u001b[32m[I 2022-12-05 15:50:46,307]\u001b[0m Trial 49 finished with value: 0.07639888166552698 and parameters: {'no_components': 4, 'rho': 0.9789542514936513, 'epsilon': 5.436306769088642e-06, 'learning_rate': 0.00031169738624337116}. Best is trial 12 with value: 0.08173593202342642.\u001b[0m\n"
     ]
    }
   ],
   "source": [
    "tqdm_callback = TqdmCallback(TOTAL_ITERATIONS)\n",
    "\n",
    "study = optuna.create_study(directions = ['maximize'])\n",
    "study.optimize(objective, n_trials=TOTAL_ITERATIONS, callbacks=[tqdm_callback])"
   ]
  },
  {
   "cell_type": "code",
   "execution_count": 20,
   "metadata": {},
   "outputs": [
    {
     "name": "stdout",
     "output_type": "stream",
     "text": [
      "{'no_components': 14, 'rho': 0.9293803074906476, 'epsilon': 1.019065155861173e-06, 'learning_rate': 0.0012055115615607931}\n"
     ]
    }
   ],
   "source": [
    "best_params_without_features = study.best_trial.params\n",
    "print(best_params_without_features)"
   ]
  },
  {
   "cell_type": "markdown",
   "metadata": {},
   "source": [
    "### With features"
   ]
  },
  {
   "cell_type": "code",
   "execution_count": 23,
   "metadata": {},
   "outputs": [],
   "source": [
    "def objective(trial):\n",
    "    '''Objective for optuna'''  \n",
    "    # Set parameters borders\n",
    "    components = trial.suggest_int('no_components', 2, 32, log = True)\n",
    "    rho = trial.suggest_float('rho', 0.9, 0.99, log = True)\n",
    "    epsilon = trial.suggest_float('epsilon', 1e-6, 1e-5, log = True)\n",
    "    lr = trial.suggest_float('learning_rate', 3e-4, 0.3, log = True)\n",
    "    \n",
    "    lightfm = LightFMWrapperModel(\n",
    "        model = LightFM(\n",
    "            no_components = components,\n",
    "            learning_schedule = 'adadelta',\n",
    "            loss = 'warp',\n",
    "            rho = rho,\n",
    "            epsilon = epsilon,\n",
    "            learning_rate = lr,\n",
    "            random_state = RANDOM_STATE\n",
    "        )\n",
    "    )\n",
    "    \n",
    "    lightfm.fit(train_featured_dataset)\n",
    "    \n",
    "    # Make recommendations for users in test\n",
    "    recos = lightfm.recommend(\n",
    "        users=interactions_test[Columns.User].unique(),\n",
    "        dataset=train_featured_dataset,\n",
    "        k=K_RECOS,\n",
    "        filter_viewed=True,\n",
    "    )\n",
    "    \n",
    "    # Calculate MAP@10\n",
    "    map_10 = metric_map.calc(recos, interactions_test)\n",
    "    \n",
    "    return map_10\n"
   ]
  },
  {
   "cell_type": "code",
   "execution_count": 24,
   "metadata": {},
   "outputs": [
    {
     "data": {
      "application/vnd.jupyter.widget-view+json": {
       "model_id": "94375bf511ef49829e61cac1ebef7e3a",
       "version_major": 2,
       "version_minor": 0
      },
      "text/plain": [
       "  0%|          | 0/50 [00:00<?, ?it/s]"
      ]
     },
     "metadata": {},
     "output_type": "display_data"
    },
    {
     "name": "stderr",
     "output_type": "stream",
     "text": [
      "\u001b[32m[I 2022-12-05 15:56:07,377]\u001b[0m A new study created in memory with name: no-name-52c1fcdf-8cb8-4583-aca8-5db6ab268a06\u001b[0m\n",
      "\u001b[32m[I 2022-12-05 15:58:40,583]\u001b[0m Trial 0 finished with value: 0.051569127183431686 and parameters: {'no_components': 24, 'rho': 0.9395897571587353, 'epsilon': 1.854305887516801e-06, 'learning_rate': 0.02526148275821855}. Best is trial 0 with value: 0.051569127183431686.\u001b[0m\n",
      "\u001b[32m[I 2022-12-05 15:59:35,600]\u001b[0m Trial 1 finished with value: 0.03971930889730018 and parameters: {'no_components': 2, 'rho': 0.9881857147779372, 'epsilon': 6.952052472744175e-06, 'learning_rate': 0.23724982913765413}. Best is trial 0 with value: 0.051569127183431686.\u001b[0m\n",
      "\u001b[32m[I 2022-12-05 16:01:20,790]\u001b[0m Trial 2 finished with value: 0.07358321591450179 and parameters: {'no_components': 12, 'rho': 0.9619173207316346, 'epsilon': 2.4217252003747307e-06, 'learning_rate': 0.005564431073978549}. Best is trial 2 with value: 0.07358321591450179.\u001b[0m\n",
      "\u001b[32m[I 2022-12-05 16:02:51,215]\u001b[0m Trial 3 finished with value: 0.0739982622894817 and parameters: {'no_components': 10, 'rho': 0.9208468560469658, 'epsilon': 1.0730293524668345e-06, 'learning_rate': 0.164344910077306}. Best is trial 3 with value: 0.0739982622894817.\u001b[0m\n",
      "\u001b[32m[I 2022-12-05 16:03:49,819]\u001b[0m Trial 4 finished with value: 0.07458480569233665 and parameters: {'no_components': 3, 'rho': 0.9254100724573242, 'epsilon': 5.952921944600522e-06, 'learning_rate': 0.1968347860734982}. Best is trial 4 with value: 0.07458480569233665.\u001b[0m\n",
      "\u001b[32m[I 2022-12-05 16:04:51,622]\u001b[0m Trial 5 finished with value: 0.07302658488832024 and parameters: {'no_components': 2, 'rho': 0.9075718188105684, 'epsilon': 1.7786050504441274e-06, 'learning_rate': 0.0006534582916700936}. Best is trial 4 with value: 0.07458480569233665.\u001b[0m\n",
      "\u001b[32m[I 2022-12-05 16:05:52,223]\u001b[0m Trial 6 finished with value: 0.08020272791751466 and parameters: {'no_components': 2, 'rho': 0.9125804184442615, 'epsilon': 5.635392800940856e-06, 'learning_rate': 0.04635348923675681}. Best is trial 6 with value: 0.08020272791751466.\u001b[0m\n",
      "\u001b[32m[I 2022-12-05 16:06:55,215]\u001b[0m Trial 7 finished with value: 0.07961590334563795 and parameters: {'no_components': 3, 'rho': 0.9482435391625805, 'epsilon': 2.2336412864396352e-06, 'learning_rate': 0.0013390721918068653}. Best is trial 6 with value: 0.08020272791751466.\u001b[0m\n",
      "\u001b[32m[I 2022-12-05 16:08:05,824]\u001b[0m Trial 8 finished with value: 0.08119064029860958 and parameters: {'no_components': 5, 'rho': 0.9479133091288102, 'epsilon': 3.434929518317852e-06, 'learning_rate': 0.0007143586518906775}. Best is trial 8 with value: 0.08119064029860958.\u001b[0m\n",
      "\u001b[32m[I 2022-12-05 16:09:33,406]\u001b[0m Trial 9 finished with value: 0.074103800205774 and parameters: {'no_components': 9, 'rho': 0.936973210721739, 'epsilon': 1.9402447317903294e-06, 'learning_rate': 0.0005611182926549746}. Best is trial 8 with value: 0.08119064029860958.\u001b[0m\n",
      "\u001b[32m[I 2022-12-05 16:10:45,467]\u001b[0m Trial 10 finished with value: 0.07366851785886212 and parameters: {'no_components': 5, 'rho': 0.9704601419279762, 'epsilon': 3.5928354890950303e-06, 'learning_rate': 0.003399966873689215}. Best is trial 8 with value: 0.08119064029860958.\u001b[0m\n",
      "\u001b[32m[I 2022-12-05 16:11:46,963]\u001b[0m Trial 11 finished with value: 0.0676812853721939 and parameters: {'no_components': 4, 'rho': 0.9030201693546884, 'epsilon': 4.41622582334438e-06, 'learning_rate': 0.023197593672256937}. Best is trial 8 with value: 0.08119064029860958.\u001b[0m\n",
      "\u001b[32m[I 2022-12-05 16:12:58,198]\u001b[0m Trial 12 finished with value: 0.07048292677064279 and parameters: {'no_components': 6, 'rho': 0.9533486113757593, 'epsilon': 8.542778922520168e-06, 'learning_rate': 0.03676476402854063}. Best is trial 8 with value: 0.08119064029860958.\u001b[0m\n",
      "\u001b[32m[I 2022-12-05 16:14:56,021]\u001b[0m Trial 13 finished with value: 0.07563185689248021 and parameters: {'no_components': 16, 'rho': 0.9218553977415253, 'epsilon': 4.433326469313929e-06, 'learning_rate': 0.054412164427481986}. Best is trial 8 with value: 0.08119064029860958.\u001b[0m\n",
      "\u001b[32m[I 2022-12-05 16:15:53,565]\u001b[0m Trial 14 finished with value: 0.0735769254331961 and parameters: {'no_components': 3, 'rho': 0.9309462232238989, 'epsilon': 5.369062521873219e-06, 'learning_rate': 0.009668691258643761}. Best is trial 8 with value: 0.08119064029860958.\u001b[0m\n",
      "\u001b[32m[I 2022-12-05 16:16:43,833]\u001b[0m Trial 15 finished with value: 0.07605407536077441 and parameters: {'no_components': 2, 'rho': 0.9154092388146198, 'epsilon': 9.758586646548716e-06, 'learning_rate': 0.0022014561302516264}. Best is trial 8 with value: 0.08119064029860958.\u001b[0m\n",
      "\u001b[32m[I 2022-12-05 16:18:00,349]\u001b[0m Trial 16 finished with value: 0.07272023917092538 and parameters: {'no_components': 7, 'rho': 0.9737368214004856, 'epsilon': 3.0672574549591355e-06, 'learning_rate': 0.010391438622474094}. Best is trial 8 with value: 0.08119064029860958.\u001b[0m\n",
      "\u001b[32m[I 2022-12-05 16:18:58,886]\u001b[0m Trial 17 finished with value: 0.07588832034281356 and parameters: {'no_components': 4, 'rho': 0.9552827434693829, 'epsilon': 3.2464287638098247e-06, 'learning_rate': 0.0011426461813539076}. Best is trial 8 with value: 0.08119064029860958.\u001b[0m\n",
      "\u001b[32m[I 2022-12-05 16:21:55,276]\u001b[0m Trial 18 finished with value: 0.07559948609463343 and parameters: {'no_components': 31, 'rho': 0.9106673971404567, 'epsilon': 7.332160643042772e-06, 'learning_rate': 0.08394708804997758}. Best is trial 8 with value: 0.08119064029860958.\u001b[0m\n",
      "\u001b[32m[I 2022-12-05 16:23:12,519]\u001b[0m Trial 19 finished with value: 0.065145967693286 and parameters: {'no_components': 7, 'rho': 0.9332299441980616, 'epsilon': 1.32527494891023e-06, 'learning_rate': 0.0003898837794777044}. Best is trial 8 with value: 0.08119064029860958.\u001b[0m\n",
      "\u001b[32m[I 2022-12-05 16:24:15,310]\u001b[0m Trial 20 finished with value: 0.07948091346822349 and parameters: {'no_components': 4, 'rho': 0.9448690229791797, 'epsilon': 4.1909715151934745e-06, 'learning_rate': 0.012726410685079403}. Best is trial 8 with value: 0.08119064029860958.\u001b[0m\n",
      "\u001b[32m[I 2022-12-05 16:25:18,751]\u001b[0m Trial 21 finished with value: 0.07869331142149902 and parameters: {'no_components': 3, 'rho': 0.9459706084240003, 'epsilon': 2.5219411107372187e-06, 'learning_rate': 0.001992473817345556}. Best is trial 8 with value: 0.08119064029860958.\u001b[0m\n",
      "\u001b[32m[I 2022-12-05 16:26:19,730]\u001b[0m Trial 22 finished with value: 0.06491477927341482 and parameters: {'no_components': 3, 'rho': 0.9521104694891773, 'epsilon': 2.5388840837258944e-06, 'learning_rate': 0.00030600802554927903}. Best is trial 8 with value: 0.08119064029860958.\u001b[0m\n",
      "\u001b[32m[I 2022-12-05 16:27:13,600]\u001b[0m Trial 23 finished with value: 0.06653672481929845 and parameters: {'no_components': 2, 'rho': 0.964533141199353, 'epsilon': 4.973562787761247e-06, 'learning_rate': 0.0008220396799897645}. Best is trial 8 with value: 0.08119064029860958.\u001b[0m\n",
      "\u001b[32m[I 2022-12-05 16:28:24,601]\u001b[0m Trial 24 finished with value: 0.06799361537167875 and parameters: {'no_components': 5, 'rho': 0.9448326394100728, 'epsilon': 3.6487920005597493e-06, 'learning_rate': 0.0013925225393820342}. Best is trial 8 with value: 0.08119064029860958.\u001b[0m\n",
      "\u001b[32m[I 2022-12-05 16:29:28,701]\u001b[0m Trial 25 finished with value: 0.07637938630654419 and parameters: {'no_components': 3, 'rho': 0.9753166541326805, 'epsilon': 1.5023204323692132e-06, 'learning_rate': 0.005489794234658272}. Best is trial 8 with value: 0.08119064029860958.\u001b[0m\n",
      "\u001b[32m[I 2022-12-05 16:30:41,970]\u001b[0m Trial 26 finished with value: 0.07338420789776959 and parameters: {'no_components': 5, 'rho': 0.9299253107011863, 'epsilon': 2.977238946069843e-06, 'learning_rate': 0.09639909341092817}. Best is trial 8 with value: 0.08119064029860958.\u001b[0m\n",
      "\u001b[32m[I 2022-12-05 16:31:39,471]\u001b[0m Trial 27 finished with value: 0.07897247801045136 and parameters: {'no_components': 2, 'rho': 0.9586297905235792, 'epsilon': 2.2002407538468407e-06, 'learning_rate': 0.004724648148058162}. Best is trial 8 with value: 0.08119064029860958.\u001b[0m\n",
      "\u001b[32m[I 2022-12-05 16:32:40,202]\u001b[0m Trial 28 finished with value: 0.07596172545517953 and parameters: {'no_components': 4, 'rho': 0.900485357322079, 'epsilon': 5.880031405035422e-06, 'learning_rate': 0.0019809290765774616}. Best is trial 8 with value: 0.08119064029860958.\u001b[0m\n",
      "\u001b[32m[I 2022-12-05 16:34:49,210]\u001b[0m Trial 29 finished with value: 0.07327447942765783 and parameters: {'no_components': 19, 'rho': 0.9372009031310234, 'epsilon': 1.76011311913867e-06, 'learning_rate': 0.02530132834032104}. Best is trial 8 with value: 0.08119064029860958.\u001b[0m\n"
     ]
    },
    {
     "name": "stderr",
     "output_type": "stream",
     "text": [
      "\u001b[32m[I 2022-12-05 16:36:17,519]\u001b[0m Trial 30 finished with value: 0.07358134808286242 and parameters: {'no_components': 9, 'rho': 0.9508213992517383, 'epsilon': 2.804611716247611e-06, 'learning_rate': 0.000983126301070189}. Best is trial 8 with value: 0.08119064029860958.\u001b[0m\n",
      "\u001b[32m[I 2022-12-05 16:37:22,483]\u001b[0m Trial 31 finished with value: 0.0783419737168101 and parameters: {'no_components': 4, 'rho': 0.9442936137731517, 'epsilon': 4.421107399747897e-06, 'learning_rate': 0.015061717196197241}. Best is trial 8 with value: 0.08119064029860958.\u001b[0m\n",
      "\u001b[32m[I 2022-12-05 16:38:35,460]\u001b[0m Trial 32 finished with value: 0.08041744831900051 and parameters: {'no_components': 6, 'rho': 0.9404013598512259, 'epsilon': 3.793620741931967e-06, 'learning_rate': 0.0167235703659432}. Best is trial 8 with value: 0.08119064029860958.\u001b[0m\n",
      "\u001b[32m[I 2022-12-05 16:39:46,628]\u001b[0m Trial 33 finished with value: 0.0799688482614787 and parameters: {'no_components': 6, 'rho': 0.9395569243110714, 'epsilon': 3.6912064817567803e-06, 'learning_rate': 0.022346602838326814}. Best is trial 8 with value: 0.08119064029860958.\u001b[0m\n",
      "\u001b[32m[I 2022-12-05 16:41:29,564]\u001b[0m Trial 34 finished with value: 0.0479217867588172 and parameters: {'no_components': 13, 'rho': 0.9403267506874106, 'epsilon': 3.6938449697840853e-06, 'learning_rate': 0.020932339825436384}. Best is trial 8 with value: 0.08119064029860958.\u001b[0m\n",
      "\u001b[32m[I 2022-12-05 16:42:42,676]\u001b[0m Trial 35 finished with value: 0.06649282239824923 and parameters: {'no_components': 6, 'rho': 0.981761369667846, 'epsilon': 6.0872371332041416e-06, 'learning_rate': 0.04321194270203828}. Best is trial 8 with value: 0.08119064029860958.\u001b[0m\n",
      "\u001b[32m[I 2022-12-05 16:44:19,724]\u001b[0m Trial 36 finished with value: 0.07851291518884591 and parameters: {'no_components': 11, 'rho': 0.9263134164664216, 'epsilon': 7.005217001657914e-06, 'learning_rate': 0.08777535605106895}. Best is trial 8 with value: 0.08119064029860958.\u001b[0m\n",
      "\u001b[32m[I 2022-12-05 16:45:39,764]\u001b[0m Trial 37 finished with value: 0.06745799790517498 and parameters: {'no_components': 8, 'rho': 0.9177655398232094, 'epsilon': 5.192396603502873e-06, 'learning_rate': 0.03575567500919928}. Best is trial 8 with value: 0.08119064029860958.\u001b[0m\n",
      "\u001b[32m[I 2022-12-05 16:47:30,794]\u001b[0m Trial 38 finished with value: 0.06909825807233695 and parameters: {'no_components': 15, 'rho': 0.966238269965482, 'epsilon': 3.951184868191725e-06, 'learning_rate': 0.06032122580029829}. Best is trial 8 with value: 0.08119064029860958.\u001b[0m\n",
      "\u001b[32m[I 2022-12-05 16:48:46,059]\u001b[0m Trial 39 finished with value: 0.08103193122655747 and parameters: {'no_components': 6, 'rho': 0.9390055618428991, 'epsilon': 3.560495790608356e-06, 'learning_rate': 0.017905502851619015}. Best is trial 8 with value: 0.08119064029860958.\u001b[0m\n",
      "\u001b[32m[I 2022-12-05 16:50:05,902]\u001b[0m Trial 40 finished with value: 0.07448806234988313 and parameters: {'no_components': 8, 'rho': 0.9581203991068945, 'epsilon': 3.3110700500136655e-06, 'learning_rate': 0.006723486808081286}. Best is trial 8 with value: 0.08119064029860958.\u001b[0m\n",
      "\u001b[32m[I 2022-12-05 16:51:22,200]\u001b[0m Trial 41 finished with value: 0.07797888329399251 and parameters: {'no_components': 6, 'rho': 0.9398164272616443, 'epsilon': 2.7368240247479438e-06, 'learning_rate': 0.29355297539047764}. Best is trial 8 with value: 0.08119064029860958.\u001b[0m\n",
      "\u001b[32m[I 2022-12-05 16:52:35,033]\u001b[0m Trial 42 finished with value: 0.05777074100250139 and parameters: {'no_components': 5, 'rho': 0.9350055709222295, 'epsilon': 3.3291425466274752e-06, 'learning_rate': 0.018917618214001165}. Best is trial 8 with value: 0.08119064029860958.\u001b[0m\n",
      "\u001b[32m[I 2022-12-05 16:53:46,204]\u001b[0m Trial 43 finished with value: 0.0760015013304112 and parameters: {'no_components': 6, 'rho': 0.9253570236894468, 'epsilon': 4.813140313580077e-06, 'learning_rate': 0.1451637713810556}. Best is trial 8 with value: 0.08119064029860958.\u001b[0m\n",
      "\u001b[32m[I 2022-12-05 16:55:17,941]\u001b[0m Trial 44 finished with value: 0.0761242897074301 and parameters: {'no_components': 10, 'rho': 0.939873729949594, 'epsilon': 3.7856369042607572e-06, 'learning_rate': 0.02787206084215785}. Best is trial 8 with value: 0.08119064029860958.\u001b[0m\n",
      "\u001b[32m[I 2022-12-05 16:56:39,720]\u001b[0m Trial 45 finished with value: 0.07146255834545252 and parameters: {'no_components': 7, 'rho': 0.9122480407490683, 'epsilon': 6.252529907711677e-06, 'learning_rate': 0.0074224693004887685}. Best is trial 8 with value: 0.08119064029860958.\u001b[0m\n",
      "\u001b[32m[I 2022-12-05 16:58:01,619]\u001b[0m Trial 46 finished with value: 0.060871366577475 and parameters: {'no_components': 9, 'rho': 0.9490281890909616, 'epsilon': 4.164532450915378e-06, 'learning_rate': 0.0035902141539057722}. Best is trial 8 with value: 0.08119064029860958.\u001b[0m\n",
      "\u001b[32m[I 2022-12-05 16:59:23,186]\u001b[0m Trial 47 finished with value: 0.05025693702197597 and parameters: {'no_components': 8, 'rho': 0.929659154713019, 'epsilon': 4.7669571979933e-06, 'learning_rate': 0.01686380994084567}. Best is trial 8 with value: 0.08119064029860958.\u001b[0m\n",
      "\u001b[32m[I 2022-12-05 17:00:36,705]\u001b[0m Trial 48 finished with value: 0.07841126449317419 and parameters: {'no_components': 5, 'rho': 0.9042567755013258, 'epsilon': 7.769080989633998e-06, 'learning_rate': 0.011849633617105004}. Best is trial 8 with value: 0.08119064029860958.\u001b[0m\n",
      "\u001b[32m[I 2022-12-05 17:03:00,692]\u001b[0m Trial 49 finished with value: 0.07333301263867342 and parameters: {'no_components': 23, 'rho': 0.9216271756673536, 'epsilon': 2.153001714050604e-06, 'learning_rate': 0.05460628066021098}. Best is trial 8 with value: 0.08119064029860958.\u001b[0m\n"
     ]
    }
   ],
   "source": [
    "tqdm_callback = TqdmCallback(TOTAL_ITERATIONS)\n",
    "\n",
    "study = optuna.create_study(directions = ['maximize'])\n",
    "study.optimize(objective, n_trials=TOTAL_ITERATIONS, callbacks=[tqdm_callback])"
   ]
  },
  {
   "cell_type": "code",
   "execution_count": 25,
   "metadata": {},
   "outputs": [
    {
     "name": "stdout",
     "output_type": "stream",
     "text": [
      "{'no_components': 5, 'rho': 0.9479133091288102, 'epsilon': 3.434929518317852e-06, 'learning_rate': 0.0007143586518906775}\n"
     ]
    }
   ],
   "source": [
    "best_params_with_features = study.best_trial.params\n",
    "print(best_params_with_features)"
   ]
  },
  {
   "cell_type": "markdown",
   "metadata": {},
   "source": [
    "## Best models training"
   ]
  },
  {
   "cell_type": "code",
   "execution_count": 26,
   "metadata": {},
   "outputs": [
    {
     "data": {
      "text/plain": [
       "<rectools.models.lightfm.LightFMWrapperModel at 0x275e2937970>"
      ]
     },
     "execution_count": 26,
     "metadata": {},
     "output_type": "execute_result"
    }
   ],
   "source": [
    "retrained_lfm_without_features = LightFMWrapperModel(\n",
    "    model = LightFM(\n",
    "        no_components = best_params_without_features['no_components'],\n",
    "        learning_schedule = 'adadelta',\n",
    "        loss = 'warp',\n",
    "        rho = best_params_without_features['rho'],\n",
    "        epsilon = best_params_without_features['epsilon'],\n",
    "        learning_rate = best_params_without_features['learning_rate'],\n",
    "        random_state = RANDOM_STATE\n",
    "    )\n",
    ")\n",
    "\n",
    "retrained_lfm_without_features.fit(full_dataset)"
   ]
  },
  {
   "cell_type": "code",
   "execution_count": 27,
   "metadata": {},
   "outputs": [
    {
     "data": {
      "text/plain": [
       "<rectools.models.lightfm.LightFMWrapperModel at 0x275e2937220>"
      ]
     },
     "execution_count": 27,
     "metadata": {},
     "output_type": "execute_result"
    }
   ],
   "source": [
    "retrained_lfm_with_features = LightFMWrapperModel(\n",
    "    model = LightFM(\n",
    "        no_components = best_params_with_features['no_components'],\n",
    "        learning_schedule = 'adadelta',\n",
    "        loss = 'warp',\n",
    "        rho = best_params_with_features['rho'],\n",
    "        epsilon = best_params_with_features['epsilon'],\n",
    "        learning_rate = best_params_with_features['learning_rate'],\n",
    "        random_state = RANDOM_STATE\n",
    "    )\n",
    ")\n",
    "\n",
    "retrained_lfm_with_features.fit(full_featured_dataset)"
   ]
  },
  {
   "cell_type": "code",
   "execution_count": 28,
   "metadata": {},
   "outputs": [],
   "source": [
    "MODELS_PATH = Path(\"../../data/06_models/lightfm\")"
   ]
  },
  {
   "cell_type": "code",
   "execution_count": 29,
   "metadata": {},
   "outputs": [
    {
     "data": {
      "text/plain": [
       "['..\\\\..\\\\data\\\\06_models\\\\lightfm\\\\lfm_with_features.joblib']"
      ]
     },
     "execution_count": 29,
     "metadata": {},
     "output_type": "execute_result"
    }
   ],
   "source": [
    "joblib.dump(retrained_lfm_without_features, MODELS_PATH / 'lfm_without_features.joblib')\n",
    "joblib.dump(retrained_lfm_with_features, MODELS_PATH / 'lfm_with_features.joblib')"
   ]
  },
  {
   "cell_type": "markdown",
   "metadata": {},
   "source": [
    "## ANN via nsmlib based on LightFM with features"
   ]
  },
  {
   "cell_type": "code",
   "execution_count": 30,
   "metadata": {},
   "outputs": [],
   "source": [
    "retrained_lfm_with_features = joblib.load(MODELS_PATH / 'lfm_with_features.joblib')"
   ]
  },
  {
   "cell_type": "code",
   "execution_count": 31,
   "metadata": {},
   "outputs": [],
   "source": [
    "user_embeddings, item_embeddings = retrained_lfm_with_features.get_vectors(full_featured_dataset)"
   ]
  },
  {
   "cell_type": "code",
   "execution_count": 46,
   "metadata": {},
   "outputs": [],
   "source": [
    "ann = UserToItemAnnRecommender(\n",
    "    user_vectors=user_embeddings,\n",
    "    item_vectors=item_embeddings,\n",
    "    user_id_map=full_featured_dataset.user_id_map,\n",
    "    item_id_map=full_featured_dataset.item_id_map,\n",
    "    index_init_params={\n",
    "        'method' : 'hnsw',\n",
    "        'space' : 'negdotprod',\n",
    "        'data_type' : nmslib.DataType.DENSE_VECTOR\n",
    "    }\n",
    ")"
   ]
  },
  {
   "cell_type": "code",
   "execution_count": 47,
   "metadata": {},
   "outputs": [
    {
     "data": {
      "text/plain": [
       "<rectools.tools.ann.UserToItemAnnRecommender at 0x276c33195b0>"
      ]
     },
     "execution_count": 47,
     "metadata": {},
     "output_type": "execute_result"
    }
   ],
   "source": [
    "ann.fit()"
   ]
  },
  {
   "cell_type": "markdown",
   "metadata": {},
   "source": [
    "## Preparing offline recommendations dataframe"
   ]
  },
  {
   "cell_type": "code",
   "execution_count": 34,
   "metadata": {},
   "outputs": [],
   "source": [
    "lfm_wo_features_reco = retrained_lfm_without_features.recommend(\n",
    "    users=interactions_full[Columns.User].unique(),\n",
    "    dataset=full_dataset,\n",
    "    k=K_RECOS,\n",
    "    filter_viewed=True,\n",
    ")"
   ]
  },
  {
   "cell_type": "code",
   "execution_count": 55,
   "metadata": {},
   "outputs": [],
   "source": [
    "recos_without_features_df = lfm_wo_features_reco[['user_id','item_id']].set_index('user_id')"
   ]
  },
  {
   "cell_type": "code",
   "execution_count": 61,
   "metadata": {},
   "outputs": [],
   "source": [
    "recos_without_features_df.to_csv(DATA_PATH / 'lfm_wo_features_recos.csv')"
   ]
  },
  {
   "cell_type": "code",
   "execution_count": 37,
   "metadata": {},
   "outputs": [],
   "source": [
    "lfm_with_features_reco = retrained_lfm_with_features.recommend(\n",
    "    users=interactions_full[Columns.User].unique(),\n",
    "    dataset=full_featured_dataset,\n",
    "    k=K_RECOS,\n",
    "    filter_viewed=True,\n",
    ")"
   ]
  },
  {
   "cell_type": "code",
   "execution_count": 57,
   "metadata": {},
   "outputs": [],
   "source": [
    "recos_with_features_df = lfm_with_features_reco[['user_id','item_id']].set_index('user_id')"
   ]
  },
  {
   "cell_type": "code",
   "execution_count": 62,
   "metadata": {},
   "outputs": [],
   "source": [
    "recos_with_features_df.to_csv(DATA_PATH / 'lfm_with_features_recos.csv')"
   ]
  },
  {
   "cell_type": "code",
   "execution_count": 52,
   "metadata": {},
   "outputs": [],
   "source": [
    "ann_reco = ann.get_item_list_for_user_batch(\n",
    "    user_ids=interactions_full[Columns.User].unique(),\n",
    "    top_n=K_RECOS\n",
    ")"
   ]
  },
  {
   "cell_type": "code",
   "execution_count": 59,
   "metadata": {},
   "outputs": [],
   "source": [
    "ann_recos_df = pd.DataFrame({\n",
    "    Columns.User: interactions_full[Columns.User].unique(),\n",
    "    'item_id': ann_reco\n",
    "}).explode('item_id').set_index('user_id')"
   ]
  },
  {
   "cell_type": "code",
   "execution_count": 63,
   "metadata": {},
   "outputs": [],
   "source": [
    "ann_recos_df.to_csv(DATA_PATH / 'ann_lightfm_recos.csv')"
   ]
  },
  {
   "cell_type": "code",
   "execution_count": null,
   "metadata": {},
   "outputs": [],
   "source": []
  }
 ],
 "metadata": {
  "kernelspec": {
   "display_name": "Python 3",
   "language": "python",
   "name": "python3"
  },
  "language_info": {
   "codemirror_mode": {
    "name": "ipython",
    "version": 3
   },
   "file_extension": ".py",
   "mimetype": "text/x-python",
   "name": "python",
   "nbconvert_exporter": "python",
   "pygments_lexer": "ipython3",
   "version": "3.8.8"
  }
 },
 "nbformat": 4,
 "nbformat_minor": 4
}
