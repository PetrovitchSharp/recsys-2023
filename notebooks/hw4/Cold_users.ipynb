{
 "cells": [
  {
   "cell_type": "code",
   "execution_count": 1,
   "id": "e89ad874",
   "metadata": {},
   "outputs": [],
   "source": [
    "import warnings\n",
    "\n",
    "# Disable warnings\n",
    "warnings.filterwarnings('ignore')"
   ]
  },
  {
   "cell_type": "code",
   "execution_count": 2,
   "id": "c581ddb3",
   "metadata": {},
   "outputs": [],
   "source": [
    "import pandas as pd\n",
    "from rectools import Columns\n",
    "from pathlib import Path"
   ]
  },
  {
   "cell_type": "markdown",
   "id": "e7581e2f",
   "metadata": {},
   "source": [
    "## Data loading"
   ]
  },
  {
   "cell_type": "code",
   "execution_count": 3,
   "id": "48862431",
   "metadata": {},
   "outputs": [],
   "source": [
    "DATA_PATH = Path('../../data/03_primary')"
   ]
  },
  {
   "cell_type": "code",
   "execution_count": 5,
   "id": "31b4e1e6",
   "metadata": {
    "scrolled": true
   },
   "outputs": [],
   "source": [
    "interactions_full = pd.read_csv(DATA_PATH / 'prepared_interactions_full.csv')"
   ]
  },
  {
   "cell_type": "code",
   "execution_count": 6,
   "id": "0402304d",
   "metadata": {},
   "outputs": [],
   "source": [
    "interactions_way_1 = interactions_full.copy()\n",
    "interactions_way_2 = interactions_full.copy()"
   ]
  },
  {
   "cell_type": "markdown",
   "id": "0847658c",
   "metadata": {},
   "source": [
    "## First way: Get most popular item, then drop users who watched it and select next most popular item"
   ]
  },
  {
   "cell_type": "code",
   "execution_count": 7,
   "id": "37cdf607",
   "metadata": {},
   "outputs": [],
   "source": [
    "reco_way_1 = []\n",
    "interactions_way_1.set_index(Columns.User)\n",
    "for _ in range(10):\n",
    "    # Choose most common item in dataset\n",
    "    most_common_item = interactions_way_1[Columns.Item].value_counts().idxmax()\n",
    "    reco_way_1.append(most_common_item)\n",
    "    # Choose users who watched most popular item\n",
    "    users_who_watched = interactions_way_1[interactions_way_1[Columns.Item] == most_common_item].index.to_list()\n",
    "    # And drop them\n",
    "    interactions_way_1.drop(users_who_watched, axis=0, inplace=True)"
   ]
  },
  {
   "cell_type": "code",
   "execution_count": 8,
   "id": "d5768618",
   "metadata": {},
   "outputs": [
    {
     "data": {
      "text/plain": [
       "[10440, 15297, 9728, 13865, 4151, 3734, 2657, 4880, 142, 6809]"
      ]
     },
     "execution_count": 8,
     "metadata": {},
     "output_type": "execute_result"
    }
   ],
   "source": [
    "reco_way_1"
   ]
  },
  {
   "cell_type": "markdown",
   "id": "358535a1",
   "metadata": {},
   "source": [
    "## Second way: Get top-10 most popular items"
   ]
  },
  {
   "cell_type": "code",
   "execution_count": 9,
   "id": "2eb34e6a",
   "metadata": {
    "scrolled": true
   },
   "outputs": [
    {
     "data": {
      "text/plain": [
       "12192"
      ]
     },
     "execution_count": 9,
     "metadata": {},
     "output_type": "execute_result"
    }
   ],
   "source": [
    "interactions_way_1[Columns.Item].value_counts().idxmax()"
   ]
  },
  {
   "cell_type": "code",
   "execution_count": 10,
   "id": "80e70fa7",
   "metadata": {},
   "outputs": [],
   "source": [
    "reco_way_2 = interactions_way_2.groupby(Columns.Item)[Columns.Item]\\\n",
    "    .count()\\\n",
    "    .sort_values(ascending = False)[:10]\\\n",
    "    .index\\\n",
    "    .to_list()"
   ]
  },
  {
   "cell_type": "code",
   "execution_count": 11,
   "id": "6095a700",
   "metadata": {},
   "outputs": [
    {
     "data": {
      "text/plain": [
       "[10440, 15297, 9728, 13865, 4151, 3734, 2657, 4880, 142, 6809]"
      ]
     },
     "execution_count": 11,
     "metadata": {},
     "output_type": "execute_result"
    }
   ],
   "source": [
    "reco_way_2"
   ]
  },
  {
   "cell_type": "markdown",
   "id": "14ab6107",
   "metadata": {},
   "source": [
    "As we see arrays are equal, so he can choose any of them"
   ]
  },
  {
   "cell_type": "code",
   "execution_count": 12,
   "id": "77343414",
   "metadata": {},
   "outputs": [],
   "source": [
    "cold_recos = pd.DataFrame({\n",
    "    'item_id': reco_way_1\n",
    "})"
   ]
  },
  {
   "cell_type": "code",
   "execution_count": 18,
   "id": "8b95d85d",
   "metadata": {},
   "outputs": [],
   "source": [
    "cold_recos.to_csv(DATA_PATH / 'cold_recos.csv', index=None)"
   ]
  },
  {
   "cell_type": "code",
   "execution_count": null,
   "id": "75391a1f",
   "metadata": {},
   "outputs": [],
   "source": []
  }
 ],
 "metadata": {
  "kernelspec": {
   "display_name": "Python 3 (ipykernel)",
   "language": "python",
   "name": "python3"
  },
  "language_info": {
   "codemirror_mode": {
    "name": "ipython",
    "version": 3
   },
   "file_extension": ".py",
   "mimetype": "text/x-python",
   "name": "python",
   "nbconvert_exporter": "python",
   "pygments_lexer": "ipython3",
   "version": "3.8.0"
  }
 },
 "nbformat": 4,
 "nbformat_minor": 5
}
