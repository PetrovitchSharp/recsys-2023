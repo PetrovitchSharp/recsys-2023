{
 "cells": [
  {
   "cell_type": "code",
   "execution_count": 1,
   "metadata": {},
   "outputs": [],
   "source": [
    "import warnings\n",
    "warnings.filterwarnings('ignore')"
   ]
  },
  {
   "cell_type": "code",
   "execution_count": 2,
   "metadata": {},
   "outputs": [],
   "source": [
    "import os\n",
    "os.environ[\"OPENBLAS_NUM_THREADS\"] = \"1\"  \n",
    "os.environ[\"MKL_NUM_THREADS\"] = \"1\"\n",
    "os.environ[\"KMP_DUPLICATE_LIB_OK\"]=\"TRUE\""
   ]
  },
  {
   "cell_type": "code",
   "execution_count": 39,
   "metadata": {},
   "outputs": [],
   "source": [
    "from implicit.als import AlternatingLeastSquares\n",
    "from rectools.metrics import MAP\n",
    "from rectools.models import ImplicitALSWrapperModel\n",
    "from rectools import Columns\n",
    "from rectools.dataset import Dataset\n",
    "from rectools.tools import UserToItemAnnRecommender\n",
    "from pathlib import Path\n",
    "import pandas as pd\n",
    "import optuna\n",
    "from tqdm.auto import tqdm\n",
    "import joblib\n",
    "import nmslib"
   ]
  },
  {
   "cell_type": "markdown",
   "metadata": {},
   "source": [
    "## Loading data"
   ]
  },
  {
   "cell_type": "code",
   "execution_count": 4,
   "metadata": {},
   "outputs": [],
   "source": [
    "DATA_PATH = Path(\"../../data/03_primary\")"
   ]
  },
  {
   "cell_type": "code",
   "execution_count": 5,
   "metadata": {},
   "outputs": [],
   "source": [
    "users_features_train = pd.read_csv(DATA_PATH / 'prepared_featured_users_train.csv')\n",
    "items_features_train = pd.read_csv(DATA_PATH / 'prepared_featured_items_train.csv')\n",
    "\n",
    "users_features_full = pd.read_csv(DATA_PATH / 'prepared_featured_users_full.csv')\n",
    "items_features_full = pd.read_csv(DATA_PATH / 'prepared_featured_items_full.csv')\n",
    "\n",
    "interactions_train = pd.read_csv(DATA_PATH / 'prepared_interactions_train.csv')\n",
    "interactions_test = pd.read_csv(DATA_PATH / 'prepared_interactions_test.csv')\n",
    "\n",
    "interactions_full = pd.read_csv(DATA_PATH / 'prepared_interactions_full.csv')\n"
   ]
  },
  {
   "cell_type": "code",
   "execution_count": 6,
   "metadata": {},
   "outputs": [],
   "source": [
    "train_dataset = Dataset.construct(\n",
    "    interactions_df=interactions_train,\n",
    ")\n",
    "\n",
    "train_featured_dataset = Dataset.construct(\n",
    "    interactions_df=interactions_train,\n",
    "    user_features_df=users_features_train,\n",
    "    cat_user_features=[\"sex\", \"age\", \"income\"],\n",
    "    item_features_df=items_features_train,\n",
    "    cat_item_features=[\"genre\", \"content_type\",\"age_rating\",\"country\",\"release_year_bin\"],\n",
    ")"
   ]
  },
  {
   "cell_type": "code",
   "execution_count": 7,
   "metadata": {},
   "outputs": [],
   "source": [
    "full_dataset = Dataset.construct(\n",
    "    interactions_df=interactions_full,\n",
    ")\n",
    "\n",
    "full_featured_dataset = Dataset.construct(\n",
    "    interactions_df=interactions_full,\n",
    "    user_features_df=users_features_full,\n",
    "    cat_user_features=[\"sex\", \"age\", \"income\"],\n",
    "    item_features_df=items_features_full,\n",
    "    cat_item_features=[\"genre\", \"content_type\",\"age_rating\",\"country\",\"release_year_bin\"],\n",
    ")"
   ]
  },
  {
   "cell_type": "markdown",
   "metadata": {},
   "source": [
    "## Hyperparameters choice via Optuna"
   ]
  },
  {
   "cell_type": "code",
   "execution_count": 8,
   "metadata": {},
   "outputs": [],
   "source": [
    "K_RECOS = 10\n",
    "RANDOM_STATE = 42\n",
    "NUM_THREADS = 4\n",
    "TOTAL_ITERATIONS = 30"
   ]
  },
  {
   "cell_type": "code",
   "execution_count": 9,
   "metadata": {},
   "outputs": [],
   "source": [
    "class TqdmCallback:\n",
    "    '''Callback to check progress of optuna hyperparameters selection'''\n",
    "    def __init__(self, total):\n",
    "        self.pbar = tqdm(total = total)\n",
    "\n",
    "    def __call__(self, study: optuna.study.Study, trial: optuna.trial.FrozenTrial) -> None:\n",
    "        self.pbar.update(1)"
   ]
  },
  {
   "cell_type": "code",
   "execution_count": 18,
   "metadata": {},
   "outputs": [],
   "source": [
    "# Metric\n",
    "metric_map = MAP(k = K_RECOS)"
   ]
  },
  {
   "cell_type": "markdown",
   "metadata": {},
   "source": [
    "### Without features"
   ]
  },
  {
   "cell_type": "code",
   "execution_count": 19,
   "metadata": {},
   "outputs": [],
   "source": [
    "def objective(trial):\n",
    "    '''Objective for optuna'''  \n",
    "    # Set parameters borders\n",
    "    num_factors = trial.suggest_int('factors', 2, 32, log = True)\n",
    "    reg_coefs = trial.suggest_float('regularization', 3e-4, 0.2, log = True)\n",
    "    iterations = trial.suggest_int('iterations', 10, 50, log = True)\n",
    "    \n",
    "    als = ImplicitALSWrapperModel(\n",
    "        model = AlternatingLeastSquares(\n",
    "            factors = num_factors,\n",
    "            regularization = reg_coefs,\n",
    "            iterations = iterations,\n",
    "            use_cg = True,\n",
    "            use_gpu = False,\n",
    "            num_threads = NUM_THREADS,\n",
    "            random_state = RANDOM_STATE\n",
    "        )\n",
    "    )\n",
    "    \n",
    "    als.fit(train_dataset)\n",
    "    \n",
    "    # Make recommendations for users in test\n",
    "    recos = als.recommend(\n",
    "        users=interactions_test[Columns.User].unique(),\n",
    "        dataset=train_dataset,\n",
    "        k=K_RECOS,\n",
    "        filter_viewed=True,\n",
    "    )\n",
    "    \n",
    "    # Calculate metric\n",
    "    map_10 = metric_map.calc(recos, interactions_test)\n",
    "    \n",
    "    return map_10\n"
   ]
  },
  {
   "cell_type": "code",
   "execution_count": 21,
   "metadata": {},
   "outputs": [
    {
     "data": {
      "application/vnd.jupyter.widget-view+json": {
       "model_id": "b85ed09823164f8ba9739ee88e8f4034",
       "version_major": 2,
       "version_minor": 0
      },
      "text/plain": [
       "  0%|          | 0/30 [00:00<?, ?it/s]"
      ]
     },
     "metadata": {},
     "output_type": "display_data"
    },
    {
     "name": "stderr",
     "output_type": "stream",
     "text": [
      "\u001b[32m[I 2022-12-05 15:05:59,273]\u001b[0m A new study created in memory with name: no-name-1c531109-aa02-4734-9d3d-dbbbcb6d2c65\u001b[0m\n",
      "\u001b[32m[I 2022-12-05 15:07:37,980]\u001b[0m Trial 0 finished with value: 0.027883843775673777 and parameters: {'factors': 27, 'regularization': 0.09298906550223413, 'iterations': 17}. Best is trial 0 with value: 0.027883843775673777.\u001b[0m\n",
      "\u001b[32m[I 2022-12-05 15:09:11,535]\u001b[0m Trial 1 finished with value: 0.04887594816091626 and parameters: {'factors': 9, 'regularization': 0.002904285493264573, 'iterations': 24}. Best is trial 1 with value: 0.04887594816091626.\u001b[0m\n",
      "\u001b[32m[I 2022-12-05 15:10:27,539]\u001b[0m Trial 2 finished with value: 0.02812217753784152 and parameters: {'factors': 29, 'regularization': 0.001192299336955479, 'iterations': 10}. Best is trial 1 with value: 0.04887594816091626.\u001b[0m\n",
      "\u001b[32m[I 2022-12-05 15:12:37,740]\u001b[0m Trial 3 finished with value: 0.029871562947528893 and parameters: {'factors': 20, 'regularization': 0.1894957010759684, 'iterations': 31}. Best is trial 1 with value: 0.04887594816091626.\u001b[0m\n",
      "\u001b[32m[I 2022-12-05 15:13:57,731]\u001b[0m Trial 4 finished with value: 0.03303486903044386 and parameters: {'factors': 15, 'regularization': 0.004631529484463102, 'iterations': 15}. Best is trial 1 with value: 0.04887594816091626.\u001b[0m\n",
      "\u001b[32m[I 2022-12-05 15:16:27,444]\u001b[0m Trial 5 finished with value: 0.028813875040628344 and parameters: {'factors': 24, 'regularization': 0.0073761448824028195, 'iterations': 36}. Best is trial 1 with value: 0.04887594816091626.\u001b[0m\n",
      "\u001b[32m[I 2022-12-05 15:18:11,304]\u001b[0m Trial 6 finished with value: 0.02875658686597277 and parameters: {'factors': 30, 'regularization': 0.010042876324709448, 'iterations': 18}. Best is trial 1 with value: 0.04887594816091626.\u001b[0m\n",
      "\u001b[32m[I 2022-12-05 15:20:10,429]\u001b[0m Trial 7 finished with value: 0.02843675423741199 and parameters: {'factors': 28, 'regularization': 0.005342890081684354, 'iterations': 23}. Best is trial 1 with value: 0.04887594816091626.\u001b[0m\n",
      "\u001b[32m[I 2022-12-05 15:21:30,934]\u001b[0m Trial 8 finished with value: 0.028935660780961804 and parameters: {'factors': 31, 'regularization': 0.01686207105425421, 'iterations': 10}. Best is trial 1 with value: 0.04887594816091626.\u001b[0m\n",
      "\u001b[32m[I 2022-12-05 15:22:30,409]\u001b[0m Trial 9 finished with value: 0.055367457983272195 and parameters: {'factors': 8, 'regularization': 0.02320167709381018, 'iterations': 11}. Best is trial 9 with value: 0.055367457983272195.\u001b[0m\n",
      "\u001b[32m[I 2022-12-05 15:24:08,672]\u001b[0m Trial 10 finished with value: 0.07328353382442537 and parameters: {'factors': 2, 'regularization': 0.035041333064738237, 'iterations': 46}. Best is trial 10 with value: 0.07328353382442537.\u001b[0m\n",
      "\u001b[32m[I 2022-12-05 15:25:42,664]\u001b[0m Trial 11 finished with value: 0.07328353382442537 and parameters: {'factors': 2, 'regularization': 0.03324072581606606, 'iterations': 44}. Best is trial 10 with value: 0.07328353382442537.\u001b[0m\n",
      "\u001b[32m[I 2022-12-05 15:27:12,151]\u001b[0m Trial 12 finished with value: 0.07328831670987437 and parameters: {'factors': 2, 'regularization': 0.03716111608869566, 'iterations': 42}. Best is trial 12 with value: 0.07328831670987437.\u001b[0m\n",
      "\u001b[32m[I 2022-12-05 15:28:51,925]\u001b[0m Trial 13 finished with value: 0.07327921766786871 and parameters: {'factors': 2, 'regularization': 0.05775832308140383, 'iterations': 48}. Best is trial 12 with value: 0.07328831670987437.\u001b[0m\n",
      "\u001b[32m[I 2022-12-05 15:30:21,073]\u001b[0m Trial 14 finished with value: 0.06275626828186903 and parameters: {'factors': 4, 'regularization': 0.06329312744547548, 'iterations': 34}. Best is trial 12 with value: 0.07328831670987437.\u001b[0m\n",
      "\u001b[32m[I 2022-12-05 15:31:59,083]\u001b[0m Trial 15 finished with value: 0.0659538153140677 and parameters: {'factors': 3, 'regularization': 0.1561874177248122, 'iterations': 39}. Best is trial 12 with value: 0.07328831670987437.\u001b[0m\n",
      "\u001b[32m[I 2022-12-05 15:33:22,511]\u001b[0m Trial 16 finished with value: 0.06267646922148112 and parameters: {'factors': 4, 'regularization': 0.03296448887334295, 'iterations': 28}. Best is trial 12 with value: 0.07328831670987437.\u001b[0m\n",
      "\u001b[32m[I 2022-12-05 15:35:00,777]\u001b[0m Trial 17 finished with value: 0.06617299263981058 and parameters: {'factors': 3, 'regularization': 0.0008642124168518338, 'iterations': 41}. Best is trial 12 with value: 0.07328831670987437.\u001b[0m\n",
      "\u001b[32m[I 2022-12-05 15:37:02,386]\u001b[0m Trial 18 finished with value: 0.06286547611317204 and parameters: {'factors': 5, 'regularization': 0.0004096970551585049, 'iterations': 50}. Best is trial 12 with value: 0.07328831670987437.\u001b[0m\n",
      "\u001b[32m[I 2022-12-05 15:38:17,260]\u001b[0m Trial 19 finished with value: 0.07328468263872376 and parameters: {'factors': 2, 'regularization': 0.013414612154632037, 'iterations': 28}. Best is trial 12 with value: 0.07328831670987437.\u001b[0m\n",
      "\u001b[32m[I 2022-12-05 15:39:58,890]\u001b[0m Trial 20 finished with value: 0.04074659324859061 and parameters: {'factors': 11, 'regularization': 0.015331138825480083, 'iterations': 27}. Best is trial 12 with value: 0.07328831670987437.\u001b[0m\n",
      "\u001b[32m[I 2022-12-05 15:41:19,358]\u001b[0m Trial 21 finished with value: 0.07328516389707641 and parameters: {'factors': 2, 'regularization': 0.04431989821754868, 'iterations': 32}. Best is trial 12 with value: 0.07328831670987437.\u001b[0m\n",
      "\u001b[32m[I 2022-12-05 15:42:44,680]\u001b[0m Trial 22 finished with value: 0.0640261848286119 and parameters: {'factors': 3, 'regularization': 0.08146655975439938, 'iterations': 31}. Best is trial 12 with value: 0.07328831670987437.\u001b[0m\n",
      "\u001b[32m[I 2022-12-05 15:43:58,815]\u001b[0m Trial 23 finished with value: 0.07328432475894436 and parameters: {'factors': 2, 'regularization': 0.012209424856044827, 'iterations': 27}. Best is trial 12 with value: 0.07328831670987437.\u001b[0m\n",
      "\u001b[32m[I 2022-12-05 15:45:11,254]\u001b[0m Trial 24 finished with value: 0.06024206021422612 and parameters: {'factors': 5, 'regularization': 0.03853669447350421, 'iterations': 20}. Best is trial 12 with value: 0.07328831670987437.\u001b[0m\n",
      "\u001b[32m[I 2022-12-05 15:46:42,526]\u001b[0m Trial 25 finished with value: 0.0653244077660776 and parameters: {'factors': 3, 'regularization': 0.05429598679931217, 'iterations': 35}. Best is trial 12 with value: 0.07328831670987437.\u001b[0m\n",
      "\u001b[32m[I 2022-12-05 15:48:34,085]\u001b[0m Trial 26 finished with value: 0.05840512316568502 and parameters: {'factors': 6, 'regularization': 0.021219830119968478, 'iterations': 40}. Best is trial 12 with value: 0.07328831670987437.\u001b[0m\n",
      "\u001b[32m[I 2022-12-05 15:49:59,531]\u001b[0m Trial 27 finished with value: 0.06270888140588939 and parameters: {'factors': 4, 'regularization': 0.11988856902345489, 'iterations': 29}. Best is trial 12 with value: 0.07328831670987437.\u001b[0m\n",
      "\u001b[32m[I 2022-12-05 15:51:06,489]\u001b[0m Trial 28 finished with value: 0.07328330793228681 and parameters: {'factors': 2, 'regularization': 0.002341331024272905, 'iterations': 25}. Best is trial 12 with value: 0.07328831670987437.\u001b[0m\n",
      "\u001b[32m[I 2022-12-05 15:52:04,726]\u001b[0m Trial 29 finished with value: 0.061210851291856994 and parameters: {'factors': 3, 'regularization': 0.10873307126278474, 'iterations': 20}. Best is trial 12 with value: 0.07328831670987437.\u001b[0m\n"
     ]
    }
   ],
   "source": [
    "tqdm_callback = TqdmCallback(TOTAL_ITERATIONS)\n",
    "\n",
    "study = optuna.create_study(directions = ['maximize'])\n",
    "study.optimize(objective, n_trials=TOTAL_ITERATIONS, callbacks=[tqdm_callback])"
   ]
  },
  {
   "cell_type": "code",
   "execution_count": 22,
   "metadata": {},
   "outputs": [
    {
     "name": "stdout",
     "output_type": "stream",
     "text": [
      "{'factors': 2, 'regularization': 0.03716111608869566, 'iterations': 42}\n"
     ]
    }
   ],
   "source": [
    "best_params_without_features = study.best_trial.params\n",
    "print(best_params_without_features)"
   ]
  },
  {
   "cell_type": "markdown",
   "metadata": {},
   "source": [
    "### With features"
   ]
  },
  {
   "cell_type": "code",
   "execution_count": 28,
   "metadata": {},
   "outputs": [],
   "source": [
    "def objective(trial):\n",
    "    '''Objective for optuna'''  \n",
    "    # Set parameters borders\n",
    "    num_factors = trial.suggest_int('factors', 2, 32, log = True)\n",
    "    reg_coefs = trial.suggest_float('regularization', 3e-4, 0.2, log = True)\n",
    "    iterations = trial.suggest_int('iterations', 5, 20, log = True)\n",
    "    \n",
    "    als = ImplicitALSWrapperModel(\n",
    "        model = AlternatingLeastSquares(\n",
    "            factors = num_factors,\n",
    "            regularization = reg_coefs,\n",
    "            iterations = iterations,\n",
    "            use_cg = True,\n",
    "            use_gpu = False,\n",
    "            num_threads = NUM_THREADS,\n",
    "            random_state = RANDOM_STATE\n",
    "        ),\n",
    "        fit_features_together = True,\n",
    "    )\n",
    "    \n",
    "    als.fit(train_featured_dataset)\n",
    "    \n",
    "    # Make recommendations for users in test\n",
    "    recos = als.recommend(\n",
    "        users=interactions_test[Columns.User].unique(),\n",
    "        dataset=train_featured_dataset,\n",
    "        k=K_RECOS,\n",
    "        filter_viewed=True,\n",
    "    )\n",
    "    \n",
    "    # Calculate MAP@10\n",
    "    map_10 = metric_map.calc(recos, interactions_test)\n",
    "    \n",
    "    return map_10\n"
   ]
  },
  {
   "cell_type": "code",
   "execution_count": 29,
   "metadata": {},
   "outputs": [
    {
     "data": {
      "application/vnd.jupyter.widget-view+json": {
       "model_id": "bed82bab3930420aa4c9f9149a53cb84",
       "version_major": 2,
       "version_minor": 0
      },
      "text/plain": [
       "  0%|          | 0/30 [00:00<?, ?it/s]"
      ]
     },
     "metadata": {},
     "output_type": "display_data"
    },
    {
     "name": "stderr",
     "output_type": "stream",
     "text": [
      "\u001b[32m[I 2022-12-05 16:08:54,210]\u001b[0m A new study created in memory with name: no-name-335b5eaf-9c93-4393-a8b8-9a7eebc649b7\u001b[0m\n",
      "\u001b[32m[I 2022-12-05 16:12:54,449]\u001b[0m Trial 0 finished with value: 0.07677138902818899 and parameters: {'factors': 14, 'regularization': 0.00030577682497789774, 'iterations': 12}. Best is trial 0 with value: 0.07677138902818899.\u001b[0m\n",
      "\u001b[32m[I 2022-12-05 16:16:55,544]\u001b[0m Trial 1 finished with value: 0.0749020130952791 and parameters: {'factors': 6, 'regularization': 0.03145948857158636, 'iterations': 18}. Best is trial 0 with value: 0.07677138902818899.\u001b[0m\n",
      "\u001b[32m[I 2022-12-05 16:19:36,573]\u001b[0m Trial 2 finished with value: 0.06978187905716207 and parameters: {'factors': 2, 'regularization': 0.003852034999515797, 'iterations': 7}. Best is trial 0 with value: 0.07677138902818899.\u001b[0m\n",
      "\u001b[32m[I 2022-12-05 16:24:17,033]\u001b[0m Trial 3 finished with value: 0.07899508906455642 and parameters: {'factors': 17, 'regularization': 0.007893433958018913, 'iterations': 16}. Best is trial 3 with value: 0.07899508906455642.\u001b[0m\n",
      "\u001b[32m[I 2022-12-05 16:28:04,543]\u001b[0m Trial 4 finished with value: 0.0782427535824385 and parameters: {'factors': 2, 'regularization': 0.01976480616556452, 'iterations': 11}. Best is trial 3 with value: 0.07899508906455642.\u001b[0m\n",
      "\u001b[32m[I 2022-12-05 16:33:25,896]\u001b[0m Trial 5 finished with value: 0.07728720536851273 and parameters: {'factors': 28, 'regularization': 0.004190770502453957, 'iterations': 18}. Best is trial 3 with value: 0.07899508906455642.\u001b[0m\n",
      "\u001b[32m[I 2022-12-05 16:36:50,890]\u001b[0m Trial 6 finished with value: 0.07768468357969824 and parameters: {'factors': 22, 'regularization': 0.012254593051640606, 'iterations': 8}. Best is trial 3 with value: 0.07899508906455642.\u001b[0m\n",
      "\u001b[32m[I 2022-12-05 16:39:58,403]\u001b[0m Trial 7 finished with value: 0.0772677568485072 and parameters: {'factors': 15, 'regularization': 0.04918105297546788, 'iterations': 6}. Best is trial 3 with value: 0.07899508906455642.\u001b[0m\n",
      "\u001b[32m[I 2022-12-05 16:43:16,496]\u001b[0m Trial 8 finished with value: 0.07594807069421582 and parameters: {'factors': 4, 'regularization': 0.0033242848823996246, 'iterations': 8}. Best is trial 3 with value: 0.07899508906455642.\u001b[0m\n",
      "\u001b[32m[I 2022-12-05 16:46:28,211]\u001b[0m Trial 9 finished with value: 0.07493699547272831 and parameters: {'factors': 5, 'regularization': 0.0012672743380055065, 'iterations': 7}. Best is trial 3 with value: 0.07899508906455642.\u001b[0m\n",
      "\u001b[32m[I 2022-12-05 16:50:33,700]\u001b[0m Trial 10 finished with value: 0.07826140798019637 and parameters: {'factors': 11, 'regularization': 0.0951602958413066, 'iterations': 14}. Best is trial 3 with value: 0.07899508906455642.\u001b[0m\n",
      "\u001b[32m[I 2022-12-05 16:54:48,714]\u001b[0m Trial 11 finished with value: 0.07829708726875084 and parameters: {'factors': 11, 'regularization': 0.1911386610203665, 'iterations': 14}. Best is trial 3 with value: 0.07899508906455642.\u001b[0m\n",
      "\u001b[32m[I 2022-12-05 16:59:02,014]\u001b[0m Trial 12 finished with value: 0.07851868582816321 and parameters: {'factors': 8, 'regularization': 0.1258494186039191, 'iterations': 15}. Best is trial 3 with value: 0.07899508906455642.\u001b[0m\n",
      "\u001b[32m[I 2022-12-05 17:03:33,678]\u001b[0m Trial 13 finished with value: 0.07658796086738794 and parameters: {'factors': 8, 'regularization': 0.0008228000603794586, 'iterations': 20}. Best is trial 3 with value: 0.07899508906455642.\u001b[0m\n",
      "\u001b[32m[I 2022-12-05 17:06:53,497]\u001b[0m Trial 14 finished with value: 0.07827283534863547 and parameters: {'factors': 18, 'regularization': 0.1902093553577752, 'iterations': 15}. Best is trial 3 with value: 0.07899508906455642.\u001b[0m\n",
      "\u001b[32m[I 2022-12-05 17:11:02,020]\u001b[0m Trial 15 finished with value: 0.07752128356088978 and parameters: {'factors': 31, 'regularization': 0.060043417576192956, 'iterations': 10}. Best is trial 3 with value: 0.07899508906455642.\u001b[0m\n",
      "\u001b[32m[I 2022-12-05 17:16:23,727]\u001b[0m Trial 16 finished with value: 0.07761263942571109 and parameters: {'factors': 3, 'regularization': 0.007875839868086489, 'iterations': 16}. Best is trial 3 with value: 0.07899508906455642.\u001b[0m\n",
      "\u001b[32m[I 2022-12-05 17:19:39,356]\u001b[0m Trial 17 finished with value: 0.07379554103400315 and parameters: {'factors': 9, 'regularization': 0.02171132134876671, 'iterations': 5}. Best is trial 3 with value: 0.07899508906455642.\u001b[0m\n",
      "\u001b[32m[I 2022-12-05 17:23:04,005]\u001b[0m Trial 18 finished with value: 0.0763951002358114 and parameters: {'factors': 7, 'regularization': 0.0010738476007242882, 'iterations': 12}. Best is trial 3 with value: 0.07899508906455642.\u001b[0m\n",
      "\u001b[32m[I 2022-12-05 17:27:16,345]\u001b[0m Trial 19 finished with value: 0.07636840822188927 and parameters: {'factors': 22, 'regularization': 0.08338500536333854, 'iterations': 20}. Best is trial 3 with value: 0.07899508906455642.\u001b[0m\n",
      "\u001b[32m[I 2022-12-05 17:30:52,442]\u001b[0m Trial 20 finished with value: 0.07895918174048336 and parameters: {'factors': 4, 'regularization': 0.0019984430369843977, 'iterations': 13}. Best is trial 3 with value: 0.07899508906455642.\u001b[0m\n",
      "\u001b[32m[I 2022-12-05 17:34:20,667]\u001b[0m Trial 21 finished with value: 0.07992821078130187 and parameters: {'factors': 3, 'regularization': 0.001909865146197606, 'iterations': 13}. Best is trial 21 with value: 0.07992821078130187.\u001b[0m\n",
      "\u001b[32m[I 2022-12-05 17:37:36,260]\u001b[0m Trial 22 finished with value: 0.08060384389361441 and parameters: {'factors': 3, 'regularization': 0.0018347283256986877, 'iterations': 13}. Best is trial 22 with value: 0.08060384389361441.\u001b[0m\n",
      "\u001b[32m[I 2022-12-05 17:40:34,536]\u001b[0m Trial 23 finished with value: 0.0788985849844111 and parameters: {'factors': 3, 'regularization': 0.00047235982074826335, 'iterations': 11}. Best is trial 22 with value: 0.08060384389361441.\u001b[0m\n",
      "\u001b[32m[I 2022-12-05 17:44:25,540]\u001b[0m Trial 24 finished with value: 0.07826752771736113 and parameters: {'factors': 3, 'regularization': 0.0022360573216758713, 'iterations': 17}. Best is trial 22 with value: 0.08060384389361441.\u001b[0m\n",
      "\u001b[32m[I 2022-12-05 17:47:49,525]\u001b[0m Trial 25 finished with value: 0.07796563129889456 and parameters: {'factors': 4, 'regularization': 0.0060065738303643115, 'iterations': 9}. Best is trial 22 with value: 0.08060384389361441.\u001b[0m\n",
      "\u001b[32m[I 2022-12-05 17:51:42,680]\u001b[0m Trial 26 finished with value: 0.07928171194786497 and parameters: {'factors': 2, 'regularization': 0.010904290924228396, 'iterations': 13}. Best is trial 22 with value: 0.08060384389361441.\u001b[0m\n",
      "\u001b[32m[I 2022-12-05 17:55:25,693]\u001b[0m Trial 27 finished with value: 0.07940248563131001 and parameters: {'factors': 2, 'regularization': 0.0021259236865960075, 'iterations': 13}. Best is trial 22 with value: 0.08060384389361441.\u001b[0m\n",
      "\u001b[32m[I 2022-12-05 17:58:52,503]\u001b[0m Trial 28 finished with value: 0.07678465634166687 and parameters: {'factors': 3, 'regularization': 0.0018784735514619801, 'iterations': 10}. Best is trial 22 with value: 0.08060384389361441.\u001b[0m\n",
      "\u001b[32m[I 2022-12-05 18:03:12,771]\u001b[0m Trial 29 finished with value: 0.0787265477839284 and parameters: {'factors': 5, 'regularization': 0.000660931194516667, 'iterations': 12}. Best is trial 22 with value: 0.08060384389361441.\u001b[0m\n"
     ]
    }
   ],
   "source": [
    "tqdm_callback = TqdmCallback(TOTAL_ITERATIONS)\n",
    "\n",
    "study = optuna.create_study(directions = ['maximize'])\n",
    "study.optimize(objective, n_trials=TOTAL_ITERATIONS, callbacks=[tqdm_callback])"
   ]
  },
  {
   "cell_type": "code",
   "execution_count": 30,
   "metadata": {},
   "outputs": [
    {
     "name": "stdout",
     "output_type": "stream",
     "text": [
      "{'factors': 3, 'regularization': 0.0018347283256986877, 'iterations': 13}\n"
     ]
    }
   ],
   "source": [
    "best_params_with_features = study.best_trial.params\n",
    "print(best_params_with_features)"
   ]
  },
  {
   "cell_type": "markdown",
   "metadata": {},
   "source": [
    "## Best models training"
   ]
  },
  {
   "cell_type": "code",
   "execution_count": 32,
   "metadata": {},
   "outputs": [
    {
     "data": {
      "text/plain": [
       "<rectools.models.implicit_als.ImplicitALSWrapperModel at 0x1a7383d2b50>"
      ]
     },
     "execution_count": 32,
     "metadata": {},
     "output_type": "execute_result"
    }
   ],
   "source": [
    "retrained_als_without_features = ImplicitALSWrapperModel(\n",
    "    model = AlternatingLeastSquares(\n",
    "        factors = best_params_without_features['factors'],\n",
    "        regularization = best_params_without_features['regularization'],\n",
    "        iterations = best_params_without_features['iterations'],\n",
    "        use_cg = True,\n",
    "        use_gpu = False,\n",
    "        num_threads = NUM_THREADS,\n",
    "        random_state = RANDOM_STATE\n",
    "    )\n",
    ")\n",
    "\n",
    "retrained_als_without_features.fit(full_dataset)"
   ]
  },
  {
   "cell_type": "code",
   "execution_count": 33,
   "metadata": {},
   "outputs": [
    {
     "data": {
      "text/plain": [
       "<rectools.models.implicit_als.ImplicitALSWrapperModel at 0x1a7383d2220>"
      ]
     },
     "execution_count": 33,
     "metadata": {},
     "output_type": "execute_result"
    }
   ],
   "source": [
    "retrained_als_with_features = ImplicitALSWrapperModel(\n",
    "    model = AlternatingLeastSquares(\n",
    "        factors = best_params_with_features['factors'],\n",
    "        regularization = best_params_with_features['regularization'],\n",
    "        iterations = best_params_with_features['iterations'],\n",
    "        use_cg = True,\n",
    "        use_gpu = False,\n",
    "        num_threads = NUM_THREADS,\n",
    "        random_state = RANDOM_STATE\n",
    "    ),\n",
    "    fit_features_together = True,\n",
    ")\n",
    "\n",
    "retrained_als_with_features.fit(full_featured_dataset)"
   ]
  },
  {
   "cell_type": "code",
   "execution_count": 34,
   "metadata": {},
   "outputs": [],
   "source": [
    "MODELS_PATH = Path(\"../../data/06_models/als\")"
   ]
  },
  {
   "cell_type": "code",
   "execution_count": 35,
   "metadata": {},
   "outputs": [
    {
     "data": {
      "text/plain": [
       "['..\\\\..\\\\data\\\\06_models\\\\als\\\\als_with_features.joblib']"
      ]
     },
     "execution_count": 35,
     "metadata": {},
     "output_type": "execute_result"
    }
   ],
   "source": [
    "joblib.dump(retrained_als_without_features, MODELS_PATH / 'als_without_features.joblib')\n",
    "joblib.dump(retrained_als_with_features, MODELS_PATH / 'als_with_features.joblib')"
   ]
  },
  {
   "cell_type": "markdown",
   "metadata": {},
   "source": [
    "## ANN via nsmlib based on ALS with features"
   ]
  },
  {
   "cell_type": "code",
   "execution_count": 36,
   "metadata": {},
   "outputs": [],
   "source": [
    "retrained_als_with_features = joblib.load(MODELS_PATH / 'als_with_features.joblib')"
   ]
  },
  {
   "cell_type": "code",
   "execution_count": 37,
   "metadata": {},
   "outputs": [],
   "source": [
    "user_embeddings, item_embeddings = retrained_als_with_features.get_vectors()"
   ]
  },
  {
   "cell_type": "code",
   "execution_count": 40,
   "metadata": {},
   "outputs": [],
   "source": [
    "ann = UserToItemAnnRecommender(\n",
    "    user_vectors=user_embeddings,\n",
    "    item_vectors=item_embeddings,\n",
    "    user_id_map=full_featured_dataset.user_id_map,\n",
    "    item_id_map=full_featured_dataset.item_id_map,\n",
    "    index_init_params={\n",
    "        'method' : 'hnsw',\n",
    "        'space' : 'negdotprod',\n",
    "        'data_type' : nmslib.DataType.DENSE_VECTOR\n",
    "    }\n",
    ")"
   ]
  },
  {
   "cell_type": "code",
   "execution_count": 41,
   "metadata": {},
   "outputs": [
    {
     "data": {
      "text/plain": [
       "<rectools.tools.ann.UserToItemAnnRecommender at 0x1a711506100>"
      ]
     },
     "execution_count": 41,
     "metadata": {},
     "output_type": "execute_result"
    }
   ],
   "source": [
    "ann.fit()"
   ]
  },
  {
   "cell_type": "markdown",
   "metadata": {},
   "source": [
    "## Preparing offline recommendations dataframes"
   ]
  },
  {
   "cell_type": "code",
   "execution_count": 43,
   "metadata": {},
   "outputs": [],
   "source": [
    "als_wo_features_reco = retrained_als_without_features.recommend(\n",
    "    users=interactions_full[Columns.User].unique(),\n",
    "    dataset=full_dataset,\n",
    "    k=K_RECOS,\n",
    "    filter_viewed=True,\n",
    ")"
   ]
  },
  {
   "cell_type": "code",
   "execution_count": 60,
   "metadata": {},
   "outputs": [],
   "source": [
    "recos_without_features_df = als_wo_features_reco[['user_id','item_id']].set_index('user_id')"
   ]
  },
  {
   "cell_type": "code",
   "execution_count": 70,
   "metadata": {},
   "outputs": [],
   "source": [
    "recos_without_features_df.to_csv(DATA_PATH / 'als_wo_features_recos.csv')"
   ]
  },
  {
   "cell_type": "code",
   "execution_count": 46,
   "metadata": {},
   "outputs": [],
   "source": [
    "als_with_features_reco = retrained_als_with_features.recommend(\n",
    "    users=interactions_full[Columns.User].unique(),\n",
    "    dataset=full_featured_dataset,\n",
    "    k=K_RECOS,\n",
    "    filter_viewed=True,\n",
    ")"
   ]
  },
  {
   "cell_type": "code",
   "execution_count": 62,
   "metadata": {},
   "outputs": [],
   "source": [
    "recos_with_features_df = als_wo_features_reco[['user_id','item_id']].set_index('user_id')"
   ]
  },
  {
   "cell_type": "code",
   "execution_count": 71,
   "metadata": {},
   "outputs": [],
   "source": [
    "recos_with_features_df.to_csv(DATA_PATH / 'als_with_features_recos.csv')"
   ]
  },
  {
   "cell_type": "code",
   "execution_count": 49,
   "metadata": {},
   "outputs": [],
   "source": [
    "ann_reco = ann.get_item_list_for_user_batch(\n",
    "    user_ids=interactions_full[Columns.User].unique(),\n",
    "    top_n=K_RECOS\n",
    ")"
   ]
  },
  {
   "cell_type": "code",
   "execution_count": 68,
   "metadata": {},
   "outputs": [],
   "source": [
    "ann_recos_df = pd.DataFrame({\n",
    "    Columns.User: interactions_full[Columns.User].unique(),\n",
    "    'item_id': ann_reco\n",
    "}).explode('item_id').set_index('user_id')"
   ]
  },
  {
   "cell_type": "code",
   "execution_count": 72,
   "metadata": {},
   "outputs": [],
   "source": [
    "ann_recos_df.to_csv(DATA_PATH / 'ann_als_recos.csv')"
   ]
  },
  {
   "cell_type": "code",
   "execution_count": null,
   "metadata": {},
   "outputs": [],
   "source": []
  }
 ],
 "metadata": {
  "kernelspec": {
   "display_name": "Python 3",
   "language": "python",
   "name": "python3"
  },
  "language_info": {
   "codemirror_mode": {
    "name": "ipython",
    "version": 3
   },
   "file_extension": ".py",
   "mimetype": "text/x-python",
   "name": "python",
   "nbconvert_exporter": "python",
   "pygments_lexer": "ipython3",
   "version": "3.8.8"
  }
 },
 "nbformat": 4,
 "nbformat_minor": 4
}
