{
 "cells": [
  {
   "cell_type": "code",
   "execution_count": 1,
   "metadata": {},
   "outputs": [],
   "source": [
    "import warnings\n",
    "\n",
    "# Disable warnings\n",
    "warnings.filterwarnings('ignore')"
   ]
  },
  {
   "cell_type": "code",
   "execution_count": 2,
   "metadata": {},
   "outputs": [],
   "source": [
    "import pandas as pd\n",
    "import numpy as np\n",
    "from tqdm.auto import tqdm\n",
    "from rectools import Columns\n",
    "import requests\n",
    "import zipfile as zf\n",
    "from pathlib import Path\n",
    "import os"
   ]
  },
  {
   "cell_type": "code",
   "execution_count": 3,
   "metadata": {},
   "outputs": [],
   "source": [
    "DATA_SAVE_PATH = Path('../../data/03_primary')"
   ]
  },
  {
   "cell_type": "markdown",
   "metadata": {},
   "source": [
    "## Data loading"
   ]
  },
  {
   "cell_type": "code",
   "execution_count": 4,
   "metadata": {},
   "outputs": [
    {
     "data": {
      "application/vnd.jupyter.widget-view+json": {
       "model_id": "4e33cf7a064343afa685282ec894ca03",
       "version_major": 2,
       "version_minor": 0
      },
      "text/plain": [
       "kion dataset download:   0%|          | 0.00/78.8M [00:00<?, ?iB/s]"
      ]
     },
     "metadata": {},
     "output_type": "display_data"
    }
   ],
   "source": [
    "url = 'https://github.com/irsafilo/KION_DATASET/raw/f69775be31fa5779907cf0a92ddedb70037fb5ae/data_original.zip'\n",
    "\n",
    "req = requests.get(url, stream=True)\n",
    "\n",
    "with open('kion.zip', 'wb') as fd:\n",
    "    total_size_in_bytes = int(req.headers.get('Content-Length', 0))\n",
    "    progress_bar = tqdm(desc='kion dataset download', total=total_size_in_bytes, unit='iB', unit_scale=True)\n",
    "    for chunk in req.iter_content(chunk_size=2 ** 20):\n",
    "        progress_bar.update(len(chunk))\n",
    "        fd.write(chunk)"
   ]
  },
  {
   "cell_type": "code",
   "execution_count": 5,
   "metadata": {},
   "outputs": [],
   "source": [
    "files = zf.ZipFile('kion.zip','r')\n",
    "files.extractall()\n",
    "files.close()"
   ]
  },
  {
   "cell_type": "code",
   "execution_count": 6,
   "metadata": {},
   "outputs": [],
   "source": [
    "users = pd.read_csv('data_original/users.csv')\n",
    "items = pd.read_csv('data_original/items.csv')\n",
    "interactions = pd.read_csv('data_original/interactions.csv')"
   ]
  },
  {
   "cell_type": "markdown",
   "metadata": {},
   "source": [
    "### Preparation of interactions dataframe"
   ]
  },
  {
   "cell_type": "code",
   "execution_count": 7,
   "metadata": {},
   "outputs": [],
   "source": [
    "# Renaming columns to rectools style\n",
    "interactions.rename(columns={\n",
    "    'last_watch_dt': 'datetime',\n",
    "    'watched_pct': 'weight'\n",
    "}, inplace=True)"
   ]
  },
  {
   "cell_type": "code",
   "execution_count": 8,
   "metadata": {},
   "outputs": [],
   "source": [
    "# Drop all rows with non 10 symbols date \n",
    "# And transform remaining dates to pandas datetime \n",
    "interactions.drop(interactions[interactions[Columns.Datetime].str.len() != 10].index, inplace=True)\n",
    "interactions[Columns.Datetime] = pd.to_datetime(interactions[Columns.Datetime], format='%Y-%m-%d')"
   ]
  },
  {
   "cell_type": "code",
   "execution_count": 9,
   "metadata": {},
   "outputs": [
    {
     "name": "stdout",
     "output_type": "stream",
     "text": [
      "(Timestamp('2021-03-13 00:00:00'), Timestamp('2021-08-22 00:00:00'))\n"
     ]
    }
   ],
   "source": [
    "# Check first and last date in dataset\n",
    "min_date = interactions[Columns.Datetime].min()\n",
    "max_date = interactions[Columns.Datetime].max()\n",
    "print((min_date, max_date))"
   ]
  },
  {
   "cell_type": "code",
   "execution_count": 10,
   "metadata": {},
   "outputs": [],
   "source": [
    "def get_score(weight: float) -> int:\n",
    "    score = 0\n",
    "    if weight > 80.:\n",
    "        score = 5\n",
    "    elif weight > 60.:\n",
    "        score = 4\n",
    "    elif weight > 40.:\n",
    "        score = 3\n",
    "    elif weight > 20.:\n",
    "        score = 2\n",
    "    else:\n",
    "        score = 1\n",
    "        \n",
    "    return score\n",
    "\n",
    "vec_get_score = np.vectorize(get_score)"
   ]
  },
  {
   "cell_type": "code",
   "execution_count": 11,
   "metadata": {},
   "outputs": [],
   "source": [
    "# Set weights to rows based on percentage\n",
    "interactions[Columns.Weight] = vec_get_score(interactions[Columns.Weight])\n"
   ]
  },
  {
   "cell_type": "markdown",
   "metadata": {},
   "source": [
    "## Adding artificial users"
   ]
  },
  {
   "cell_type": "code",
   "execution_count": 12,
   "metadata": {},
   "outputs": [],
   "source": [
    "# Merge interactions with items descriptions \n",
    "itr_with_desc = interactions.merge(items, on = Columns.Item)"
   ]
  },
  {
   "cell_type": "markdown",
   "metadata": {},
   "source": [
    "### Case 1: Parent of a preschool child \\ primary school student"
   ]
  },
  {
   "cell_type": "code",
   "execution_count": 13,
   "metadata": {},
   "outputs": [
    {
     "data": {
      "text/plain": [
       "12743    6550\n",
       "4718     6148\n",
       "13159    5986\n",
       "741      5128\n",
       "2956     4565\n",
       "9506     4297\n",
       "7310     4284\n",
       "9164     4066\n",
       "15078    4026\n",
       "6774     4010\n",
       "12974    4000\n",
       "10119    3934\n",
       "8254     3575\n",
       "14120    3575\n",
       "11654    3477\n",
       "1978     3451\n",
       "12225    3327\n",
       "565      3249\n",
       "12837    2990\n",
       "10876    2960\n",
       "Name: item_id, dtype: int64"
      ]
     },
     "execution_count": 13,
     "metadata": {},
     "output_type": "execute_result"
    }
   ],
   "source": [
    "# Get top 20 most viewed films for infants\n",
    "itr_with_desc[itr_with_desc['age_rating'] == 0][Columns.Item].value_counts().head(20)"
   ]
  },
  {
   "cell_type": "code",
   "execution_count": 14,
   "metadata": {},
   "outputs": [
    {
     "data": {
      "text/plain": [
       "8636     35631\n",
       "7571     28372\n",
       "13018    14568\n",
       "16166    13995\n",
       "3784     13744\n",
       "3182     11851\n",
       "11310     9759\n",
       "5411      8158\n",
       "13915     7526\n",
       "7582      7081\n",
       "10761     6877\n",
       "11749     6341\n",
       "11756     5916\n",
       "12537     5687\n",
       "13243     5685\n",
       "15266     5674\n",
       "12965     5305\n",
       "2954      5029\n",
       "11985     4860\n",
       "1554      4800\n",
       "Name: item_id, dtype: int64"
      ]
     },
     "execution_count": 14,
     "metadata": {},
     "output_type": "execute_result"
    }
   ],
   "source": [
    "# Get top 20 most viewed films for kids\n",
    "itr_with_desc[itr_with_desc['age_rating'] == 6][Columns.Item].value_counts().head(20)"
   ]
  },
  {
   "cell_type": "code",
   "execution_count": 15,
   "metadata": {},
   "outputs": [],
   "source": [
    "# Now I select 5 random items from both ratings to create artificial user who is the parent of the child\n",
    "parent_items_ids = [12743, 7310, 7571, 7582, 11985]"
   ]
  },
  {
   "cell_type": "code",
   "execution_count": 16,
   "metadata": {},
   "outputs": [
    {
     "data": {
      "text/html": [
       "<div>\n",
       "<style scoped>\n",
       "    .dataframe tbody tr th:only-of-type {\n",
       "        vertical-align: middle;\n",
       "    }\n",
       "\n",
       "    .dataframe tbody tr th {\n",
       "        vertical-align: top;\n",
       "    }\n",
       "\n",
       "    .dataframe thead th {\n",
       "        text-align: right;\n",
       "    }\n",
       "</style>\n",
       "<table border=\"1\" class=\"dataframe\">\n",
       "  <thead>\n",
       "    <tr style=\"text-align: right;\">\n",
       "      <th></th>\n",
       "      <th>user_id</th>\n",
       "      <th>datetime</th>\n",
       "      <th>total_dur</th>\n",
       "      <th>weight</th>\n",
       "      <th>content_type</th>\n",
       "      <th>title</th>\n",
       "      <th>title_orig</th>\n",
       "      <th>release_year</th>\n",
       "      <th>genres</th>\n",
       "      <th>countries</th>\n",
       "      <th>for_kids</th>\n",
       "      <th>age_rating</th>\n",
       "      <th>studios</th>\n",
       "      <th>directors</th>\n",
       "      <th>actors</th>\n",
       "      <th>description</th>\n",
       "      <th>keywords</th>\n",
       "    </tr>\n",
       "    <tr>\n",
       "      <th>item_id</th>\n",
       "      <th></th>\n",
       "      <th></th>\n",
       "      <th></th>\n",
       "      <th></th>\n",
       "      <th></th>\n",
       "      <th></th>\n",
       "      <th></th>\n",
       "      <th></th>\n",
       "      <th></th>\n",
       "      <th></th>\n",
       "      <th></th>\n",
       "      <th></th>\n",
       "      <th></th>\n",
       "      <th></th>\n",
       "      <th></th>\n",
       "      <th></th>\n",
       "      <th></th>\n",
       "    </tr>\n",
       "  </thead>\n",
       "  <tbody>\n",
       "    <tr>\n",
       "      <th>12743</th>\n",
       "      <td>818936</td>\n",
       "      <td>2021-05-11</td>\n",
       "      <td>2477</td>\n",
       "      <td>3</td>\n",
       "      <td>film</td>\n",
       "      <td>Ледниковый период 4: Континентальный дрейф</td>\n",
       "      <td>Ice Age: Continental Drift</td>\n",
       "      <td>2012.0</td>\n",
       "      <td>мультфильм, приключения, комедии</td>\n",
       "      <td>США</td>\n",
       "      <td>NaN</td>\n",
       "      <td>0.0</td>\n",
       "      <td>NaN</td>\n",
       "      <td>Стив Мартино, Майк Тёрмайер</td>\n",
       "      <td>Рэй Романо, Джон Легуизамо, Куин Латифа, Дэнис...</td>\n",
       "      <td>После приключений под землей прошло семь лет. ...</td>\n",
       "      <td>тюлень (животное), доисторические времена, таю...</td>\n",
       "    </tr>\n",
       "    <tr>\n",
       "      <th>7310</th>\n",
       "      <td>413440</td>\n",
       "      <td>2021-07-23</td>\n",
       "      <td>1</td>\n",
       "      <td>1</td>\n",
       "      <td>film</td>\n",
       "      <td>Гадкий я 2</td>\n",
       "      <td>Despicable Me 2</td>\n",
       "      <td>2013.0</td>\n",
       "      <td>мультфильм, приключения, фантастика, фэнтези, ...</td>\n",
       "      <td>США, Франция, Япония</td>\n",
       "      <td>NaN</td>\n",
       "      <td>0.0</td>\n",
       "      <td>NaN</td>\n",
       "      <td>Пьер Коффан, Крис Рено</td>\n",
       "      <td>Стив Карелл, Кристен Уиг, Бенджамин Брэтт, Мир...</td>\n",
       "      <td>В то время как Грю, бывший суперзлодей, приспо...</td>\n",
       "      <td>отношения родитель-ребенок, секретный агент, п...</td>\n",
       "    </tr>\n",
       "    <tr>\n",
       "      <th>7571</th>\n",
       "      <td>988709</td>\n",
       "      <td>2021-07-07</td>\n",
       "      <td>6558</td>\n",
       "      <td>5</td>\n",
       "      <td>film</td>\n",
       "      <td>100% волк</td>\n",
       "      <td>100% Wolf</td>\n",
       "      <td>2020.0</td>\n",
       "      <td>мультфильм, приключения, семейное, фэнтези, ко...</td>\n",
       "      <td>Австралия, Бельгия</td>\n",
       "      <td>NaN</td>\n",
       "      <td>6.0</td>\n",
       "      <td>NaN</td>\n",
       "      <td>Алекс Стадерманн</td>\n",
       "      <td>Илай Суинделлс, Самара Уивинг, Джай Кортни, Ру...</td>\n",
       "      <td>Наследник семьи оборотней Фредди Люпин отчаянн...</td>\n",
       "      <td>пудель, подростковая тревога, оборотень, приня...</td>\n",
       "    </tr>\n",
       "    <tr>\n",
       "      <th>7582</th>\n",
       "      <td>190790</td>\n",
       "      <td>2021-06-23</td>\n",
       "      <td>14808</td>\n",
       "      <td>5</td>\n",
       "      <td>film</td>\n",
       "      <td>Холодное сердце II</td>\n",
       "      <td>Frozen II</td>\n",
       "      <td>2019.0</td>\n",
       "      <td>фэнтези, мультфильм, музыкальные</td>\n",
       "      <td>США</td>\n",
       "      <td>NaN</td>\n",
       "      <td>6.0</td>\n",
       "      <td>NaN</td>\n",
       "      <td>Крис Бак, Дженнифер Ли</td>\n",
       "      <td>Идина Мензел, Кристен Белл, Джонатан Грофф, Дж...</td>\n",
       "      <td>Анна, Эльза, Кристоф, его верный олень Свен и ...</td>\n",
       "      <td>королева, магия, королевство, плотина, дух, же...</td>\n",
       "    </tr>\n",
       "    <tr>\n",
       "      <th>11985</th>\n",
       "      <td>309469</td>\n",
       "      <td>2021-06-28</td>\n",
       "      <td>808</td>\n",
       "      <td>1</td>\n",
       "      <td>film</td>\n",
       "      <td>История игрушек 4</td>\n",
       "      <td>Toy Story 4</td>\n",
       "      <td>2019.0</td>\n",
       "      <td>мультфильм, фэнтези, комедии</td>\n",
       "      <td>США</td>\n",
       "      <td>NaN</td>\n",
       "      <td>6.0</td>\n",
       "      <td>NaN</td>\n",
       "      <td>Джош Кули</td>\n",
       "      <td>Том Хэнкс, Тим Аллен, Энни Поттс, Тони Хейл, К...</td>\n",
       "      <td>Космический рейнджер Баз Лайтер, ковбой Вуди, ...</td>\n",
       "      <td>игрушка, дружба, ковбой, история игрушек 4, , ...</td>\n",
       "    </tr>\n",
       "  </tbody>\n",
       "</table>\n",
       "</div>"
      ],
      "text/plain": [
       "         user_id   datetime  total_dur  weight content_type  \\\n",
       "item_id                                                       \n",
       "12743     818936 2021-05-11       2477       3         film   \n",
       "7310      413440 2021-07-23          1       1         film   \n",
       "7571      988709 2021-07-07       6558       5         film   \n",
       "7582      190790 2021-06-23      14808       5         film   \n",
       "11985     309469 2021-06-28        808       1         film   \n",
       "\n",
       "                                              title  \\\n",
       "item_id                                               \n",
       "12743    Ледниковый период 4: Континентальный дрейф   \n",
       "7310                                     Гадкий я 2   \n",
       "7571                                      100% волк   \n",
       "7582                             Холодное сердце II   \n",
       "11985                             История игрушек 4   \n",
       "\n",
       "                         title_orig  release_year  \\\n",
       "item_id                                             \n",
       "12743    Ice Age: Continental Drift        2012.0   \n",
       "7310                Despicable Me 2        2013.0   \n",
       "7571                      100% Wolf        2020.0   \n",
       "7582                      Frozen II        2019.0   \n",
       "11985                   Toy Story 4        2019.0   \n",
       "\n",
       "                                                    genres  \\\n",
       "item_id                                                      \n",
       "12743                     мультфильм, приключения, комедии   \n",
       "7310     мультфильм, приключения, фантастика, фэнтези, ...   \n",
       "7571     мультфильм, приключения, семейное, фэнтези, ко...   \n",
       "7582                      фэнтези, мультфильм, музыкальные   \n",
       "11985                         мультфильм, фэнтези, комедии   \n",
       "\n",
       "                    countries  for_kids  age_rating studios  \\\n",
       "item_id                                                       \n",
       "12743                     США       NaN         0.0     NaN   \n",
       "7310     США, Франция, Япония       NaN         0.0     NaN   \n",
       "7571       Австралия, Бельгия       NaN         6.0     NaN   \n",
       "7582                      США       NaN         6.0     NaN   \n",
       "11985                     США       NaN         6.0     NaN   \n",
       "\n",
       "                           directors  \\\n",
       "item_id                                \n",
       "12743    Стив Мартино, Майк Тёрмайер   \n",
       "7310          Пьер Коффан, Крис Рено   \n",
       "7571                Алекс Стадерманн   \n",
       "7582          Крис Бак, Дженнифер Ли   \n",
       "11985                      Джош Кули   \n",
       "\n",
       "                                                    actors  \\\n",
       "item_id                                                      \n",
       "12743    Рэй Романо, Джон Легуизамо, Куин Латифа, Дэнис...   \n",
       "7310     Стив Карелл, Кристен Уиг, Бенджамин Брэтт, Мир...   \n",
       "7571     Илай Суинделлс, Самара Уивинг, Джай Кортни, Ру...   \n",
       "7582     Идина Мензел, Кристен Белл, Джонатан Грофф, Дж...   \n",
       "11985    Том Хэнкс, Тим Аллен, Энни Поттс, Тони Хейл, К...   \n",
       "\n",
       "                                               description  \\\n",
       "item_id                                                      \n",
       "12743    После приключений под землей прошло семь лет. ...   \n",
       "7310     В то время как Грю, бывший суперзлодей, приспо...   \n",
       "7571     Наследник семьи оборотней Фредди Люпин отчаянн...   \n",
       "7582     Анна, Эльза, Кристоф, его верный олень Свен и ...   \n",
       "11985    Космический рейнджер Баз Лайтер, ковбой Вуди, ...   \n",
       "\n",
       "                                                  keywords  \n",
       "item_id                                                     \n",
       "12743    тюлень (животное), доисторические времена, таю...  \n",
       "7310     отношения родитель-ребенок, секретный агент, п...  \n",
       "7571     пудель, подростковая тревога, оборотень, приня...  \n",
       "7582     королева, магия, королевство, плотина, дух, же...  \n",
       "11985    игрушка, дружба, ковбой, история игрушек 4, , ...  "
      ]
     },
     "execution_count": 16,
     "metadata": {},
     "output_type": "execute_result"
    }
   ],
   "source": [
    "# Lets check what I'd choose\n",
    "# P.s: Pretty normal films for kids, nothing special\n",
    "itr_with_desc.drop_duplicates(Columns.Item).set_index(Columns.Item).loc[parent_items_ids]"
   ]
  },
  {
   "cell_type": "code",
   "execution_count": 17,
   "metadata": {},
   "outputs": [],
   "source": [
    "# Ckeck max user id in interactions to get our new user unique id\n",
    "# greater than max\n",
    "parent_id = interactions[Columns.User].max() + 2"
   ]
  },
  {
   "cell_type": "code",
   "execution_count": 18,
   "metadata": {},
   "outputs": [],
   "source": [
    "# Add artificial user \n",
    "users = users.append({\n",
    "    Columns.User: parent_id,\n",
    "    'age': 'age_25_34',\n",
    "    'income': 'income_60_90',\n",
    "    'sex': 'Ж',\n",
    "    'kids_flg': 1\n",
    "}, ignore_index=True)"
   ]
  },
  {
   "cell_type": "code",
   "execution_count": 19,
   "metadata": {},
   "outputs": [],
   "source": [
    "# And her interactions\n",
    "interactions = interactions.append([\n",
    "    {\n",
    "        Columns.User: parent_id,\n",
    "        Columns.Item: parent_items_ids[0],\n",
    "        Columns.Datetime: np.datetime64('2021-06-12'),\n",
    "        'total_dur': 0,\n",
    "        Columns.Weight: 5\n",
    "    },\n",
    "    {\n",
    "        Columns.User: parent_id,\n",
    "        Columns.Item: parent_items_ids[1],\n",
    "        Columns.Datetime: np.datetime64('2021-06-15'),\n",
    "        'total_dur': 0,\n",
    "        Columns.Weight: 4\n",
    "    },\n",
    "    {\n",
    "        Columns.User: parent_id,\n",
    "        Columns.Item: parent_items_ids[2],\n",
    "        Columns.Datetime: np.datetime64('2021-06-24'),\n",
    "        'total_dur': 0,\n",
    "        Columns.Weight: 3\n",
    "    },\n",
    "    {\n",
    "        Columns.User: parent_id,\n",
    "        Columns.Item: parent_items_ids[3],\n",
    "        Columns.Datetime: np.datetime64('2021-07-01'),\n",
    "        'total_dur': 0,\n",
    "        Columns.Weight: 5\n",
    "    },\n",
    "    {\n",
    "        Columns.User: parent_id,\n",
    "        Columns.Item: parent_items_ids[4],\n",
    "        Columns.Datetime: np.datetime64('2021-08-02'),\n",
    "        'total_dur': 0,\n",
    "        Columns.Weight: 5\n",
    "    }\n",
    "])"
   ]
  },
  {
   "cell_type": "markdown",
   "metadata": {},
   "source": [
    "### Case 2: A fan of superheroics"
   ]
  },
  {
   "cell_type": "code",
   "execution_count": 20,
   "metadata": {},
   "outputs": [],
   "source": [
    "fan_items_ids = []"
   ]
  },
  {
   "cell_type": "code",
   "execution_count": 21,
   "metadata": {},
   "outputs": [],
   "source": [
    "# So, I have selected 5 Marvel movies in the order of their release\n",
    "fan_items_ids.append(itr_with_desc[itr_with_desc['title'] == 'Мстители'].item_id.iloc[0])\n",
    "fan_items_ids.append(itr_with_desc[itr_with_desc['title'] == 'Первый мститель: Другая война'].item_id.iloc[0])\n",
    "fan_items_ids.append(itr_with_desc[itr_with_desc['title'] == 'Доктор Стрэндж'].item_id.iloc[0])\n",
    "fan_items_ids.append(itr_with_desc[itr_with_desc['title'] == 'Человек-паук: Возвращение домой'].item_id.iloc[0])\n",
    "fan_items_ids.append(itr_with_desc[itr_with_desc['title'] == 'Тор: Рагнарёк'].item_id.iloc[0])"
   ]
  },
  {
   "cell_type": "code",
   "execution_count": 22,
   "metadata": {},
   "outputs": [],
   "source": [
    "# Ckeck max user id in interactions to get our new user unique id\n",
    "# greater than max\n",
    "fan_id = interactions[Columns.User].max() + 2"
   ]
  },
  {
   "cell_type": "code",
   "execution_count": 23,
   "metadata": {},
   "outputs": [],
   "source": [
    "# Add artificial user \n",
    "users = users.append({\n",
    "    Columns.User: fan_id,\n",
    "    'age': 'age_18_24',\n",
    "    'income': 'income_20_40',\n",
    "    'sex': 'М',\n",
    "    'kids_flg': 0\n",
    "}, ignore_index=True)"
   ]
  },
  {
   "cell_type": "code",
   "execution_count": 24,
   "metadata": {},
   "outputs": [],
   "source": [
    "# And his interactions\n",
    "interactions = interactions.append([\n",
    "    {\n",
    "        Columns.User: fan_id,\n",
    "        Columns.Item: fan_items_ids[0],\n",
    "        Columns.Datetime: np.datetime64('2021-06-20'),\n",
    "        'total_dur': 0,\n",
    "        'weight': 4\n",
    "    },\n",
    "    {\n",
    "        Columns.User: fan_id,\n",
    "        Columns.Item: fan_items_ids[1],\n",
    "        Columns.Datetime: np.datetime64('2021-06-27'),\n",
    "        'total_dur': 0,\n",
    "        'weight': 2\n",
    "    },\n",
    "    {\n",
    "        Columns.User: fan_id,\n",
    "        Columns.Item: fan_items_ids[2],\n",
    "        Columns.Datetime: np.datetime64('2021-07-08'),\n",
    "        'total_dur': 0,\n",
    "        'weight': 5\n",
    "    },\n",
    "    {\n",
    "        Columns.User: fan_id,\n",
    "        Columns.Item: fan_items_ids[3],\n",
    "        Columns.Datetime: np.datetime64('2021-07-20'),\n",
    "        'total_dur': 0,\n",
    "        'weight': 5\n",
    "    },\n",
    "    {\n",
    "        Columns.User: fan_id,\n",
    "        Columns.Item: fan_items_ids[4],\n",
    "        Columns.Datetime: np.datetime64('2021-08-01'),\n",
    "        'total_dur': 0,\n",
    "        'weight': 5\n",
    "    }\n",
    "])"
   ]
  },
  {
   "cell_type": "markdown",
   "metadata": {},
   "source": [
    "### Case 3: Born in the USSR"
   ]
  },
  {
   "cell_type": "code",
   "execution_count": 25,
   "metadata": {},
   "outputs": [
    {
     "data": {
      "text/plain": [
       "1012     34\n",
       "6843     23\n",
       "14471    18\n",
       "8016     16\n",
       "15899    16\n",
       "15242    16\n",
       "6996     14\n",
       "4328     13\n",
       "13724    13\n",
       "5393     13\n",
       "8003     13\n",
       "1202     12\n",
       "2291     10\n",
       "8248     10\n",
       "12962     9\n",
       "14939     9\n",
       "2211      9\n",
       "9512      8\n",
       "8189      8\n",
       "5659      7\n",
       "Name: item_id, dtype: int64"
      ]
     },
     "execution_count": 25,
     "metadata": {},
     "output_type": "execute_result"
    }
   ],
   "source": [
    "# Lets choose from Lenfilm popular films\n",
    "itr_with_desc[itr_with_desc['studios'] == 'Ленфильм'][Columns.Item].value_counts().head(20)"
   ]
  },
  {
   "cell_type": "code",
   "execution_count": 26,
   "metadata": {},
   "outputs": [],
   "source": [
    "old_man_items_ids = [1012, 14471, 15899, 2291, 5659]"
   ]
  },
  {
   "cell_type": "code",
   "execution_count": 27,
   "metadata": {},
   "outputs": [
    {
     "data": {
      "text/html": [
       "<div>\n",
       "<style scoped>\n",
       "    .dataframe tbody tr th:only-of-type {\n",
       "        vertical-align: middle;\n",
       "    }\n",
       "\n",
       "    .dataframe tbody tr th {\n",
       "        vertical-align: top;\n",
       "    }\n",
       "\n",
       "    .dataframe thead th {\n",
       "        text-align: right;\n",
       "    }\n",
       "</style>\n",
       "<table border=\"1\" class=\"dataframe\">\n",
       "  <thead>\n",
       "    <tr style=\"text-align: right;\">\n",
       "      <th></th>\n",
       "      <th>user_id</th>\n",
       "      <th>datetime</th>\n",
       "      <th>total_dur</th>\n",
       "      <th>weight</th>\n",
       "      <th>content_type</th>\n",
       "      <th>title</th>\n",
       "      <th>title_orig</th>\n",
       "      <th>release_year</th>\n",
       "      <th>genres</th>\n",
       "      <th>countries</th>\n",
       "      <th>for_kids</th>\n",
       "      <th>age_rating</th>\n",
       "      <th>studios</th>\n",
       "      <th>directors</th>\n",
       "      <th>actors</th>\n",
       "      <th>description</th>\n",
       "      <th>keywords</th>\n",
       "    </tr>\n",
       "    <tr>\n",
       "      <th>item_id</th>\n",
       "      <th></th>\n",
       "      <th></th>\n",
       "      <th></th>\n",
       "      <th></th>\n",
       "      <th></th>\n",
       "      <th></th>\n",
       "      <th></th>\n",
       "      <th></th>\n",
       "      <th></th>\n",
       "      <th></th>\n",
       "      <th></th>\n",
       "      <th></th>\n",
       "      <th></th>\n",
       "      <th></th>\n",
       "      <th></th>\n",
       "      <th></th>\n",
       "      <th></th>\n",
       "    </tr>\n",
       "  </thead>\n",
       "  <tbody>\n",
       "    <tr>\n",
       "      <th>1012</th>\n",
       "      <td>865583</td>\n",
       "      <td>2021-04-14</td>\n",
       "      <td>6020</td>\n",
       "      <td>5</td>\n",
       "      <td>film</td>\n",
       "      <td>Свадьба в Малиновке</td>\n",
       "      <td>NaN</td>\n",
       "      <td>1967.0</td>\n",
       "      <td>музыкальные, советские, мелодрамы, семейное, к...</td>\n",
       "      <td>СССР</td>\n",
       "      <td>NaN</td>\n",
       "      <td>12.0</td>\n",
       "      <td>Ленфильм</td>\n",
       "      <td>Андрей Тутышкин</td>\n",
       "      <td>Александр Орлов, Алексей Смирнов, Андрей Абрик...</td>\n",
       "      <td>Великолепная экранизация оперетты Б.Александро...</td>\n",
       "      <td>Свадьба, Малиновке, 1967, СССР, свадьбы, любов...</td>\n",
       "    </tr>\n",
       "    <tr>\n",
       "      <th>14471</th>\n",
       "      <td>58766</td>\n",
       "      <td>2021-07-08</td>\n",
       "      <td>140</td>\n",
       "      <td>1</td>\n",
       "      <td>film</td>\n",
       "      <td>Афганский излом</td>\n",
       "      <td>NaN</td>\n",
       "      <td>1991.0</td>\n",
       "      <td>драмы, советские, военные</td>\n",
       "      <td>СССР</td>\n",
       "      <td>NaN</td>\n",
       "      <td>16.0</td>\n",
       "      <td>Ленфильм</td>\n",
       "      <td>Владимир Бортко</td>\n",
       "      <td>Алексей Серебряков, Алессандро Стефанелли, Арт...</td>\n",
       "      <td>Наконец-то мечта тысяч поклонников сериала «Сп...</td>\n",
       "      <td>Афганский, излом, 1991, СССР, армия, преступле...</td>\n",
       "    </tr>\n",
       "    <tr>\n",
       "      <th>15899</th>\n",
       "      <td>305747</td>\n",
       "      <td>2021-08-20</td>\n",
       "      <td>6993</td>\n",
       "      <td>5</td>\n",
       "      <td>film</td>\n",
       "      <td>На войне как на войне</td>\n",
       "      <td>NaN</td>\n",
       "      <td>1968.0</td>\n",
       "      <td>исторические, советские, военные</td>\n",
       "      <td>СССР</td>\n",
       "      <td>NaN</td>\n",
       "      <td>12.0</td>\n",
       "      <td>Ленфильм</td>\n",
       "      <td>Виктор Трегубович</td>\n",
       "      <td>Валентин Зубков, Виктор Павлов, Михаил Глузски...</td>\n",
       "      <td>Михаил Кононов и Олег Борисов в фильме, посвящ...</td>\n",
       "      <td>войне, как, войне, 1968, СССР, армия, Великая,...</td>\n",
       "    </tr>\n",
       "    <tr>\n",
       "      <th>2291</th>\n",
       "      <td>177183</td>\n",
       "      <td>2021-08-15</td>\n",
       "      <td>2387</td>\n",
       "      <td>3</td>\n",
       "      <td>film</td>\n",
       "      <td>Укротительница тигров</td>\n",
       "      <td>NaN</td>\n",
       "      <td>1954.0</td>\n",
       "      <td>советские, комедии, мелодрамы</td>\n",
       "      <td>СССР</td>\n",
       "      <td>NaN</td>\n",
       "      <td>0.0</td>\n",
       "      <td>Ленфильм</td>\n",
       "      <td>Александр Ивановский, Надежда Кошеверова</td>\n",
       "      <td>Леонид Быков, Людмила Касаткина, Павел Кадочни...</td>\n",
       "      <td>Людмила Касаткина и Павел Кадочников в культов...</td>\n",
       "      <td>Укротительница, тигров, 1954, СССР, животные, ...</td>\n",
       "    </tr>\n",
       "    <tr>\n",
       "      <th>5659</th>\n",
       "      <td>682190</td>\n",
       "      <td>2021-04-05</td>\n",
       "      <td>3910</td>\n",
       "      <td>5</td>\n",
       "      <td>film</td>\n",
       "      <td>Планета бурь</td>\n",
       "      <td>NaN</td>\n",
       "      <td>1961.0</td>\n",
       "      <td>фантастика, семейное, советские</td>\n",
       "      <td>СССР</td>\n",
       "      <td>NaN</td>\n",
       "      <td>12.0</td>\n",
       "      <td>Ленфильм</td>\n",
       "      <td>Павел Клушанцев</td>\n",
       "      <td>Владимир Емельянов, Геннадий Вернов, Георгий Ж...</td>\n",
       "      <td>Научно-фантастический фильм о первой междунаро...</td>\n",
       "      <td>Планета, бурь, 1961, СССР, выживание, диких, у...</td>\n",
       "    </tr>\n",
       "  </tbody>\n",
       "</table>\n",
       "</div>"
      ],
      "text/plain": [
       "         user_id   datetime  total_dur  weight content_type  \\\n",
       "item_id                                                       \n",
       "1012      865583 2021-04-14       6020       5         film   \n",
       "14471      58766 2021-07-08        140       1         film   \n",
       "15899     305747 2021-08-20       6993       5         film   \n",
       "2291      177183 2021-08-15       2387       3         film   \n",
       "5659      682190 2021-04-05       3910       5         film   \n",
       "\n",
       "                         title title_orig  release_year  \\\n",
       "item_id                                                   \n",
       "1012       Свадьба в Малиновке        NaN        1967.0   \n",
       "14471          Афганский излом        NaN        1991.0   \n",
       "15899    На войне как на войне        NaN        1968.0   \n",
       "2291     Укротительница тигров        NaN        1954.0   \n",
       "5659              Планета бурь        NaN        1961.0   \n",
       "\n",
       "                                                    genres countries  \\\n",
       "item_id                                                                \n",
       "1012     музыкальные, советские, мелодрамы, семейное, к...      СССР   \n",
       "14471                            драмы, советские, военные      СССР   \n",
       "15899                     исторические, советские, военные      СССР   \n",
       "2291                         советские, комедии, мелодрамы      СССР   \n",
       "5659                       фантастика, семейное, советские      СССР   \n",
       "\n",
       "         for_kids  age_rating   studios  \\\n",
       "item_id                                   \n",
       "1012          NaN        12.0  Ленфильм   \n",
       "14471         NaN        16.0  Ленфильм   \n",
       "15899         NaN        12.0  Ленфильм   \n",
       "2291          NaN         0.0  Ленфильм   \n",
       "5659          NaN        12.0  Ленфильм   \n",
       "\n",
       "                                        directors  \\\n",
       "item_id                                             \n",
       "1012                              Андрей Тутышкин   \n",
       "14471                             Владимир Бортко   \n",
       "15899                           Виктор Трегубович   \n",
       "2291     Александр Ивановский, Надежда Кошеверова   \n",
       "5659                              Павел Клушанцев   \n",
       "\n",
       "                                                    actors  \\\n",
       "item_id                                                      \n",
       "1012     Александр Орлов, Алексей Смирнов, Андрей Абрик...   \n",
       "14471    Алексей Серебряков, Алессандро Стефанелли, Арт...   \n",
       "15899    Валентин Зубков, Виктор Павлов, Михаил Глузски...   \n",
       "2291     Леонид Быков, Людмила Касаткина, Павел Кадочни...   \n",
       "5659     Владимир Емельянов, Геннадий Вернов, Георгий Ж...   \n",
       "\n",
       "                                               description  \\\n",
       "item_id                                                      \n",
       "1012     Великолепная экранизация оперетты Б.Александро...   \n",
       "14471    Наконец-то мечта тысяч поклонников сериала «Сп...   \n",
       "15899    Михаил Кононов и Олег Борисов в фильме, посвящ...   \n",
       "2291     Людмила Касаткина и Павел Кадочников в культов...   \n",
       "5659     Научно-фантастический фильм о первой междунаро...   \n",
       "\n",
       "                                                  keywords  \n",
       "item_id                                                     \n",
       "1012     Свадьба, Малиновке, 1967, СССР, свадьбы, любов...  \n",
       "14471    Афганский, излом, 1991, СССР, армия, преступле...  \n",
       "15899    войне, как, войне, 1968, СССР, армия, Великая,...  \n",
       "2291     Укротительница, тигров, 1954, СССР, животные, ...  \n",
       "5659     Планета, бурь, 1961, СССР, выживание, диких, у...  "
      ]
     },
     "execution_count": 27,
     "metadata": {},
     "output_type": "execute_result"
    }
   ],
   "source": [
    "# Lets check what I'd choose\n",
    "# P.s: Pretty normal films for old soviet dedushka\n",
    "itr_with_desc.drop_duplicates(Columns.Item).set_index(Columns.Item).loc[old_man_items_ids]"
   ]
  },
  {
   "cell_type": "code",
   "execution_count": 28,
   "metadata": {},
   "outputs": [],
   "source": [
    "# Ckeck max user id in interactions to get our new user unique id\n",
    "# greater than max\n",
    "old_man_id = interactions[Columns.User].max() + 2"
   ]
  },
  {
   "cell_type": "code",
   "execution_count": 29,
   "metadata": {},
   "outputs": [],
   "source": [
    "# Add artificial user \n",
    "users = users.append({\n",
    "    Columns.User: old_man_id,\n",
    "    'age': 'age_65_inf',\n",
    "    'income': 'income_20_40',\n",
    "    'sex': 'М',\n",
    "    'kids_flg': 0\n",
    "}, ignore_index=True)"
   ]
  },
  {
   "cell_type": "code",
   "execution_count": 30,
   "metadata": {},
   "outputs": [],
   "source": [
    "# And his interactions\n",
    "interactions = interactions.append([\n",
    "    {\n",
    "        Columns.User: old_man_id,\n",
    "        Columns.Item: old_man_items_ids[0],\n",
    "        Columns.Datetime: np.datetime64('2021-06-12'),\n",
    "        'total_dur': 0,\n",
    "        'weight': 5\n",
    "    },\n",
    "    {\n",
    "        Columns.User: old_man_id,\n",
    "        Columns.Item: old_man_items_ids[1],\n",
    "        Columns.Datetime: np.datetime64('2021-06-15'),\n",
    "        'total_dur': 0,\n",
    "        'weight': 5\n",
    "    },\n",
    "    {\n",
    "        Columns.User: old_man_id,\n",
    "        Columns.Item: old_man_items_ids[2],\n",
    "        Columns.Datetime: np.datetime64('2021-06-24'),\n",
    "        'total_dur': 0,\n",
    "        'weight': 5\n",
    "    },\n",
    "    {\n",
    "        Columns.User: old_man_id,\n",
    "        Columns.Item: old_man_items_ids[3],\n",
    "        Columns.Datetime: np.datetime64('2021-07-01'),\n",
    "        'total_dur': 0,\n",
    "        'weight': 5\n",
    "    },\n",
    "    {\n",
    "        Columns.User: old_man_id,\n",
    "        Columns.Item: old_man_items_ids[4],\n",
    "        Columns.Datetime: np.datetime64('2021-08-02'),\n",
    "        'total_dur': 0,\n",
    "        'weight': 4\n",
    "    }\n",
    "])"
   ]
  },
  {
   "cell_type": "code",
   "execution_count": 31,
   "metadata": {},
   "outputs": [],
   "source": [
    "artificial_users_ids = [parent_id, fan_id, old_man_id]"
   ]
  },
  {
   "cell_type": "code",
   "execution_count": 32,
   "metadata": {},
   "outputs": [
    {
     "data": {
      "text/plain": [
       "[1097559, 1097561, 1097563]"
      ]
     },
     "execution_count": 32,
     "metadata": {},
     "output_type": "execute_result"
    }
   ],
   "source": [
    "artificial_users_ids"
   ]
  },
  {
   "cell_type": "markdown",
   "metadata": {},
   "source": [
    "### Preparation of users dataframe"
   ]
  },
  {
   "cell_type": "code",
   "execution_count": 33,
   "metadata": {},
   "outputs": [],
   "source": [
    "# Drop all users whose interactions were dropped at the last stage of preprocessing\n",
    "users = users.loc[users[Columns.User].isin(interactions[Columns.User])]"
   ]
  },
  {
   "cell_type": "code",
   "execution_count": 34,
   "metadata": {},
   "outputs": [
    {
     "data": {
      "text/html": [
       "<div>\n",
       "<style scoped>\n",
       "    .dataframe tbody tr th:only-of-type {\n",
       "        vertical-align: middle;\n",
       "    }\n",
       "\n",
       "    .dataframe tbody tr th {\n",
       "        vertical-align: top;\n",
       "    }\n",
       "\n",
       "    .dataframe thead th {\n",
       "        text-align: right;\n",
       "    }\n",
       "</style>\n",
       "<table border=\"1\" class=\"dataframe\">\n",
       "  <thead>\n",
       "    <tr style=\"text-align: right;\">\n",
       "      <th></th>\n",
       "      <th>id</th>\n",
       "      <th>value</th>\n",
       "      <th>feature</th>\n",
       "    </tr>\n",
       "  </thead>\n",
       "  <tbody>\n",
       "    <tr>\n",
       "      <th>0</th>\n",
       "      <td>973171</td>\n",
       "      <td>М</td>\n",
       "      <td>sex</td>\n",
       "    </tr>\n",
       "    <tr>\n",
       "      <th>1</th>\n",
       "      <td>962099</td>\n",
       "      <td>М</td>\n",
       "      <td>sex</td>\n",
       "    </tr>\n",
       "    <tr>\n",
       "      <th>3</th>\n",
       "      <td>721985</td>\n",
       "      <td>Ж</td>\n",
       "      <td>sex</td>\n",
       "    </tr>\n",
       "    <tr>\n",
       "      <th>4</th>\n",
       "      <td>704055</td>\n",
       "      <td>Ж</td>\n",
       "      <td>sex</td>\n",
       "    </tr>\n",
       "    <tr>\n",
       "      <th>5</th>\n",
       "      <td>1037719</td>\n",
       "      <td>М</td>\n",
       "      <td>sex</td>\n",
       "    </tr>\n",
       "  </tbody>\n",
       "</table>\n",
       "</div>"
      ],
      "text/plain": [
       "        id value feature\n",
       "0   973171     М     sex\n",
       "1   962099     М     sex\n",
       "3   721985     Ж     sex\n",
       "4   704055     Ж     sex\n",
       "5  1037719     М     sex"
      ]
     },
     "execution_count": 34,
     "metadata": {},
     "output_type": "execute_result"
    }
   ],
   "source": [
    "# Add some user's features like sex, age group and income group\n",
    "user_features_frames = []\n",
    "for feature in [\"sex\", \"age\", \"income\"]:\n",
    "    feature_frame = users.reindex(columns=[Columns.User, feature])\n",
    "    feature_frame.columns = [\"id\", \"value\"]\n",
    "    feature_frame[\"feature\"] = feature\n",
    "    user_features_frames.append(feature_frame)\n",
    "user_features = pd.concat(user_features_frames)\n",
    "user_features.head()"
   ]
  },
  {
   "cell_type": "markdown",
   "metadata": {},
   "source": [
    "## Saving prepared data"
   ]
  },
  {
   "cell_type": "code",
   "execution_count": 35,
   "metadata": {},
   "outputs": [],
   "source": [
    "interactions.to_csv(DATA_SAVE_PATH / 'au_interactions_full.csv', index=False)\n",
    "users.to_csv(DATA_SAVE_PATH / 'au_users_full.csv', index=False)"
   ]
  },
  {
   "cell_type": "code",
   "execution_count": 36,
   "metadata": {},
   "outputs": [],
   "source": [
    "user_features.to_csv(DATA_SAVE_PATH / 'au_featured_users_full.csv', index=False)"
   ]
  },
  {
   "cell_type": "code",
   "execution_count": 37,
   "metadata": {},
   "outputs": [],
   "source": [
    "items.drop([\n",
    "    'title_orig',\n",
    "    'for_kids',\n",
    "    'studios',\n",
    "    'directors',\n",
    "    'actors',\n",
    "    'description',\n",
    "    'keywords'\n",
    "], axis = 1).to_csv(DATA_SAVE_PATH / 'items_descriptions_cleared.csv', index=False)"
   ]
  },
  {
   "cell_type": "markdown",
   "metadata": {},
   "source": [
    "## Deleting unnecessary files"
   ]
  },
  {
   "cell_type": "code",
   "execution_count": 38,
   "metadata": {},
   "outputs": [],
   "source": [
    "os.remove('kion.zip')\n",
    "\n",
    "os.remove('data_original/interactions.csv')\n",
    "os.remove('data_original/items.csv')\n",
    "os.remove('data_original/users.csv')\n",
    "os.rmdir('data_original') "
   ]
  },
  {
   "cell_type": "code",
   "execution_count": null,
   "metadata": {},
   "outputs": [],
   "source": []
  }
 ],
 "metadata": {
  "kernelspec": {
   "display_name": "Python 3",
   "language": "python",
   "name": "python3"
  },
  "language_info": {
   "codemirror_mode": {
    "name": "ipython",
    "version": 3
   },
   "file_extension": ".py",
   "mimetype": "text/x-python",
   "name": "python",
   "nbconvert_exporter": "python",
   "pygments_lexer": "ipython3",
   "version": "3.8.8"
  }
 },
 "nbformat": 4,
 "nbformat_minor": 4
}
